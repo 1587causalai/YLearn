{
 "cells": [
  {
   "cell_type": "code",
   "execution_count": 1,
   "metadata": {},
   "outputs": [],
   "source": [
    "import pandas as pd\n",
    "import numpy as np\n",
    "\n",
    "import torch\n",
    "import torch.nn as nn\n",
    "import torch.nn.functional as F\n",
    "import torch.optim as optim\n",
    "from torch.utils.data import DataLoader\n",
    "\n",
    "\n",
    "from estimator_model.deepiv import Net, NetWrapper, DeepIV, MixtureDensityNetwork, MDNWrapper\n",
    "from estimator_model.utils import BatchData, DiscreteOBatchData"
   ]
  },
  {
   "cell_type": "markdown",
   "metadata": {},
   "source": [
    "## We divide this notebook into 3 sections, where we\n",
    "1. ### test Net and NetWrapper in the first section\n",
    "2. ### test MDN and MDNWrapper in the second section\n",
    "3. ### test deepiv in the final section."
   ]
  },
  {
   "cell_type": "markdown",
   "metadata": {},
   "source": [
    "### Section 1\n",
    "\n",
    "- continuous input, continuous output"
   ]
  },
  {
   "cell_type": "code",
   "execution_count": 2,
   "metadata": {},
   "outputs": [
    {
     "name": "stdout",
     "output_type": "stream",
     "text": [
      "Finished 1/10 epochs | current loss 1.4168747663497925\n",
      "Finished 2/10 epochs | current loss 0.7672350406646729\n",
      "Finished 3/10 epochs | current loss 0.7138416767120361\n",
      "Finished 4/10 epochs | current loss 0.6304697394371033\n",
      "Finished 5/10 epochs | current loss 0.4455448091030121\n",
      "Finished 6/10 epochs | current loss 0.6301072835922241\n",
      "Finished 7/10 epochs | current loss 0.5874323844909668\n",
      "Finished 8/10 epochs | current loss 0.4888414442539215\n",
      "Finished 9/10 epochs | current loss 0.4021173417568207\n",
      "Finished 10/10 epochs | current loss 0.33288058638572693\n"
     ]
    },
    {
     "data": {
      "text/plain": [
       "tensor([-0.0966], grad_fn=<MeanBackward1>)"
      ]
     },
     "execution_count": 2,
     "metadata": {},
     "output_type": "execute_result"
    }
   ],
   "source": [
    "net = Net(x_d=1, w_d=1, out_d=1)\n",
    "net_wrapped = NetWrapper(net, is_y_net=False)\n",
    "x = torch.normal(0, 1, size=(1000, 1))\n",
    "w = torch.ones(1000, 1)\n",
    "\n",
    "def f(x, w):\n",
    "    return x * x + torch.exp(x) + 3 * w\n",
    "\n",
    "target = f(x, w)\n",
    "\n",
    "net_wrapped.fit(\n",
    "    x=x,\n",
    "    w=w,\n",
    "    target=target,\n",
    "    device='cpu',\n",
    "    epoch=10,\n",
    ")\n",
    "((net_wrapped.predict(x, w) - f(x, w)) / f(x, w)).mean(dim=0)"
   ]
  },
  {
   "cell_type": "markdown",
   "metadata": {},
   "source": [
    "- contiuous input, discrete output"
   ]
  },
  {
   "cell_type": "code",
   "execution_count": 3,
   "metadata": {},
   "outputs": [],
   "source": [
    "out_d = 5\n",
    "net = Net(x_d=1, w_d=1, out_d=out_d, is_discrete_output=True)\n",
    "sm = nn.Softmax(dim=1)\n",
    "loss = nn.CrossEntropyLoss()\n",
    "result = sm(net(torch.ones(5, 1), torch.randn(5, 1)))\n",
    "l = loss(result, torch.eye(5, 5))\n",
    "l.backward()"
   ]
  },
  {
   "cell_type": "code",
   "execution_count": 4,
   "metadata": {},
   "outputs": [
    {
     "name": "stdout",
     "output_type": "stream",
     "text": [
      "Finished 1/20 epochs | current loss 0.5196241140365601\n",
      "Finished 2/20 epochs | current loss 0.41504520177841187\n",
      "Finished 3/20 epochs | current loss 0.33952856063842773\n",
      "Finished 4/20 epochs | current loss 0.28176793456077576\n",
      "Finished 5/20 epochs | current loss 0.2374466210603714\n",
      "Finished 6/20 epochs | current loss 0.20354294776916504\n",
      "Finished 7/20 epochs | current loss 0.1771501749753952\n",
      "Finished 8/20 epochs | current loss 0.15626473724842072\n",
      "Finished 9/20 epochs | current loss 0.13959136605262756\n",
      "Finished 10/20 epochs | current loss 0.126083642244339\n",
      "Finished 11/20 epochs | current loss 0.11498582363128662\n",
      "Finished 12/20 epochs | current loss 0.10568921267986298\n",
      "Finished 13/20 epochs | current loss 0.09783084690570831\n",
      "Finished 14/20 epochs | current loss 0.09112057834863663\n",
      "Finished 15/20 epochs | current loss 0.08530230820178986\n",
      "Finished 16/20 epochs | current loss 0.08023881912231445\n",
      "Finished 17/20 epochs | current loss 0.0758025273680687\n",
      "Finished 18/20 epochs | current loss 0.07185597717761993\n",
      "Finished 19/20 epochs | current loss 0.06833036243915558\n",
      "Finished 20/20 epochs | current loss 0.06515483558177948\n"
     ]
    },
    {
     "data": {
      "text/plain": [
       "tensor(5.4983, grad_fn=<NllLossBackward0>)"
      ]
     },
     "execution_count": 4,
     "metadata": {},
     "output_type": "execute_result"
    }
   ],
   "source": [
    "x = torch.normal(0, 1, size=(1000, 1))\n",
    "w = torch.normal(1, 2, size=(1000, 1))\n",
    "\n",
    "def f(x, w):\n",
    "    xw = torch.cat((x, w), dim=1)\n",
    "    weight = torch.normal(0, 1, size=(xw.shape[1], 1))\n",
    "    label_sign = torch.einsum('nd,dc->nc', [xw, weight])\n",
    "    label = (label_sign > 0).to(int).squeeze()\n",
    "    return F.one_hot(label)\n",
    "\n",
    "target = f(x, w)\n",
    "\n",
    "net = Net(1, 1, 2, is_discrete_output=True)\n",
    "net_wrapped = NetWrapper(net=net, is_y_net=False)\n",
    "net_wrapped.fit(x, w, target=target, device='cpu', epoch=20)\n",
    "# training loss\n",
    "nn.NLLLoss()(torch.log(net_wrapped.predict_proba(x, w)), torch.argmax(f(x, w), dim=1))"
   ]
  },
  {
   "cell_type": "markdown",
   "metadata": {},
   "source": [
    "- discrete input, discret output"
   ]
  },
  {
   "cell_type": "code",
   "execution_count": 5,
   "metadata": {},
   "outputs": [],
   "source": [
    "net = Net(x_d=3, w_d=1, out_d=5, is_discrete_input=True, is_discrete_output=True)\n",
    "sm = nn.Softmax(dim=1)\n",
    "loss = nn.CrossEntropyLoss()\n",
    "x_input = torch.randint(0, 3, size=(5,)).squeeze()\n",
    "w_input = torch.ones(5, 1)\n",
    "result = sm(net(x_input, w_input))\n",
    "l = loss(result, torch.eye(5, 5))\n",
    "l.backward()"
   ]
  },
  {
   "cell_type": "code",
   "execution_count": 6,
   "metadata": {},
   "outputs": [
    {
     "name": "stdout",
     "output_type": "stream",
     "text": [
      "Finished 1/10 epochs | current loss 0.6673639416694641\n",
      "Finished 2/10 epochs | current loss 0.6112226843833923\n",
      "Finished 3/10 epochs | current loss 0.557029664516449\n",
      "Finished 4/10 epochs | current loss 0.5023502707481384\n",
      "Finished 5/10 epochs | current loss 0.4469907879829407\n",
      "Finished 6/10 epochs | current loss 0.39333924651145935\n",
      "Finished 7/10 epochs | current loss 0.3435899615287781\n",
      "Finished 8/10 epochs | current loss 0.2993813753128052\n",
      "Finished 9/10 epochs | current loss 0.2614312171936035\n",
      "Finished 10/10 epochs | current loss 0.2295801192522049\n"
     ]
    },
    {
     "data": {
      "text/plain": [
       "tensor(0.7294, grad_fn=<NllLossBackward0>)"
      ]
     },
     "execution_count": 6,
     "metadata": {},
     "output_type": "execute_result"
    }
   ],
   "source": [
    "x = torch.eye(1000, 5).index_select(dim=0, index=torch.randint(0, 5, size=(1000,)))\n",
    "w = torch.normal(0, 1, size=(1000, 1))\n",
    "\n",
    "def f(x, w):\n",
    "    xw = torch.cat((x, w), dim=1)\n",
    "    weight = torch.normal(0, 1, size=(xw.shape[1], 1))\n",
    "    label_sign = torch.einsum('nd,dc->nc', [xw, weight])\n",
    "    label = (label_sign > 0).to(int).squeeze()\n",
    "    return F.one_hot(label)\n",
    "\n",
    "target = f(x, w)\n",
    "\n",
    "net = Net(x_d=5, w_d=1, out_d=2, is_discrete_output=True, is_discrete_input=True)\n",
    "net_wrapped = NetWrapper(net)\n",
    "net_wrapped.fit(x, w, target=target, device='cpu', epoch=10)\n",
    "nn.NLLLoss()(torch.log(net_wrapped.predict_proba(x, w)), torch.argmax(f(x, w), dim=1))"
   ]
  },
  {
   "cell_type": "markdown",
   "metadata": {},
   "source": [
    "- discrete input, continuous output"
   ]
  },
  {
   "cell_type": "code",
   "execution_count": 7,
   "metadata": {},
   "outputs": [],
   "source": [
    "net = Net(x_d=3, w_d=1, out_d=1, is_discrete_input=True, is_discrete_output=False)\n",
    "sm = nn.Softmax(dim=1)\n",
    "loss = nn.MSELoss()\n",
    "x_input = torch.randint(0, 3, size=(5,)).squeeze()\n",
    "w_input = torch.ones(5, 1)\n",
    "result = sm(net(x_input, w_input))\n",
    "l = loss(result, torch.ones(5, 1))\n",
    "l.backward()"
   ]
  },
  {
   "cell_type": "code",
   "execution_count": 8,
   "metadata": {},
   "outputs": [
    {
     "name": "stdout",
     "output_type": "stream",
     "text": [
      "Finished 1/10 epochs | current loss 0.9778620600700378\n",
      "Finished 2/10 epochs | current loss 0.18882359564304352\n",
      "Finished 3/10 epochs | current loss 0.10571161657571793\n",
      "Finished 4/10 epochs | current loss 0.06292218714952469\n",
      "Finished 5/10 epochs | current loss 0.03989410400390625\n",
      "Finished 6/10 epochs | current loss 0.026483479887247086\n",
      "Finished 7/10 epochs | current loss 0.01816629432141781\n",
      "Finished 8/10 epochs | current loss 0.01276762317866087\n",
      "Finished 9/10 epochs | current loss 0.009174221195280552\n",
      "Finished 10/10 epochs | current loss 0.006704655475914478\n"
     ]
    },
    {
     "data": {
      "text/plain": [
       "tensor(0.0070, grad_fn=<MseLossBackward0>)"
      ]
     },
     "execution_count": 8,
     "metadata": {},
     "output_type": "execute_result"
    }
   ],
   "source": [
    "x = torch.eye(1000, 5).index_select(dim=0, index=torch.randint(0, 5, size=(1000,)))\n",
    "w = torch.normal(0, 2, size=(1000, 1))\n",
    "\n",
    "def f(x, w):\n",
    "    weight = torch.normal(0, 1, size=(6, 1))\n",
    "    xw = torch.cat((x, w), dim=1)\n",
    "    target = torch.einsum('nd,dc->nc', [xw, weight])\n",
    "    return target\n",
    "\n",
    "target = f(x, w)\n",
    "\n",
    "net = Net(x_d=5, w_d=1, out_d=1, is_discrete_input=True)\n",
    "net_wrapped = NetWrapper(net)\n",
    "net_wrapped.fit(x=x, w=w, target=target, device='cpu', epoch=10)\n",
    "nn.MSELoss()(net_wrapped.predict(x=x, w=w), target)"
   ]
  },
  {
   "cell_type": "markdown",
   "metadata": {},
   "source": [
    "### Section 2\n",
    "\n",
    "Test the MDN and MDNWrapper"
   ]
  },
  {
   "cell_type": "code",
   "execution_count": 9,
   "metadata": {},
   "outputs": [],
   "source": [
    "z_d = 3\n",
    "w_d = 2\n",
    "out_d = 1\n",
    "num_gaussian = 10\n",
    "mdn = MixtureDensityNetwork(\n",
    "    z_d=z_d,\n",
    "    w_d=w_d,\n",
    "    out_d=out_d,\n",
    "    num_gaussian=num_gaussian,\n",
    "    is_discrete_input=False,\n",
    ")\n",
    "mdn_wrapped = MDNWrapper(mdn=mdn)"
   ]
  },
  {
   "cell_type": "code",
   "execution_count": 10,
   "metadata": {},
   "outputs": [],
   "source": [
    "n = 200\n",
    "z = torch.normal(1, 2, size=(n, z_d))\n",
    "w = torch.normal(0, 1, size=(n, w_d))\n",
    "zw = torch.cat((z, w), dim=1)\n",
    "weight = torch.normal(1, 2, size=(zw.shape[1], 1))\n",
    "target = torch.distributions.Poisson(torch.exp(zw.matmul(weight))).sample()"
   ]
  },
  {
   "cell_type": "code",
   "execution_count": 11,
   "metadata": {},
   "outputs": [],
   "source": [
    "# mdn_wrapped.fit(\n",
    "#     z=z,\n",
    "#     w=w,\n",
    "#     target=target,\n",
    "#     device='cpu',\n",
    "#     lr=0.2,\n",
    "#     batch_size=20,\n",
    "#     epoch=2,\n",
    "# )"
   ]
  },
  {
   "cell_type": "code",
   "execution_count": 12,
   "metadata": {},
   "outputs": [],
   "source": [
    "import numpy as np\n",
    "import matplotlib.pyplot as plt\n",
    "\n",
    "n = 5000\n",
    "\n",
    "# Initialize exogenous variables; normal errors, uniformly distributed covariates and instruments\n",
    "e = np.random.normal(size=(n, 1))\n",
    "w = np.random.uniform(low=0.0, high=10.0, size=(n, 1))\n",
    "z = np.random.uniform(low=0.0, high=10.0, size=(n, 1))\n",
    "\n",
    "e, w, z = torch.tensor(e), torch.tensor(w), torch.tensor(z)\n",
    "weight_w = torch.randn(1)\n",
    "weight_z = torch.randn(1)\n",
    "\n",
    "def treatment(w, z, e):\n",
    "    x = torch.sqrt(w) * weight_w + torch.sqrt(z) * weight_z + e\n",
    "    x = (torch.sign(x) + 1) /  2\n",
    "    return F.one_hot(x.reshape(-1).to(int))"
   ]
  },
  {
   "cell_type": "code",
   "execution_count": 13,
   "metadata": {},
   "outputs": [],
   "source": [
    "# Outcome equation \n",
    "weight_x = torch.randn(2, 1)\n",
    "weight_wx = torch.randn(2, 1)\n",
    "def outcome(w, e, treatment):\n",
    "    wx = torch.mm(treatment.to(torch.float32), weight_x)\n",
    "    wx1 = (w * treatment.to(torch.float32)).to(torch.float32).matmul(weight_wx.to(torch.float32))\n",
    "    # wx1 = w\n",
    "    return (wx**2) * 10 - wx1 + e / 2\n",
    "treatment = treatment(w, z, e)\n",
    "y = outcome(w, e, treatment)"
   ]
  },
  {
   "cell_type": "code",
   "execution_count": 14,
   "metadata": {},
   "outputs": [
    {
     "data": {
      "text/html": [
       "<div>\n",
       "<style scoped>\n",
       "    .dataframe tbody tr th:only-of-type {\n",
       "        vertical-align: middle;\n",
       "    }\n",
       "\n",
       "    .dataframe tbody tr th {\n",
       "        vertical-align: top;\n",
       "    }\n",
       "\n",
       "    .dataframe thead th {\n",
       "        text-align: right;\n",
       "    }\n",
       "</style>\n",
       "<table border=\"1\" class=\"dataframe\">\n",
       "  <thead>\n",
       "    <tr style=\"text-align: right;\">\n",
       "      <th></th>\n",
       "      <th>z</th>\n",
       "      <th>w</th>\n",
       "      <th>x</th>\n",
       "      <th>y</th>\n",
       "    </tr>\n",
       "  </thead>\n",
       "  <tbody>\n",
       "    <tr>\n",
       "      <th>0</th>\n",
       "      <td>5.671995</td>\n",
       "      <td>1.768527</td>\n",
       "      <td>0</td>\n",
       "      <td>7.932928</td>\n",
       "    </tr>\n",
       "    <tr>\n",
       "      <th>1</th>\n",
       "      <td>9.485405</td>\n",
       "      <td>3.200217</td>\n",
       "      <td>0</td>\n",
       "      <td>6.899121</td>\n",
       "    </tr>\n",
       "    <tr>\n",
       "      <th>2</th>\n",
       "      <td>2.241611</td>\n",
       "      <td>0.230992</td>\n",
       "      <td>0</td>\n",
       "      <td>8.826457</td>\n",
       "    </tr>\n",
       "    <tr>\n",
       "      <th>3</th>\n",
       "      <td>5.771337</td>\n",
       "      <td>1.093724</td>\n",
       "      <td>1</td>\n",
       "      <td>5.835914</td>\n",
       "    </tr>\n",
       "    <tr>\n",
       "      <th>4</th>\n",
       "      <td>8.596682</td>\n",
       "      <td>6.167256</td>\n",
       "      <td>0</td>\n",
       "      <td>5.319467</td>\n",
       "    </tr>\n",
       "  </tbody>\n",
       "</table>\n",
       "</div>"
      ],
      "text/plain": [
       "          z         w  x         y\n",
       "0  5.671995  1.768527  0  7.932928\n",
       "1  9.485405  3.200217  0  6.899121\n",
       "2  2.241611  0.230992  0  8.826457\n",
       "3  5.771337  1.093724  1  5.835914\n",
       "4  8.596682  6.167256  0  5.319467"
      ]
     },
     "execution_count": 14,
     "metadata": {},
     "output_type": "execute_result"
    }
   ],
   "source": [
    "data_dict = {\n",
    "    'z': z.squeeze().to(torch.float32),\n",
    "    'w': w.squeeze().to(torch.float32),\n",
    "    'x': torch.argmax(treatment, dim=1),\n",
    "    'y': y.squeeze().to(torch.float32)\n",
    "}\n",
    "data = pd.DataFrame(data_dict)\n",
    "data.head()"
   ]
  },
  {
   "cell_type": "code",
   "execution_count": 15,
   "metadata": {},
   "outputs": [
    {
     "name": "stdout",
     "output_type": "stream",
     "text": [
      "Finished 1/1 epochs | current loss 1.2706555128097534\n",
      "Finished 1/1 epochs | current loss 3944774.75\n"
     ]
    }
   ],
   "source": [
    "iv = DeepIV(is_discrete_treatment=True)\n",
    "iv.fit(\n",
    "    data=data,\n",
    "    outcome='y',\n",
    "    treatment='x',\n",
    "    instrument='z',\n",
    "    adjustment='w',\n",
    "    device='cpu',\n",
    "    batch_size=2500,\n",
    "    lr=0.5,\n",
    "    epoch=1,\n",
    ")"
   ]
  },
  {
   "cell_type": "code",
   "execution_count": 16,
   "metadata": {},
   "outputs": [
    {
     "data": {
      "text/plain": [
       "True"
      ]
     },
     "execution_count": 16,
     "metadata": {},
     "output_type": "execute_result"
    }
   ],
   "source": [
    "hasattr(iv, 'x_net')"
   ]
  },
  {
   "cell_type": "code",
   "execution_count": 17,
   "metadata": {},
   "outputs": [
    {
     "data": {
      "text/plain": [
       "tensor([1.5379e+20], grad_fn=<MeanBackward1>)"
      ]
     },
     "execution_count": 17,
     "metadata": {},
     "output_type": "execute_result"
    }
   ],
   "source": [
    "iv.estimate()"
   ]
  },
  {
   "cell_type": "code",
   "execution_count": 18,
   "metadata": {},
   "outputs": [
    {
     "data": {
      "image/png": "[encoded data removed]",
      "text/plain": [
       "<Figure size 432x288 with 1 Axes>"
      ]
     },
     "metadata": {
      "needs_background": "light"
     },
     "output_type": "display_data"
    },
    {
     "data": {
      "image/png": "[encoded data removed]",
      "text/plain": [
       "<Figure size 432x288 with 1 Axes>"
      ]
     },
     "metadata": {
      "needs_background": "light"
     },
     "output_type": "display_data"
    },
    {
     "data": {
      "image/png": "[encoded data removed]",
      "text/plain": [
       "<Figure size 432x288 with 1 Axes>"
      ]
     },
     "metadata": {
      "needs_background": "light"
     },
     "output_type": "display_data"
    }
   ],
   "source": [
    "n = 5000\n",
    "\n",
    "# Initialize exogenous variables; normal errors, uniformly distributed covariates and instruments\n",
    "e = np.random.normal(size=(n,))\n",
    "x = np.random.uniform(low=0.0, high=10.0, size=(n,))\n",
    "z = np.random.uniform(low=0.0, high=10.0, size=(n,))\n",
    "\n",
    "# Initialize treatment variable\n",
    "t = np.sqrt((x+2) * z) + e\n",
    "\n",
    "# Show the marginal distribution of t\n",
    "plt.hist(t)\n",
    "plt.xlabel(\"t\")\n",
    "plt.show()\n",
    "\n",
    "plt.scatter(z[x < 1], t[x < 1], label='low X')\n",
    "plt.scatter(z[(x > 4.5) * (x < 5.5)], t[(x > 4.5) * (x < 5.5)], label='moderate X')\n",
    "plt.scatter(z[x > 9], t[x > 9], label='high X')\n",
    "plt.legend()\n",
    "plt.xlabel(\"z\")\n",
    "plt.ylabel(\"t\")\n",
    "plt.show()\n",
    "\n",
    "# Outcome equation \n",
    "y = t*t / 10 - x*t / 10 + e\n",
    "\n",
    "# The endogeneity problem is clear, the latent error enters both treatment and outcome equally\n",
    "plt.scatter(t,z, label ='raw data')\n",
    "tticks = np.arange(-2,12)\n",
    "yticks2 = tticks*tticks/10 - 0.2 * tticks\n",
    "yticks5 = tticks*tticks/10 - 0.5 * tticks\n",
    "yticks8 = tticks*tticks/10 - 0.8 * tticks\n",
    "plt.plot(tticks,yticks2, 'r--', label = 'truth, x=2')\n",
    "plt.plot(tticks,yticks5, 'g--', label = 'truth, x=5')\n",
    "plt.plot(tticks,yticks8, 'y--', label = 'truth, x=8')\n",
    "plt.xlabel(\"t\")\n",
    "plt.ylabel(\"y\")\n",
    "plt.legend()\n",
    "plt.show()"
   ]
  },
  {
   "cell_type": "code",
   "execution_count": 19,
   "metadata": {},
   "outputs": [],
   "source": [
    "import pandas as pd\n",
    "from estimator_model.utils import convert2tensor\n",
    "z, w, x, y = convert2tensor(z, x, t, y)\n",
    "z = z.squeeze().to(torch.float32)\n",
    "w = w.squeeze().to(torch.float32)\n",
    "x = x.squeeze().to(torch.float32)\n",
    "y = y.squeeze().to(torch.float32)\n",
    "\n",
    "data_dict = {\n",
    "    'z': z,\n",
    "    'w': x,\n",
    "    'x': t,\n",
    "    'y': y\n",
    "}\n",
    "data = pd.DataFrame(data_dict)"
   ]
  },
  {
   "cell_type": "code",
   "execution_count": 20,
   "metadata": {},
   "outputs": [
    {
     "name": "stdout",
     "output_type": "stream",
     "text": [
      "Finished 1/1 epochs | current loss -4.673593551906384\n",
      "Finished 1/1 epochs | current loss 147222265856.0\n"
     ]
    }
   ],
   "source": [
    "iv = DeepIV(num_gaussian=10)\n",
    "iv.fit(\n",
    "    data=data,\n",
    "    outcome='y',\n",
    "    treatment='x',\n",
    "    instrument='z',\n",
    "    adjustment='w',\n",
    "    sample_n=2,\n",
    "    lr=0.5,\n",
    "    epoch=1,\n",
    "    device='cpu',\n",
    "    batch_size=5000\n",
    ")"
   ]
  },
  {
   "cell_type": "code",
   "execution_count": 21,
   "metadata": {},
   "outputs": [
    {
     "data": {
      "text/plain": [
       "tensor([nan], grad_fn=<MeanBackward1>)"
      ]
     },
     "execution_count": 21,
     "metadata": {},
     "output_type": "execute_result"
    }
   ],
   "source": [
    "iv.estimate()"
   ]
  }
 ],
 "metadata": {
  "interpreter": {
   "hash": "e0ecfad75f99b8578830c76494b15e8b8f0ed30d484e3d7b0b2aac43eb800e14"
  },
  "kernelspec": {
   "display_name": "Python 3.8.12 64-bit ('causal': conda)",
   "language": "python",
   "name": "python3"
  },
  "language_info": {
   "codemirror_mode": {
    "name": "ipython",
    "version": 3
   },
   "file_extension": ".py",
   "mimetype": "text/x-python",
   "name": "python",
   "nbconvert_exporter": "python",
   "pygments_lexer": "ipython3",
   "version": "3.8.12"
  },
  "orig_nbformat": 4
 },
 "nbformat": 4,
 "nbformat_minor": 2
}
