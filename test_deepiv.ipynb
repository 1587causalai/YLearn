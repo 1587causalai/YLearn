{
 "cells": [
  {
   "cell_type": "code",
   "execution_count": 1,
   "metadata": {},
   "outputs": [],
   "source": [
    "import torch\n",
    "import torch.nn as nn\n",
    "import torch.nn.functional as F\n",
    "import torch.optim as optim\n",
    "from torch.utils.data import DataLoader\n",
    "\n",
    "\n",
    "from estimator_model.deepiv import Net, NetWrapper, DeepIV, MixtureDensityNetwork, MDNWrapper\n",
    "from estimator_model.utils import BatchData, DiscreteOBatchData"
   ]
  },
  {
   "cell_type": "markdown",
   "metadata": {},
   "source": [
    "## We divide this notebook into 3 sections, where we\n",
    "1. ### test Net and NetWrapper in the first section\n",
    "2. ### test MDN and MDNWrapper in the second section\n",
    "3. ### test deepiv in the final section."
   ]
  },
  {
   "cell_type": "markdown",
   "metadata": {},
   "source": [
    "### First section:\n",
    "- continuous input, continuous output"
   ]
  },
  {
   "cell_type": "code",
   "execution_count": 2,
   "metadata": {},
   "outputs": [
    {
     "name": "stdout",
     "output_type": "stream",
     "text": [
      "End of epoch 0 | current loss 0.4365367889404297\n",
      "End of epoch 1 | current loss 0.19809490442276\n",
      "End of epoch 2 | current loss 0.2828143835067749\n",
      "End of epoch 3 | current loss 0.29769447445869446\n",
      "End of epoch 4 | current loss 0.27174270153045654\n",
      "End of epoch 5 | current loss 0.21536581218242645\n",
      "End of epoch 6 | current loss 0.14523985981941223\n",
      "End of epoch 7 | current loss 0.09029783308506012\n",
      "End of epoch 8 | current loss 0.061437517404556274\n",
      "End of epoch 9 | current loss 0.040765754878520966\n"
     ]
    },
    {
     "data": {
      "text/plain": [
       "tensor([-0.0203], grad_fn=<MeanBackward1>)"
      ]
     },
     "execution_count": 2,
     "metadata": {},
     "output_type": "execute_result"
    }
   ],
   "source": [
    "net = Net(x_d=1, w_d=1, out_d=1)\n",
    "net_wrapped = NetWrapper(net, is_y_net=False)\n",
    "x = torch.normal(0, 1, size=(1000, 1))\n",
    "w = torch.ones(1000, 1)\n",
    "def f(x, w):\n",
    "    return x * x + torch.exp(x) + 3 * w\n",
    "target = f(x, w)\n",
    "net_wrapped.fit(\n",
    "    x=x,\n",
    "    w=w,\n",
    "    target=target,\n",
    "    device='cpu',\n",
    "    epoch=10,\n",
    ")\n",
    "((net_wrapped.predict(x, w) - f(x, w)) / f(x, w)).mean(dim=0)"
   ]
  },
  {
   "cell_type": "markdown",
   "metadata": {},
   "source": [
    "- contiuous input, discrete output"
   ]
  },
  {
   "cell_type": "code",
   "execution_count": 3,
   "metadata": {},
   "outputs": [],
   "source": [
    "out_d = 5\n",
    "net = Net(x_d=1, w_d=1, out_d=out_d, is_discrete_output=True)\n",
    "sm = nn.Softmax(dim=1)\n",
    "loss = nn.CrossEntropyLoss()\n",
    "result = sm(net(torch.ones(5, 1), torch.randn(5, 1)))\n",
    "l = loss(result, torch.eye(5, 5))\n",
    "l.backward()"
   ]
  },
  {
   "cell_type": "code",
   "execution_count": 4,
   "metadata": {},
   "outputs": [
    {
     "name": "stdout",
     "output_type": "stream",
     "text": [
      "End of epoch 0 | current loss 0.6432521939277649\n",
      "End of epoch 1 | current loss 0.6109849810600281\n",
      "End of epoch 2 | current loss 0.5806307196617126\n",
      "End of epoch 3 | current loss 0.5509892106056213\n",
      "End of epoch 4 | current loss 0.5219535231590271\n",
      "End of epoch 5 | current loss 0.49392032623291016\n",
      "End of epoch 6 | current loss 0.46716728806495667\n",
      "End of epoch 7 | current loss 0.441588819026947\n",
      "End of epoch 8 | current loss 0.41623300313949585\n",
      "End of epoch 9 | current loss 0.3911704421043396\n",
      "End of epoch 10 | current loss 0.36681240797042847\n",
      "End of epoch 11 | current loss 0.34367358684539795\n",
      "End of epoch 12 | current loss 0.3219335079193115\n",
      "End of epoch 13 | current loss 0.3016554117202759\n",
      "End of epoch 14 | current loss 0.28303760290145874\n",
      "End of epoch 15 | current loss 0.26598307490348816\n",
      "End of epoch 16 | current loss 0.25048691034317017\n",
      "End of epoch 17 | current loss 0.23644299805164337\n",
      "End of epoch 18 | current loss 0.22363027930259705\n",
      "End of epoch 19 | current loss 0.21195419132709503\n"
     ]
    },
    {
     "data": {
      "text/plain": [
       "tensor(3.6213, grad_fn=<NllLossBackward0>)"
      ]
     },
     "execution_count": 4,
     "metadata": {},
     "output_type": "execute_result"
    }
   ],
   "source": [
    "x = torch.normal(0, 1, size=(1000, 1))\n",
    "w = torch.normal(1, 2, size=(1000, 1))\n",
    "def f(x, w):\n",
    "    xw = torch.cat((x, w), dim=1)\n",
    "    weight = torch.normal(0, 1, size=(xw.shape[1], 1))\n",
    "    label_sign = torch.einsum('nd,dc->nc', [xw, weight])\n",
    "    label = (label_sign > 0).to(int).squeeze()\n",
    "    return F.one_hot(label)\n",
    "target = f(x, w)\n",
    "net = Net(1, 1, 2, is_discrete_output=True)\n",
    "net_wrapped = NetWrapper(net=net, is_y_net=False)\n",
    "net_wrapped.fit(x, w, target=target, device='cpu', epoch=20)\n",
    "# training loss\n",
    "nn.NLLLoss()(torch.log(net_wrapped.predict_proba(x, w)), torch.argmax(f(x, w), dim=1))"
   ]
  },
  {
   "cell_type": "markdown",
   "metadata": {},
   "source": [
    "- discrete input, discret output"
   ]
  },
  {
   "cell_type": "code",
   "execution_count": 5,
   "metadata": {},
   "outputs": [],
   "source": [
    "net = Net(x_d=3, w_d=1, out_d=5, is_discrete_input=True, is_discrete_output=True)\n",
    "sm = nn.Softmax(dim=1)\n",
    "loss = nn.CrossEntropyLoss()\n",
    "x_input = torch.randint(0, 3, size=(5,)).squeeze()\n",
    "w_input = torch.ones(5, 1)\n",
    "result = sm(net(x_input, w_input))\n",
    "l = loss(result, torch.eye(5, 5))\n",
    "l.backward()"
   ]
  },
  {
   "cell_type": "code",
   "execution_count": 6,
   "metadata": {},
   "outputs": [
    {
     "name": "stdout",
     "output_type": "stream",
     "text": [
      "End of epoch 0 | current loss 0.6982303857803345\n",
      "End of epoch 1 | current loss 0.6928979158401489\n",
      "End of epoch 2 | current loss 0.6881588697433472\n",
      "End of epoch 3 | current loss 0.6837738156318665\n",
      "End of epoch 4 | current loss 0.6794893741607666\n",
      "End of epoch 5 | current loss 0.6751973628997803\n",
      "End of epoch 6 | current loss 0.6706061959266663\n",
      "End of epoch 7 | current loss 0.6655802726745605\n",
      "End of epoch 8 | current loss 0.6601215600967407\n",
      "End of epoch 9 | current loss 0.6541720032691956\n"
     ]
    },
    {
     "data": {
      "text/plain": [
       "tensor(0.6549, grad_fn=<NllLossBackward0>)"
      ]
     },
     "execution_count": 6,
     "metadata": {},
     "output_type": "execute_result"
    }
   ],
   "source": [
    "x = torch.eye(1000, 5).index_select(dim=0, index=torch.randint(0, 5, size=(1000,)))\n",
    "w = torch.normal(0, 1, size=(1000, 1))\n",
    "def f(x, w):\n",
    "    xw = torch.cat((x, w), dim=1)\n",
    "    weight = torch.normal(0, 1, size=(xw.shape[1], 1))\n",
    "    label_sign = torch.einsum('nd,dc->nc', [xw, weight])\n",
    "    label = (label_sign > 0).to(int).squeeze()\n",
    "    return F.one_hot(label)\n",
    "target = f(x, w)\n",
    "net = Net(x_d=5, w_d=1, out_d=2, is_discrete_output=True, is_discrete_input=True)\n",
    "net_wrapped = NetWrapper(net)\n",
    "net_wrapped.fit(x, w, target=target, device='cpu', epoch=10)\n",
    "nn.NLLLoss()(torch.log(net_wrapped.predict_proba(x, w)), torch.argmax(f(x, w), dim=1))"
   ]
  },
  {
   "cell_type": "markdown",
   "metadata": {},
   "source": [
    "- discrete input, continuous output"
   ]
  },
  {
   "cell_type": "code",
   "execution_count": 7,
   "metadata": {},
   "outputs": [],
   "source": [
    "net = Net(x_d=3, w_d=1, out_d=1, is_discrete_input=True, is_discrete_output=False)\n",
    "sm = nn.Softmax(dim=1)\n",
    "loss = nn.MSELoss()\n",
    "x_input = torch.randint(0, 3, size=(5,)).squeeze()\n",
    "w_input = torch.ones(5, 1)\n",
    "result = sm(net(x_input, w_input))\n",
    "l = loss(result, torch.ones(5, 1))\n",
    "l.backward()"
   ]
  },
  {
   "cell_type": "code",
   "execution_count": 9,
   "metadata": {},
   "outputs": [
    {
     "name": "stdout",
     "output_type": "stream",
     "text": [
      "End of epoch 0 | current loss 3.8664863109588623\n",
      "End of epoch 1 | current loss 1.245396375656128\n",
      "End of epoch 2 | current loss 0.17864452302455902\n",
      "End of epoch 3 | current loss 0.10468478500843048\n",
      "End of epoch 4 | current loss 0.08381427824497223\n",
      "End of epoch 5 | current loss 0.07277137041091919\n",
      "End of epoch 6 | current loss 0.06443522870540619\n",
      "End of epoch 7 | current loss 0.05730566382408142\n",
      "End of epoch 8 | current loss 0.05132754519581795\n",
      "End of epoch 9 | current loss 0.04609334468841553\n"
     ]
    },
    {
     "data": {
      "text/plain": [
       "tensor(0.0462, grad_fn=<MseLossBackward0>)"
      ]
     },
     "execution_count": 9,
     "metadata": {},
     "output_type": "execute_result"
    }
   ],
   "source": [
    "x = torch.eye(1000, 5).index_select(dim=0, index=torch.randint(0, 5, size=(1000,)))\n",
    "w = torch.normal(0, 2, size=(1000, 1))\n",
    "def f(x, w):\n",
    "    weight = torch.normal(0, 1, size=(6, 1))\n",
    "    xw = torch.cat((x, w), dim=1)\n",
    "    target = torch.einsum('nd,dc->nc', [xw, weight])\n",
    "    return target\n",
    "target = f(x, w)\n",
    "net = Net(x_d=5, w_d=1, out_d=1, is_discrete_input=True)\n",
    "net_wrapped = NetWrapper(net)\n",
    "net_wrapped.fit(x=x, w=w, target=target, device='cpu', epoch=10)\n",
    "nn.MSELoss()(net_wrapped.predict(x=x, w=w), target)"
   ]
  }
 ],
 "metadata": {
  "interpreter": {
   "hash": "e0ecfad75f99b8578830c76494b15e8b8f0ed30d484e3d7b0b2aac43eb800e14"
  },
  "kernelspec": {
   "display_name": "Python 3.8.12 64-bit ('causal': conda)",
   "language": "python",
   "name": "python3"
  },
  "language_info": {
   "codemirror_mode": {
    "name": "ipython",
    "version": 3
   },
   "file_extension": ".py",
   "mimetype": "text/x-python",
   "name": "python",
   "nbconvert_exporter": "python",
   "pygments_lexer": "ipython3",
   "version": "3.8.12"
  },
  "orig_nbformat": 4
 },
 "nbformat": 4,
 "nbformat_minor": 2
}
