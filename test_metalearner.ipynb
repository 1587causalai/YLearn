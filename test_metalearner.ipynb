{
 "cells": [
  {
   "cell_type": "code",
   "execution_count": 29,
   "metadata": {},
   "outputs": [],
   "source": [
    "import pandas as pd\n",
    "import numpy as np\n",
    "from estimator_model.estimation_learner import meta_learner\n",
    "from estimator_model import ml_model"
   ]
  },
  {
   "cell_type": "markdown",
   "metadata": {},
   "source": [
    "It's still not clear why XLearner and TLearner are not effective."
   ]
  },
  {
   "cell_type": "code",
   "execution_count": 30,
   "metadata": {},
   "outputs": [
    {
     "data": {
      "text/html": [
       "<div>\n",
       "<style scoped>\n",
       "    .dataframe tbody tr th:only-of-type {\n",
       "        vertical-align: middle;\n",
       "    }\n",
       "\n",
       "    .dataframe tbody tr th {\n",
       "        vertical-align: top;\n",
       "    }\n",
       "\n",
       "    .dataframe thead th {\n",
       "        text-align: right;\n",
       "    }\n",
       "</style>\n",
       "<table border=\"1\" class=\"dataframe\">\n",
       "  <thead>\n",
       "    <tr style=\"text-align: right;\">\n",
       "      <th></th>\n",
       "      <th>gender</th>\n",
       "      <th>coupon</th>\n",
       "      <th>amount</th>\n",
       "      <th>income</th>\n",
       "      <th>time_spent</th>\n",
       "      <th>treatment</th>\n",
       "    </tr>\n",
       "  </thead>\n",
       "  <tbody>\n",
       "    <tr>\n",
       "      <th>0</th>\n",
       "      <td>1</td>\n",
       "      <td>1</td>\n",
       "      <td>497.061194</td>\n",
       "      <td>478.662101</td>\n",
       "      <td>59.706119</td>\n",
       "      <td>True</td>\n",
       "    </tr>\n",
       "    <tr>\n",
       "      <th>1</th>\n",
       "      <td>0</td>\n",
       "      <td>1</td>\n",
       "      <td>401.661125</td>\n",
       "      <td>504.007319</td>\n",
       "      <td>50.166112</td>\n",
       "      <td>True</td>\n",
       "    </tr>\n",
       "    <tr>\n",
       "      <th>2</th>\n",
       "      <td>1</td>\n",
       "      <td>1</td>\n",
       "      <td>504.975703</td>\n",
       "      <td>526.540901</td>\n",
       "      <td>60.497570</td>\n",
       "      <td>True</td>\n",
       "    </tr>\n",
       "    <tr>\n",
       "      <th>3</th>\n",
       "      <td>0</td>\n",
       "      <td>0</td>\n",
       "      <td>245.920657</td>\n",
       "      <td>485.997889</td>\n",
       "      <td>24.592066</td>\n",
       "      <td>False</td>\n",
       "    </tr>\n",
       "    <tr>\n",
       "      <th>4</th>\n",
       "      <td>0</td>\n",
       "      <td>1</td>\n",
       "      <td>402.105066</td>\n",
       "      <td>511.450147</td>\n",
       "      <td>50.210507</td>\n",
       "      <td>True</td>\n",
       "    </tr>\n",
       "    <tr>\n",
       "      <th>...</th>\n",
       "      <td>...</td>\n",
       "      <td>...</td>\n",
       "      <td>...</td>\n",
       "      <td>...</td>\n",
       "      <td>...</td>\n",
       "      <td>...</td>\n",
       "    </tr>\n",
       "    <tr>\n",
       "      <th>9995</th>\n",
       "      <td>1</td>\n",
       "      <td>1</td>\n",
       "      <td>504.298182</td>\n",
       "      <td>533.415845</td>\n",
       "      <td>60.429818</td>\n",
       "      <td>True</td>\n",
       "    </tr>\n",
       "    <tr>\n",
       "      <th>9996</th>\n",
       "      <td>0</td>\n",
       "      <td>0</td>\n",
       "      <td>249.256014</td>\n",
       "      <td>494.930205</td>\n",
       "      <td>24.925601</td>\n",
       "      <td>False</td>\n",
       "    </tr>\n",
       "    <tr>\n",
       "      <th>9997</th>\n",
       "      <td>0</td>\n",
       "      <td>1</td>\n",
       "      <td>401.828561</td>\n",
       "      <td>507.329570</td>\n",
       "      <td>50.182856</td>\n",
       "      <td>True</td>\n",
       "    </tr>\n",
       "    <tr>\n",
       "      <th>9998</th>\n",
       "      <td>1</td>\n",
       "      <td>1</td>\n",
       "      <td>499.112329</td>\n",
       "      <td>503.298929</td>\n",
       "      <td>59.911233</td>\n",
       "      <td>True</td>\n",
       "    </tr>\n",
       "    <tr>\n",
       "      <th>9999</th>\n",
       "      <td>0</td>\n",
       "      <td>0</td>\n",
       "      <td>249.712853</td>\n",
       "      <td>499.132563</td>\n",
       "      <td>24.971285</td>\n",
       "      <td>False</td>\n",
       "    </tr>\n",
       "  </tbody>\n",
       "</table>\n",
       "<p>10000 rows × 6 columns</p>\n",
       "</div>"
      ],
      "text/plain": [
       "      gender  coupon      amount      income  time_spent  treatment\n",
       "0          1       1  497.061194  478.662101   59.706119       True\n",
       "1          0       1  401.661125  504.007319   50.166112       True\n",
       "2          1       1  504.975703  526.540901   60.497570       True\n",
       "3          0       0  245.920657  485.997889   24.592066      False\n",
       "4          0       1  402.105066  511.450147   50.210507       True\n",
       "...      ...     ...         ...         ...         ...        ...\n",
       "9995       1       1  504.298182  533.415845   60.429818       True\n",
       "9996       0       0  249.256014  494.930205   24.925601      False\n",
       "9997       0       1  401.828561  507.329570   50.182856       True\n",
       "9998       1       1  499.112329  503.298929   59.911233       True\n",
       "9999       0       0  249.712853  499.132563   24.971285      False\n",
       "\n",
       "[10000 rows x 6 columns]"
      ]
     },
     "execution_count": 30,
     "metadata": {},
     "output_type": "execute_result"
    }
   ],
   "source": [
    "n_users = 10000\n",
    "def gen_data(n_users, binary_treatment=True, with_income=False):\n",
    "    \n",
    "    if with_income:\n",
    "        income = np.random.normal(500, scale=15, size=n_users)\n",
    "        gender = np.random.randint(0, 2, size=n_users)\n",
    "        coupon = gender * 20 + 110 + income / 50 + np.random.normal(scale=5, size=n_users)\n",
    "        if binary_treatment:\n",
    "            coupon = (coupon > 120).astype(int)\n",
    "        amount = coupon * 150 + gender * 100 + 150 + income / 5 + np.random.normal(size=n_users)\n",
    "        time_spent = coupon * 10 + amount / 10\n",
    "\n",
    "        df = pd.DataFrame({\n",
    "            'gender': gender,\n",
    "            'coupon': coupon,\n",
    "            'amount': amount,\n",
    "            'income': income,\n",
    "            'time_spent': time_spent,\n",
    "        })\n",
    "\n",
    "        return df\n",
    "    else:\n",
    "        gender = np.random.randint(0, 2, size=n_users)\n",
    "        coupon = gender * 20 + 150 + np.random.normal(scale=5, size=n_users)\n",
    "        if binary_treatment:\n",
    "            coupon = (coupon > 150).astype(int)\n",
    "        amount = coupon * 30 + gender * 100 + 150 + np.random.normal(size=n_users)\n",
    "        time_spent = coupon * 100 + amount / 10\n",
    "\n",
    "        df = pd.DataFrame({\n",
    "            'gender': gender,\n",
    "            'coupon': coupon,\n",
    "            'amount': amount,\n",
    "            'time_spent': time_spent,\n",
    "        })\n",
    "        \n",
    "        return df\n",
    "\n",
    "df = gen_data(n_users, with_income=True)\n",
    "df['treatment'] = df['coupon'] > 0\n",
    "df"
   ]
  },
  {
   "cell_type": "code",
   "execution_count": 19,
   "metadata": {},
   "outputs": [],
   "source": [
    "new_df = df.drop('treatment', axis=1)"
   ]
  },
  {
   "cell_type": "code",
   "execution_count": 37,
   "metadata": {},
   "outputs": [],
   "source": [
    "a = np.array([i for i in df['income']])"
   ]
  },
  {
   "cell_type": "code",
   "execution_count": 38,
   "metadata": {},
   "outputs": [
    {
     "data": {
      "text/plain": [
       "array([478.66210148, 504.00731885, 526.54090084, ..., 507.32957032,\n",
       "       503.29892927, 499.13256306])"
      ]
     },
     "execution_count": 38,
     "metadata": {},
     "output_type": "execute_result"
    }
   ],
   "source": [
    "a"
   ]
  },
  {
   "cell_type": "code",
   "execution_count": 41,
   "metadata": {},
   "outputs": [
    {
     "data": {
      "text/plain": [
       "1.0"
      ]
     },
     "execution_count": 41,
     "metadata": {},
     "output_type": "execute_result"
    }
   ],
   "source": [
    "(df['income'] / df['income']).mean()"
   ]
  },
  {
   "cell_type": "code",
   "execution_count": 20,
   "metadata": {},
   "outputs": [
    {
     "data": {
      "text/plain": [
       "1    7505\n",
       "0       2\n",
       "Name: coupon, dtype: int64"
      ]
     },
     "execution_count": 20,
     "metadata": {},
     "output_type": "execute_result"
    }
   ],
   "source": [
    "new_df[new_df['time_spent'] > 26]['coupon'].value_counts()"
   ]
  },
  {
   "cell_type": "markdown",
   "metadata": {},
   "source": [
    "## SLearner"
   ]
  },
  {
   "cell_type": "code",
   "execution_count": 21,
   "metadata": {},
   "outputs": [],
   "source": [
    "ml = ml_model.LR()\n",
    "l = meta_learner.SLearner(ml_model=ml)"
   ]
  },
  {
   "cell_type": "code",
   "execution_count": 22,
   "metadata": {},
   "outputs": [
    {
     "data": {
      "text/plain": [
       "array([150.02196995, 150.02196995, 150.02196995, ..., 150.02196995,\n",
       "       150.02196995, 150.02196995])"
      ]
     },
     "execution_count": 22,
     "metadata": {},
     "output_type": "execute_result"
    }
   ],
   "source": [
    "l.prepare(data=new_df, outcome='amount', treatment='coupon', adjustment={'gender', 'income'})"
   ]
  },
  {
   "cell_type": "code",
   "execution_count": 23,
   "metadata": {},
   "outputs": [
    {
     "data": {
      "text/plain": [
       "150.02196994838965"
      ]
     },
     "execution_count": 23,
     "metadata": {},
     "output_type": "execute_result"
    }
   ],
   "source": [
    "l.estimate_ate(data=new_df, \n",
    "               outcome='amount', \n",
    "               treatment='coupon', \n",
    "               adjustment=['gender', 'income'])"
   ]
  },
  {
   "cell_type": "code",
   "execution_count": 24,
   "metadata": {},
   "outputs": [
    {
     "data": {
      "text/plain": [
       "149.71783769915066"
      ]
     },
     "execution_count": 24,
     "metadata": {},
     "output_type": "execute_result"
    }
   ],
   "source": [
    "l.estimate_cate(data=new_df, \n",
    "                outcome='amount', \n",
    "                treatment='coupon', \n",
    "                adjustment=['gender', 'income'],\n",
    "                condition_set={'time_spent'},\n",
    "                condition=(new_df['time_spent'] >= 25.06))"
   ]
  },
  {
   "cell_type": "markdown",
   "metadata": {},
   "source": [
    "## TLearner"
   ]
  },
  {
   "cell_type": "code",
   "execution_count": 25,
   "metadata": {},
   "outputs": [
    {
     "data": {
      "text/plain": [
       "199.63088066696852"
      ]
     },
     "execution_count": 25,
     "metadata": {},
     "output_type": "execute_result"
    }
   ],
   "source": [
    "t = meta_learner.TLearner(ml_model=ml)\n",
    "t.estimate_ate(data=new_df, \n",
    "               outcome='amount', \n",
    "               treatment='coupon', \n",
    "               adjustment=['gender', 'income'])"
   ]
  },
  {
   "cell_type": "code",
   "execution_count": 26,
   "metadata": {},
   "outputs": [
    {
     "data": {
      "text/plain": [
       "199.63088066696852"
      ]
     },
     "execution_count": 26,
     "metadata": {},
     "output_type": "execute_result"
    }
   ],
   "source": [
    "t.estimate_cate(data=new_df, \n",
    "                outcome='amount', \n",
    "                treatment='coupon', \n",
    "                adjustment=['gender', 'income'],\n",
    "                condition_set={'time_spent'},\n",
    "                condition=(new_df['time_spent'] >= 20))"
   ]
  },
  {
   "cell_type": "markdown",
   "metadata": {},
   "source": [
    "## XLearner"
   ]
  },
  {
   "cell_type": "code",
   "execution_count": 27,
   "metadata": {},
   "outputs": [
    {
     "data": {
      "text/plain": [
       "24.804423189303208"
      ]
     },
     "execution_count": 27,
     "metadata": {},
     "output_type": "execute_result"
    }
   ],
   "source": [
    "x = meta_learner.XLearner(ml_model=ml)\n",
    "x.estimate_ate(data=new_df, \n",
    "               outcome='amount', \n",
    "               treatment='coupon', \n",
    "               adjustment=['gender', 'income'])"
   ]
  },
  {
   "cell_type": "markdown",
   "metadata": {},
   "source": [
    "$\\bot$"
   ]
  },
  {
   "cell_type": "code",
   "execution_count": 28,
   "metadata": {},
   "outputs": [
    {
     "data": {
      "text/plain": [
       "'----------'"
      ]
     },
     "execution_count": 28,
     "metadata": {},
     "output_type": "execute_result"
    }
   ],
   "source": [
    "a = '-'\n",
    "for i in range(9):\n",
    "    a += '-'\n",
    "a"
   ]
  }
 ],
 "metadata": {
  "interpreter": {
   "hash": "e0ecfad75f99b8578830c76494b15e8b8f0ed30d484e3d7b0b2aac43eb800e14"
  },
  "kernelspec": {
   "display_name": "Python 3.8.12 64-bit ('causal': conda)",
   "language": "python",
   "name": "python3"
  },
  "language_info": {
   "codemirror_mode": {
    "name": "ipython",
    "version": 3
   },
   "file_extension": ".py",
   "mimetype": "text/x-python",
   "name": "python",
   "nbconvert_exporter": "python",
   "pygments_lexer": "ipython3",
   "version": "3.8.12"
  },
  "orig_nbformat": 4
 },
 "nbformat": 4,
 "nbformat_minor": 2
}
