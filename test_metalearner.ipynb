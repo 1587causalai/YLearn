{
 "cells": [
  {
   "cell_type": "code",
   "execution_count": 1,
   "metadata": {},
   "outputs": [],
   "source": [
    "import pandas as pd\n",
    "import numpy as np\n",
    "from estimator_model.meta_learner import XLearner, TLearner, SLearner\n",
    "\n",
    "from exp_data import coupon_dataset, meaningless_discrete_dataset\n",
    "\n",
    "np.random.seed(2022)"
   ]
  },
  {
   "cell_type": "markdown",
   "metadata": {},
   "source": [
    "## Try the trivial dataset. The true treatment effect is 3."
   ]
  },
  {
   "cell_type": "code",
   "execution_count": 2,
   "metadata": {},
   "outputs": [
    {
     "data": {
      "text/html": [
       "<div>\n",
       "<style scoped>\n",
       "    .dataframe tbody tr th:only-of-type {\n",
       "        vertical-align: middle;\n",
       "    }\n",
       "\n",
       "    .dataframe tbody tr th {\n",
       "        vertical-align: top;\n",
       "    }\n",
       "\n",
       "    .dataframe thead th {\n",
       "        text-align: right;\n",
       "    }\n",
       "</style>\n",
       "<table border=\"1\" class=\"dataframe\">\n",
       "  <thead>\n",
       "    <tr style=\"text-align: right;\">\n",
       "      <th></th>\n",
       "      <th>treatment</th>\n",
       "      <th>w_0</th>\n",
       "      <th>w_1</th>\n",
       "      <th>outcome</th>\n",
       "    </tr>\n",
       "  </thead>\n",
       "  <tbody>\n",
       "    <tr>\n",
       "      <th>0</th>\n",
       "      <td>0</td>\n",
       "      <td>-0.603348</td>\n",
       "      <td>-0.337215</td>\n",
       "      <td>0.795487</td>\n",
       "    </tr>\n",
       "    <tr>\n",
       "      <th>1</th>\n",
       "      <td>1</td>\n",
       "      <td>-0.228919</td>\n",
       "      <td>0.941748</td>\n",
       "      <td>4.828660</td>\n",
       "    </tr>\n",
       "    <tr>\n",
       "      <th>2</th>\n",
       "      <td>1</td>\n",
       "      <td>1.250625</td>\n",
       "      <td>-0.675590</td>\n",
       "      <td>2.070163</td>\n",
       "    </tr>\n",
       "    <tr>\n",
       "      <th>3</th>\n",
       "      <td>0</td>\n",
       "      <td>-0.004900</td>\n",
       "      <td>-0.835539</td>\n",
       "      <td>-0.409200</td>\n",
       "    </tr>\n",
       "    <tr>\n",
       "      <th>4</th>\n",
       "      <td>1</td>\n",
       "      <td>0.632894</td>\n",
       "      <td>0.058976</td>\n",
       "      <td>5.112075</td>\n",
       "    </tr>\n",
       "  </tbody>\n",
       "</table>\n",
       "</div>"
      ],
      "text/plain": [
       "   treatment       w_0       w_1   outcome\n",
       "0          0 -0.603348 -0.337215  0.795487\n",
       "1          1 -0.228919  0.941748  4.828660\n",
       "2          1  1.250625 -0.675590  2.070163\n",
       "3          0 -0.004900 -0.835539 -0.409200\n",
       "4          1  0.632894  0.058976  5.112075"
      ]
     },
     "execution_count": 2,
     "metadata": {},
     "output_type": "execute_result"
    }
   ],
   "source": [
    "data, coef = meaningless_discrete_dataset(num=1000,\n",
    "                                          confounder_num=2,\n",
    "                                          treatment_effct=[2, 3],\n",
    "                                          prob=[0.3, 0.7])\n",
    "data.head()"
   ]
  },
  {
   "cell_type": "code",
   "execution_count": 14,
   "metadata": {},
   "outputs": [
    {
     "name": "stdout",
     "output_type": "stream",
     "text": [
      "The estimation error is 0.02627183841896885\n"
     ]
    }
   ],
   "source": [
    "treatment = 'treatment'\n",
    "outcome = 'outcome'\n",
    "w = ['w_0', 'w_1']\n",
    "s = SLearner(ml_model='LR')\n",
    "s_ate = s.estimate_ate(data, outcome, treatment, w)\n",
    "print(f'The estimation error is {np.abs(s_ate - 3) / 3}')"
   ]
  },
  {
   "cell_type": "code",
   "execution_count": 15,
   "metadata": {},
   "outputs": [
    {
     "name": "stdout",
     "output_type": "stream",
     "text": [
      "The estimation error is 0.02667637145442973\n"
     ]
    }
   ],
   "source": [
    "t = TLearner(ml_model='LR')\n",
    "t_ate = t.estimate_ate(data, outcome, treatment, w)\n",
    "print(f'The estimation error is {np.abs(t_ate - 3) / 3}')"
   ]
  },
  {
   "cell_type": "code",
   "execution_count": 16,
   "metadata": {},
   "outputs": [
    {
     "name": "stdout",
     "output_type": "stream",
     "text": [
      "The estimation error is 0.02667637145442973\n"
     ]
    }
   ],
   "source": [
    "x = XLearner(ml_model='LR')\n",
    "x_ate = x.estimate_ate(data, outcome, treatment, w)\n",
    "print(f'The estimation error is {np.abs(x_ate - 3) / 3}')"
   ]
  },
  {
   "cell_type": "markdown",
   "metadata": {},
   "source": [
    "## Try the coupon-amount dataset. The true treatment effect is 150."
   ]
  },
  {
   "cell_type": "code",
   "execution_count": 6,
   "metadata": {},
   "outputs": [
    {
     "data": {
      "text/html": [
       "<div>\n",
       "<style scoped>\n",
       "    .dataframe tbody tr th:only-of-type {\n",
       "        vertical-align: middle;\n",
       "    }\n",
       "\n",
       "    .dataframe tbody tr th {\n",
       "        vertical-align: top;\n",
       "    }\n",
       "\n",
       "    .dataframe thead th {\n",
       "        text-align: right;\n",
       "    }\n",
       "</style>\n",
       "<table border=\"1\" class=\"dataframe\">\n",
       "  <thead>\n",
       "    <tr style=\"text-align: right;\">\n",
       "      <th></th>\n",
       "      <th>gender</th>\n",
       "      <th>coupon</th>\n",
       "      <th>amount</th>\n",
       "      <th>income</th>\n",
       "      <th>time_spent</th>\n",
       "    </tr>\n",
       "  </thead>\n",
       "  <tbody>\n",
       "    <tr>\n",
       "      <th>0</th>\n",
       "      <td>1</td>\n",
       "      <td>1</td>\n",
       "      <td>504.695267</td>\n",
       "      <td>517.259674</td>\n",
       "      <td>60.469527</td>\n",
       "    </tr>\n",
       "    <tr>\n",
       "      <th>1</th>\n",
       "      <td>1</td>\n",
       "      <td>1</td>\n",
       "      <td>503.833114</td>\n",
       "      <td>517.168181</td>\n",
       "      <td>60.383311</td>\n",
       "    </tr>\n",
       "    <tr>\n",
       "      <th>2</th>\n",
       "      <td>1</td>\n",
       "      <td>1</td>\n",
       "      <td>497.694587</td>\n",
       "      <td>494.259992</td>\n",
       "      <td>59.769459</td>\n",
       "    </tr>\n",
       "    <tr>\n",
       "      <th>3</th>\n",
       "      <td>0</td>\n",
       "      <td>0</td>\n",
       "      <td>245.259153</td>\n",
       "      <td>477.792542</td>\n",
       "      <td>24.525915</td>\n",
       "    </tr>\n",
       "    <tr>\n",
       "      <th>4</th>\n",
       "      <td>0</td>\n",
       "      <td>1</td>\n",
       "      <td>400.853434</td>\n",
       "      <td>506.449489</td>\n",
       "      <td>50.085343</td>\n",
       "    </tr>\n",
       "  </tbody>\n",
       "</table>\n",
       "</div>"
      ],
      "text/plain": [
       "   gender  coupon      amount      income  time_spent\n",
       "0       1       1  504.695267  517.259674   60.469527\n",
       "1       1       1  503.833114  517.168181   60.383311\n",
       "2       1       1  497.694587  494.259992   59.769459\n",
       "3       0       0  245.259153  477.792542   24.525915\n",
       "4       0       1  400.853434  506.449489   50.085343"
      ]
     },
     "execution_count": 6,
     "metadata": {},
     "output_type": "execute_result"
    }
   ],
   "source": [
    "n_users = 10000\n",
    "df = coupon_dataset(n_users, with_income=True)\n",
    "df.head()"
   ]
  },
  {
   "cell_type": "markdown",
   "metadata": {},
   "source": [
    "## SLearner"
   ]
  },
  {
   "cell_type": "code",
   "execution_count": 18,
   "metadata": {},
   "outputs": [],
   "source": [
    "treatment = 'coupon'\n",
    "outcome = 'amount'\n",
    "w = ['gender', 'income']"
   ]
  },
  {
   "cell_type": "code",
   "execution_count": 19,
   "metadata": {},
   "outputs": [
    {
     "name": "stdout",
     "output_type": "stream",
     "text": [
      "The estimation error is 0.0003193211687494113\n"
     ]
    }
   ],
   "source": [
    "s_ = SLearner(ml_model='LR')\n",
    "s__ate = s_.estimate_ate(df, outcome, treatment, w)\n",
    "print(f'The estimation error is {np.abs(s__ate - 150) / 150}')"
   ]
  },
  {
   "cell_type": "code",
   "execution_count": 20,
   "metadata": {},
   "outputs": [
    {
     "data": {
      "text/plain": [
       "149.8049552157292"
      ]
     },
     "execution_count": 20,
     "metadata": {},
     "output_type": "execute_result"
    }
   ],
   "source": [
    "s_.estimate_cate(data=df, \n",
    "                outcome='amount', \n",
    "                treatment='coupon', \n",
    "                adjustment=['gender', 'income'],\n",
    "                condition_set={'time_spent'},\n",
    "                condition=(df['time_spent'] >= 25.06))"
   ]
  },
  {
   "cell_type": "markdown",
   "metadata": {},
   "source": [
    "## TLearner"
   ]
  },
  {
   "cell_type": "code",
   "execution_count": 21,
   "metadata": {},
   "outputs": [
    {
     "name": "stdout",
     "output_type": "stream",
     "text": [
      "The estimation error is 0.000837753491799352\n"
     ]
    }
   ],
   "source": [
    "t_ = TLearner(ml_model='LR')\n",
    "t__ate = t_.estimate_ate(data=df, \n",
    "               outcome=outcome, \n",
    "               treatment=treatment, \n",
    "               adjustment=w)\n",
    "print(f'The estimation error is {np.abs(t__ate - 150) / 150}')"
   ]
  },
  {
   "cell_type": "code",
   "execution_count": 11,
   "metadata": {},
   "outputs": [
    {
     "data": {
      "text/plain": [
       "149.4368733690326"
      ]
     },
     "execution_count": 11,
     "metadata": {},
     "output_type": "execute_result"
    }
   ],
   "source": [
    "t_.estimate_cate(data=df, \n",
    "                outcome='amount', \n",
    "                treatment='coupon', \n",
    "                adjustment=['gender', 'income'],\n",
    "                condition_set={'time_spent'},\n",
    "                condition=(df['time_spent'] >= 25.06))"
   ]
  },
  {
   "cell_type": "markdown",
   "metadata": {},
   "source": [
    "## XLearner"
   ]
  },
  {
   "cell_type": "code",
   "execution_count": 22,
   "metadata": {},
   "outputs": [
    {
     "name": "stdout",
     "output_type": "stream",
     "text": [
      "The estimation error is 0.0008377534917991625\n"
     ]
    }
   ],
   "source": [
    "x_ = XLearner(ml_model='LR')\n",
    "x__ate = x_.estimate_ate(data=df, \n",
    "               outcome='amount', \n",
    "               treatment='coupon', \n",
    "               adjustment=['gender', 'income'])\n",
    "print(f'The estimation error is {np.abs(x__ate - 150) / 150}')"
   ]
  },
  {
   "cell_type": "code",
   "execution_count": 13,
   "metadata": {},
   "outputs": [
    {
     "data": {
      "text/plain": [
       "149.4368733690326"
      ]
     },
     "execution_count": 13,
     "metadata": {},
     "output_type": "execute_result"
    }
   ],
   "source": [
    "x_.estimate_cate(data=df, \n",
    "                outcome='amount', \n",
    "                treatment='coupon', \n",
    "                adjustment=['gender', 'income'],\n",
    "                condition_set={'time_spent'},\n",
    "                condition=(df['time_spent'] >= 25.06))"
   ]
  }
 ],
 "metadata": {
  "interpreter": {
   "hash": "e0ecfad75f99b8578830c76494b15e8b8f0ed30d484e3d7b0b2aac43eb800e14"
  },
  "kernelspec": {
   "display_name": "Python 3.8.12 64-bit ('causal': conda)",
   "language": "python",
   "name": "python3"
  },
  "language_info": {
   "codemirror_mode": {
    "name": "ipython",
    "version": 3
   },
   "file_extension": ".py",
   "mimetype": "text/x-python",
   "name": "python",
   "nbconvert_exporter": "python",
   "pygments_lexer": "ipython3",
   "version": "3.8.12"
  },
  "orig_nbformat": 4
 },
 "nbformat": 4,
 "nbformat_minor": 2
}
