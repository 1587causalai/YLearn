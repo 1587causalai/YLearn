{
 "cells": [
  {
   "cell_type": "code",
   "execution_count": 52,
   "metadata": {},
   "outputs": [],
   "source": [
    "import pandas as pd\n",
    "import numpy as np\n",
    "from estimator_model.estimation_learner import meta_learner\n",
    "from estimator_model import ml_model"
   ]
  },
  {
   "cell_type": "markdown",
   "metadata": {},
   "source": [
    "It's still not clear why XLearner and TLearner are not effective."
   ]
  },
  {
   "cell_type": "code",
   "execution_count": 54,
   "metadata": {},
   "outputs": [
    {
     "data": {
      "text/html": [
       "<div>\n",
       "<style scoped>\n",
       "    .dataframe tbody tr th:only-of-type {\n",
       "        vertical-align: middle;\n",
       "    }\n",
       "\n",
       "    .dataframe tbody tr th {\n",
       "        vertical-align: top;\n",
       "    }\n",
       "\n",
       "    .dataframe thead th {\n",
       "        text-align: right;\n",
       "    }\n",
       "</style>\n",
       "<table border=\"1\" class=\"dataframe\">\n",
       "  <thead>\n",
       "    <tr style=\"text-align: right;\">\n",
       "      <th></th>\n",
       "      <th>gender</th>\n",
       "      <th>coupon</th>\n",
       "      <th>amount</th>\n",
       "      <th>income</th>\n",
       "      <th>time_spent</th>\n",
       "      <th>treatment</th>\n",
       "    </tr>\n",
       "  </thead>\n",
       "  <tbody>\n",
       "    <tr>\n",
       "      <th>0</th>\n",
       "      <td>0</td>\n",
       "      <td>1</td>\n",
       "      <td>392.615139</td>\n",
       "      <td>465.212789</td>\n",
       "      <td>49.261514</td>\n",
       "      <td>True</td>\n",
       "    </tr>\n",
       "    <tr>\n",
       "      <th>1</th>\n",
       "      <td>0</td>\n",
       "      <td>0</td>\n",
       "      <td>248.698072</td>\n",
       "      <td>485.902416</td>\n",
       "      <td>24.869807</td>\n",
       "      <td>False</td>\n",
       "    </tr>\n",
       "    <tr>\n",
       "      <th>2</th>\n",
       "      <td>0</td>\n",
       "      <td>1</td>\n",
       "      <td>402.419307</td>\n",
       "      <td>511.520948</td>\n",
       "      <td>50.241931</td>\n",
       "      <td>True</td>\n",
       "    </tr>\n",
       "    <tr>\n",
       "      <th>3</th>\n",
       "      <td>1</td>\n",
       "      <td>1</td>\n",
       "      <td>499.715426</td>\n",
       "      <td>498.731233</td>\n",
       "      <td>59.971543</td>\n",
       "      <td>True</td>\n",
       "    </tr>\n",
       "    <tr>\n",
       "      <th>4</th>\n",
       "      <td>1</td>\n",
       "      <td>1</td>\n",
       "      <td>497.594554</td>\n",
       "      <td>486.285776</td>\n",
       "      <td>59.759455</td>\n",
       "      <td>True</td>\n",
       "    </tr>\n",
       "    <tr>\n",
       "      <th>...</th>\n",
       "      <td>...</td>\n",
       "      <td>...</td>\n",
       "      <td>...</td>\n",
       "      <td>...</td>\n",
       "      <td>...</td>\n",
       "      <td>...</td>\n",
       "    </tr>\n",
       "    <tr>\n",
       "      <th>9995</th>\n",
       "      <td>1</td>\n",
       "      <td>1</td>\n",
       "      <td>501.816475</td>\n",
       "      <td>511.725780</td>\n",
       "      <td>60.181648</td>\n",
       "      <td>True</td>\n",
       "    </tr>\n",
       "    <tr>\n",
       "      <th>9996</th>\n",
       "      <td>1</td>\n",
       "      <td>1</td>\n",
       "      <td>497.091514</td>\n",
       "      <td>485.233299</td>\n",
       "      <td>59.709151</td>\n",
       "      <td>True</td>\n",
       "    </tr>\n",
       "    <tr>\n",
       "      <th>9997</th>\n",
       "      <td>1</td>\n",
       "      <td>1</td>\n",
       "      <td>500.184297</td>\n",
       "      <td>507.400975</td>\n",
       "      <td>60.018430</td>\n",
       "      <td>True</td>\n",
       "    </tr>\n",
       "    <tr>\n",
       "      <th>9998</th>\n",
       "      <td>1</td>\n",
       "      <td>1</td>\n",
       "      <td>497.412782</td>\n",
       "      <td>484.362127</td>\n",
       "      <td>59.741278</td>\n",
       "      <td>True</td>\n",
       "    </tr>\n",
       "    <tr>\n",
       "      <th>9999</th>\n",
       "      <td>0</td>\n",
       "      <td>0</td>\n",
       "      <td>246.947605</td>\n",
       "      <td>489.088486</td>\n",
       "      <td>24.694760</td>\n",
       "      <td>False</td>\n",
       "    </tr>\n",
       "  </tbody>\n",
       "</table>\n",
       "<p>10000 rows × 6 columns</p>\n",
       "</div>"
      ],
      "text/plain": [
       "      gender  coupon      amount      income  time_spent  treatment\n",
       "0          0       1  392.615139  465.212789   49.261514       True\n",
       "1          0       0  248.698072  485.902416   24.869807      False\n",
       "2          0       1  402.419307  511.520948   50.241931       True\n",
       "3          1       1  499.715426  498.731233   59.971543       True\n",
       "4          1       1  497.594554  486.285776   59.759455       True\n",
       "...      ...     ...         ...         ...         ...        ...\n",
       "9995       1       1  501.816475  511.725780   60.181648       True\n",
       "9996       1       1  497.091514  485.233299   59.709151       True\n",
       "9997       1       1  500.184297  507.400975   60.018430       True\n",
       "9998       1       1  497.412782  484.362127   59.741278       True\n",
       "9999       0       0  246.947605  489.088486   24.694760      False\n",
       "\n",
       "[10000 rows x 6 columns]"
      ]
     },
     "execution_count": 54,
     "metadata": {},
     "output_type": "execute_result"
    }
   ],
   "source": [
    "n_users = 10000\n",
    "def gen_data(n_users, binary_treatment=True, with_income=False):\n",
    "    \n",
    "    if with_income:\n",
    "        income = np.random.normal(500, scale=15, size=n_users)\n",
    "        gender = np.random.randint(0, 2, size=n_users)\n",
    "        coupon = gender * 20 + 110 + income / 50 + np.random.normal(scale=5, size=n_users)\n",
    "        if binary_treatment:\n",
    "            coupon = (coupon > 120).astype(int)\n",
    "        amount = coupon * 150 + gender * 100 + 150 + income / 5 + np.random.normal(size=n_users)\n",
    "        time_spent = coupon * 10 + amount / 10\n",
    "\n",
    "        df = pd.DataFrame({\n",
    "            'gender': gender,\n",
    "            'coupon': coupon,\n",
    "            'amount': amount,\n",
    "            'income': income,\n",
    "            'time_spent': time_spent,\n",
    "        })\n",
    "\n",
    "        return df\n",
    "    else:\n",
    "        gender = np.random.randint(0, 2, size=n_users)\n",
    "        coupon = gender * 20 + 150 + np.random.normal(scale=5, size=n_users)\n",
    "        if binary_treatment:\n",
    "            coupon = (coupon > 150).astype(int)\n",
    "        amount = coupon * 30 + gender * 100 + 150 + np.random.normal(size=n_users)\n",
    "        time_spent = coupon * 100 + amount / 10\n",
    "\n",
    "        df = pd.DataFrame({\n",
    "            'gender': gender,\n",
    "            'coupon': coupon,\n",
    "            'amount': amount,\n",
    "            'time_spent': time_spent,\n",
    "        })\n",
    "        \n",
    "        return df\n",
    "\n",
    "df = gen_data(n_users, with_income=True)\n",
    "df['treatment'] = df['coupon'] > 0\n",
    "df"
   ]
  },
  {
   "cell_type": "code",
   "execution_count": 64,
   "metadata": {},
   "outputs": [
    {
     "data": {
      "text/plain": [
       "10000"
      ]
     },
     "execution_count": 64,
     "metadata": {},
     "output_type": "execute_result"
    }
   ],
   "source": [
    "df['amount'].value_counts().shape[0]"
   ]
  },
  {
   "cell_type": "code",
   "execution_count": 42,
   "metadata": {},
   "outputs": [],
   "source": [
    "a = np.array([1 for i in df['income']])"
   ]
  },
  {
   "cell_type": "code",
   "execution_count": 47,
   "metadata": {},
   "outputs": [
    {
     "data": {
      "text/plain": [
       "10000"
      ]
     },
     "execution_count": 47,
     "metadata": {},
     "output_type": "execute_result"
    }
   ],
   "source": [
    "len(np.ones_like(df['income']))"
   ]
  },
  {
   "cell_type": "code",
   "execution_count": 51,
   "metadata": {},
   "outputs": [
    {
     "data": {
      "text/plain": [
       "RangeIndex(start=0, stop=10000, step=1)"
      ]
     },
     "execution_count": 51,
     "metadata": {},
     "output_type": "execute_result"
    }
   ],
   "source": [
    "df.index"
   ]
  },
  {
   "cell_type": "code",
   "execution_count": 41,
   "metadata": {},
   "outputs": [
    {
     "data": {
      "text/plain": [
       "1.0"
      ]
     },
     "execution_count": 41,
     "metadata": {},
     "output_type": "execute_result"
    }
   ],
   "source": [
    "(df['income'] / df['income']).mean()"
   ]
  },
  {
   "cell_type": "code",
   "execution_count": 20,
   "metadata": {},
   "outputs": [
    {
     "data": {
      "text/plain": [
       "1    7505\n",
       "0       2\n",
       "Name: coupon, dtype: int64"
      ]
     },
     "execution_count": 20,
     "metadata": {},
     "output_type": "execute_result"
    }
   ],
   "source": [
    "new_df[new_df['time_spent'] > 26]['coupon'].value_counts()"
   ]
  },
  {
   "cell_type": "markdown",
   "metadata": {},
   "source": [
    "## SLearner"
   ]
  },
  {
   "cell_type": "code",
   "execution_count": 21,
   "metadata": {},
   "outputs": [],
   "source": [
    "ml = ml_model.LR()\n",
    "l = meta_learner.SLearner(ml_model=ml)"
   ]
  },
  {
   "cell_type": "code",
   "execution_count": 22,
   "metadata": {},
   "outputs": [
    {
     "data": {
      "text/plain": [
       "array([150.02196995, 150.02196995, 150.02196995, ..., 150.02196995,\n",
       "       150.02196995, 150.02196995])"
      ]
     },
     "execution_count": 22,
     "metadata": {},
     "output_type": "execute_result"
    }
   ],
   "source": [
    "l.prepare(data=new_df, outcome='amount', treatment='coupon', adjustment={'gender', 'income'})"
   ]
  },
  {
   "cell_type": "code",
   "execution_count": 23,
   "metadata": {},
   "outputs": [
    {
     "data": {
      "text/plain": [
       "150.02196994838965"
      ]
     },
     "execution_count": 23,
     "metadata": {},
     "output_type": "execute_result"
    }
   ],
   "source": [
    "l.estimate_ate(data=new_df, \n",
    "               outcome='amount', \n",
    "               treatment='coupon', \n",
    "               adjustment=['gender', 'income'])"
   ]
  },
  {
   "cell_type": "code",
   "execution_count": 24,
   "metadata": {},
   "outputs": [
    {
     "data": {
      "text/plain": [
       "149.71783769915066"
      ]
     },
     "execution_count": 24,
     "metadata": {},
     "output_type": "execute_result"
    }
   ],
   "source": [
    "l.estimate_cate(data=new_df, \n",
    "                outcome='amount', \n",
    "                treatment='coupon', \n",
    "                adjustment=['gender', 'income'],\n",
    "                condition_set={'time_spent'},\n",
    "                condition=(new_df['time_spent'] >= 25.06))"
   ]
  },
  {
   "cell_type": "markdown",
   "metadata": {},
   "source": [
    "## TLearner"
   ]
  },
  {
   "cell_type": "code",
   "execution_count": 25,
   "metadata": {},
   "outputs": [
    {
     "data": {
      "text/plain": [
       "199.63088066696852"
      ]
     },
     "execution_count": 25,
     "metadata": {},
     "output_type": "execute_result"
    }
   ],
   "source": [
    "t = meta_learner.TLearner(ml_model=ml)\n",
    "t.estimate_ate(data=new_df, \n",
    "               outcome='amount', \n",
    "               treatment='coupon', \n",
    "               adjustment=['gender', 'income'])"
   ]
  },
  {
   "cell_type": "code",
   "execution_count": 26,
   "metadata": {},
   "outputs": [
    {
     "data": {
      "text/plain": [
       "199.63088066696852"
      ]
     },
     "execution_count": 26,
     "metadata": {},
     "output_type": "execute_result"
    }
   ],
   "source": [
    "t.estimate_cate(data=new_df, \n",
    "                outcome='amount', \n",
    "                treatment='coupon', \n",
    "                adjustment=['gender', 'income'],\n",
    "                condition_set={'time_spent'},\n",
    "                condition=(new_df['time_spent'] >= 20))"
   ]
  },
  {
   "cell_type": "markdown",
   "metadata": {},
   "source": [
    "## XLearner"
   ]
  },
  {
   "cell_type": "code",
   "execution_count": 27,
   "metadata": {},
   "outputs": [
    {
     "data": {
      "text/plain": [
       "24.804423189303208"
      ]
     },
     "execution_count": 27,
     "metadata": {},
     "output_type": "execute_result"
    }
   ],
   "source": [
    "x = meta_learner.XLearner(ml_model=ml)\n",
    "x.estimate_ate(data=new_df, \n",
    "               outcome='amount', \n",
    "               treatment='coupon', \n",
    "               adjustment=['gender', 'income'])"
   ]
  },
  {
   "cell_type": "markdown",
   "metadata": {},
   "source": [
    "$\\bot$"
   ]
  },
  {
   "cell_type": "code",
   "execution_count": 28,
   "metadata": {},
   "outputs": [
    {
     "data": {
      "text/plain": [
       "'----------'"
      ]
     },
     "execution_count": 28,
     "metadata": {},
     "output_type": "execute_result"
    }
   ],
   "source": [
    "a = '-'\n",
    "for i in range(9):\n",
    "    a += '-'\n",
    "a"
   ]
  }
 ],
 "metadata": {
  "interpreter": {
   "hash": "e0ecfad75f99b8578830c76494b15e8b8f0ed30d484e3d7b0b2aac43eb800e14"
  },
  "kernelspec": {
   "display_name": "Python 3.8.12 64-bit ('causal': conda)",
   "language": "python",
   "name": "python3"
  },
  "language_info": {
   "codemirror_mode": {
    "name": "ipython",
    "version": 3
   },
   "file_extension": ".py",
   "mimetype": "text/x-python",
   "name": "python",
   "nbconvert_exporter": "python",
   "pygments_lexer": "ipython3",
   "version": "3.8.12"
  },
  "orig_nbformat": 4
 },
 "nbformat": 4,
 "nbformat_minor": 2
}
