{
 "cells": [
  {
   "cell_type": "code",
   "execution_count": 4,
   "metadata": {},
   "outputs": [],
   "source": [
    "import numpy as np\n",
    "from exp_data import single_continuous_treatment"
   ]
  },
  {
   "cell_type": "markdown",
   "metadata": {},
   "source": [
    "## Single continuous treatment.\n",
    "Valid estimation models include\n",
    "- DeepIV\n",
    "- DoubleML\n",
    "- CausalTree"
   ]
  },
  {
   "cell_type": "code",
   "execution_count": 2,
   "metadata": {},
   "outputs": [],
   "source": [
    "train, val, treatment_effect = single_continuous_treatment()"
   ]
  },
  {
   "cell_type": "code",
   "execution_count": 3,
   "metadata": {},
   "outputs": [
    {
     "data": {
      "text/html": [
       "<div>\n",
       "<style scoped>\n",
       "    .dataframe tbody tr th:only-of-type {\n",
       "        vertical-align: middle;\n",
       "    }\n",
       "\n",
       "    .dataframe tbody tr th {\n",
       "        vertical-align: top;\n",
       "    }\n",
       "\n",
       "    .dataframe thead th {\n",
       "        text-align: right;\n",
       "    }\n",
       "</style>\n",
       "<table border=\"1\" class=\"dataframe\">\n",
       "  <thead>\n",
       "    <tr style=\"text-align: right;\">\n",
       "      <th></th>\n",
       "      <th>w_0</th>\n",
       "      <th>w_1</th>\n",
       "      <th>w_2</th>\n",
       "      <th>w_3</th>\n",
       "      <th>w_4</th>\n",
       "      <th>w_5</th>\n",
       "      <th>w_6</th>\n",
       "      <th>w_7</th>\n",
       "      <th>w_8</th>\n",
       "      <th>w_9</th>\n",
       "      <th>...</th>\n",
       "      <th>w_23</th>\n",
       "      <th>w_24</th>\n",
       "      <th>w_25</th>\n",
       "      <th>w_26</th>\n",
       "      <th>w_27</th>\n",
       "      <th>w_28</th>\n",
       "      <th>w_29</th>\n",
       "      <th>c_0</th>\n",
       "      <th>outcome</th>\n",
       "      <th>treatment</th>\n",
       "    </tr>\n",
       "  </thead>\n",
       "  <tbody>\n",
       "    <tr>\n",
       "      <th>1212</th>\n",
       "      <td>-1.010090</td>\n",
       "      <td>-1.793770</td>\n",
       "      <td>-0.704964</td>\n",
       "      <td>0.083557</td>\n",
       "      <td>0.481427</td>\n",
       "      <td>-0.048769</td>\n",
       "      <td>-0.194278</td>\n",
       "      <td>-0.817631</td>\n",
       "      <td>0.267509</td>\n",
       "      <td>0.388186</td>\n",
       "      <td>...</td>\n",
       "      <td>0.174202</td>\n",
       "      <td>0.705857</td>\n",
       "      <td>-1.235907</td>\n",
       "      <td>-1.240211</td>\n",
       "      <td>0.307156</td>\n",
       "      <td>-0.250887</td>\n",
       "      <td>0.955369</td>\n",
       "      <td>0.155103</td>\n",
       "      <td>-0.391496</td>\n",
       "      <td>-0.049943</td>\n",
       "    </tr>\n",
       "    <tr>\n",
       "      <th>1690</th>\n",
       "      <td>0.458838</td>\n",
       "      <td>0.284358</td>\n",
       "      <td>-0.456428</td>\n",
       "      <td>1.166463</td>\n",
       "      <td>-1.124323</td>\n",
       "      <td>-0.093801</td>\n",
       "      <td>3.306066</td>\n",
       "      <td>1.980896</td>\n",
       "      <td>0.628333</td>\n",
       "      <td>-0.282192</td>\n",
       "      <td>...</td>\n",
       "      <td>0.018890</td>\n",
       "      <td>-2.091498</td>\n",
       "      <td>0.994543</td>\n",
       "      <td>2.341314</td>\n",
       "      <td>0.946668</td>\n",
       "      <td>0.601337</td>\n",
       "      <td>-0.028910</td>\n",
       "      <td>0.335181</td>\n",
       "      <td>-0.884389</td>\n",
       "      <td>-0.495657</td>\n",
       "    </tr>\n",
       "    <tr>\n",
       "      <th>1198</th>\n",
       "      <td>-0.894299</td>\n",
       "      <td>0.720393</td>\n",
       "      <td>1.682601</td>\n",
       "      <td>0.215710</td>\n",
       "      <td>0.732282</td>\n",
       "      <td>-1.210671</td>\n",
       "      <td>0.305657</td>\n",
       "      <td>-0.427936</td>\n",
       "      <td>3.042174</td>\n",
       "      <td>-0.673378</td>\n",
       "      <td>...</td>\n",
       "      <td>-1.396297</td>\n",
       "      <td>0.527429</td>\n",
       "      <td>1.084672</td>\n",
       "      <td>0.017845</td>\n",
       "      <td>-1.970667</td>\n",
       "      <td>0.183399</td>\n",
       "      <td>0.292241</td>\n",
       "      <td>0.547452</td>\n",
       "      <td>3.535996</td>\n",
       "      <td>1.082807</td>\n",
       "    </tr>\n",
       "    <tr>\n",
       "      <th>401</th>\n",
       "      <td>-0.298571</td>\n",
       "      <td>-1.671269</td>\n",
       "      <td>0.260021</td>\n",
       "      <td>-1.836556</td>\n",
       "      <td>1.249896</td>\n",
       "      <td>-2.137694</td>\n",
       "      <td>0.234445</td>\n",
       "      <td>-1.012757</td>\n",
       "      <td>-0.203846</td>\n",
       "      <td>-0.045091</td>\n",
       "      <td>...</td>\n",
       "      <td>-0.697999</td>\n",
       "      <td>-0.147662</td>\n",
       "      <td>0.010062</td>\n",
       "      <td>-0.701577</td>\n",
       "      <td>-0.903222</td>\n",
       "      <td>-0.303378</td>\n",
       "      <td>-1.196278</td>\n",
       "      <td>0.477712</td>\n",
       "      <td>-5.814209</td>\n",
       "      <td>-0.726763</td>\n",
       "    </tr>\n",
       "    <tr>\n",
       "      <th>512</th>\n",
       "      <td>-0.008337</td>\n",
       "      <td>0.312129</td>\n",
       "      <td>2.535573</td>\n",
       "      <td>-1.778272</td>\n",
       "      <td>2.412057</td>\n",
       "      <td>-2.550452</td>\n",
       "      <td>0.696291</td>\n",
       "      <td>1.054566</td>\n",
       "      <td>1.074932</td>\n",
       "      <td>-0.494271</td>\n",
       "      <td>...</td>\n",
       "      <td>0.436000</td>\n",
       "      <td>1.084067</td>\n",
       "      <td>-1.606550</td>\n",
       "      <td>0.782404</td>\n",
       "      <td>0.928994</td>\n",
       "      <td>-2.466212</td>\n",
       "      <td>-1.042824</td>\n",
       "      <td>0.076972</td>\n",
       "      <td>5.347627</td>\n",
       "      <td>3.144719</td>\n",
       "    </tr>\n",
       "    <tr>\n",
       "      <th>...</th>\n",
       "      <td>...</td>\n",
       "      <td>...</td>\n",
       "      <td>...</td>\n",
       "      <td>...</td>\n",
       "      <td>...</td>\n",
       "      <td>...</td>\n",
       "      <td>...</td>\n",
       "      <td>...</td>\n",
       "      <td>...</td>\n",
       "      <td>...</td>\n",
       "      <td>...</td>\n",
       "      <td>...</td>\n",
       "      <td>...</td>\n",
       "      <td>...</td>\n",
       "      <td>...</td>\n",
       "      <td>...</td>\n",
       "      <td>...</td>\n",
       "      <td>...</td>\n",
       "      <td>...</td>\n",
       "      <td>...</td>\n",
       "      <td>...</td>\n",
       "    </tr>\n",
       "    <tr>\n",
       "      <th>1323</th>\n",
       "      <td>0.473488</td>\n",
       "      <td>-0.246827</td>\n",
       "      <td>-0.829371</td>\n",
       "      <td>0.167178</td>\n",
       "      <td>2.051812</td>\n",
       "      <td>-1.098893</td>\n",
       "      <td>-2.022564</td>\n",
       "      <td>1.115111</td>\n",
       "      <td>-0.843840</td>\n",
       "      <td>0.027017</td>\n",
       "      <td>...</td>\n",
       "      <td>0.734411</td>\n",
       "      <td>0.659410</td>\n",
       "      <td>-0.066118</td>\n",
       "      <td>0.836309</td>\n",
       "      <td>-0.187636</td>\n",
       "      <td>-1.201602</td>\n",
       "      <td>-0.812195</td>\n",
       "      <td>0.887783</td>\n",
       "      <td>9.797455</td>\n",
       "      <td>1.707117</td>\n",
       "    </tr>\n",
       "    <tr>\n",
       "      <th>929</th>\n",
       "      <td>0.062928</td>\n",
       "      <td>0.663101</td>\n",
       "      <td>-0.003895</td>\n",
       "      <td>0.283313</td>\n",
       "      <td>0.150168</td>\n",
       "      <td>0.676016</td>\n",
       "      <td>-0.800642</td>\n",
       "      <td>-2.142750</td>\n",
       "      <td>1.956881</td>\n",
       "      <td>-0.023682</td>\n",
       "      <td>...</td>\n",
       "      <td>0.433028</td>\n",
       "      <td>0.492842</td>\n",
       "      <td>-0.446452</td>\n",
       "      <td>-1.392282</td>\n",
       "      <td>0.161448</td>\n",
       "      <td>-0.281472</td>\n",
       "      <td>2.292087</td>\n",
       "      <td>0.540622</td>\n",
       "      <td>1.633430</td>\n",
       "      <td>0.008218</td>\n",
       "    </tr>\n",
       "    <tr>\n",
       "      <th>652</th>\n",
       "      <td>-0.474054</td>\n",
       "      <td>-0.208888</td>\n",
       "      <td>0.843013</td>\n",
       "      <td>1.233498</td>\n",
       "      <td>0.275309</td>\n",
       "      <td>2.065287</td>\n",
       "      <td>0.029058</td>\n",
       "      <td>0.007994</td>\n",
       "      <td>1.498871</td>\n",
       "      <td>0.045821</td>\n",
       "      <td>...</td>\n",
       "      <td>1.713916</td>\n",
       "      <td>2.251417</td>\n",
       "      <td>-0.007995</td>\n",
       "      <td>-0.729207</td>\n",
       "      <td>0.872539</td>\n",
       "      <td>-1.748384</td>\n",
       "      <td>-0.784325</td>\n",
       "      <td>0.720702</td>\n",
       "      <td>-10.299303</td>\n",
       "      <td>-1.758245</td>\n",
       "    </tr>\n",
       "    <tr>\n",
       "      <th>553</th>\n",
       "      <td>0.144784</td>\n",
       "      <td>-0.631134</td>\n",
       "      <td>-0.768283</td>\n",
       "      <td>0.646175</td>\n",
       "      <td>-2.800647</td>\n",
       "      <td>0.303113</td>\n",
       "      <td>1.030039</td>\n",
       "      <td>0.206670</td>\n",
       "      <td>0.752679</td>\n",
       "      <td>0.937146</td>\n",
       "      <td>...</td>\n",
       "      <td>0.985607</td>\n",
       "      <td>-1.607408</td>\n",
       "      <td>1.784038</td>\n",
       "      <td>0.048513</td>\n",
       "      <td>0.593881</td>\n",
       "      <td>1.885963</td>\n",
       "      <td>0.295527</td>\n",
       "      <td>0.217212</td>\n",
       "      <td>0.237139</td>\n",
       "      <td>-0.660572</td>\n",
       "    </tr>\n",
       "    <tr>\n",
       "      <th>382</th>\n",
       "      <td>-1.012182</td>\n",
       "      <td>-2.310253</td>\n",
       "      <td>0.726641</td>\n",
       "      <td>-0.180945</td>\n",
       "      <td>-0.162788</td>\n",
       "      <td>0.318379</td>\n",
       "      <td>-1.055082</td>\n",
       "      <td>0.725277</td>\n",
       "      <td>-0.489057</td>\n",
       "      <td>0.761651</td>\n",
       "      <td>...</td>\n",
       "      <td>0.221864</td>\n",
       "      <td>0.369722</td>\n",
       "      <td>-0.378601</td>\n",
       "      <td>1.938581</td>\n",
       "      <td>0.781012</td>\n",
       "      <td>-0.270042</td>\n",
       "      <td>0.760944</td>\n",
       "      <td>0.673528</td>\n",
       "      <td>1.637244</td>\n",
       "      <td>0.375009</td>\n",
       "    </tr>\n",
       "  </tbody>\n",
       "</table>\n",
       "<p>1500 rows × 33 columns</p>\n",
       "</div>"
      ],
      "text/plain": [
       "           w_0       w_1       w_2       w_3       w_4       w_5       w_6  \\\n",
       "1212 -1.010090 -1.793770 -0.704964  0.083557  0.481427 -0.048769 -0.194278   \n",
       "1690  0.458838  0.284358 -0.456428  1.166463 -1.124323 -0.093801  3.306066   \n",
       "1198 -0.894299  0.720393  1.682601  0.215710  0.732282 -1.210671  0.305657   \n",
       "401  -0.298571 -1.671269  0.260021 -1.836556  1.249896 -2.137694  0.234445   \n",
       "512  -0.008337  0.312129  2.535573 -1.778272  2.412057 -2.550452  0.696291   \n",
       "...        ...       ...       ...       ...       ...       ...       ...   \n",
       "1323  0.473488 -0.246827 -0.829371  0.167178  2.051812 -1.098893 -2.022564   \n",
       "929   0.062928  0.663101 -0.003895  0.283313  0.150168  0.676016 -0.800642   \n",
       "652  -0.474054 -0.208888  0.843013  1.233498  0.275309  2.065287  0.029058   \n",
       "553   0.144784 -0.631134 -0.768283  0.646175 -2.800647  0.303113  1.030039   \n",
       "382  -1.012182 -2.310253  0.726641 -0.180945 -0.162788  0.318379 -1.055082   \n",
       "\n",
       "           w_7       w_8       w_9  ...      w_23      w_24      w_25  \\\n",
       "1212 -0.817631  0.267509  0.388186  ...  0.174202  0.705857 -1.235907   \n",
       "1690  1.980896  0.628333 -0.282192  ...  0.018890 -2.091498  0.994543   \n",
       "1198 -0.427936  3.042174 -0.673378  ... -1.396297  0.527429  1.084672   \n",
       "401  -1.012757 -0.203846 -0.045091  ... -0.697999 -0.147662  0.010062   \n",
       "512   1.054566  1.074932 -0.494271  ...  0.436000  1.084067 -1.606550   \n",
       "...        ...       ...       ...  ...       ...       ...       ...   \n",
       "1323  1.115111 -0.843840  0.027017  ...  0.734411  0.659410 -0.066118   \n",
       "929  -2.142750  1.956881 -0.023682  ...  0.433028  0.492842 -0.446452   \n",
       "652   0.007994  1.498871  0.045821  ...  1.713916  2.251417 -0.007995   \n",
       "553   0.206670  0.752679  0.937146  ...  0.985607 -1.607408  1.784038   \n",
       "382   0.725277 -0.489057  0.761651  ...  0.221864  0.369722 -0.378601   \n",
       "\n",
       "          w_26      w_27      w_28      w_29       c_0    outcome  treatment  \n",
       "1212 -1.240211  0.307156 -0.250887  0.955369  0.155103  -0.391496  -0.049943  \n",
       "1690  2.341314  0.946668  0.601337 -0.028910  0.335181  -0.884389  -0.495657  \n",
       "1198  0.017845 -1.970667  0.183399  0.292241  0.547452   3.535996   1.082807  \n",
       "401  -0.701577 -0.903222 -0.303378 -1.196278  0.477712  -5.814209  -0.726763  \n",
       "512   0.782404  0.928994 -2.466212 -1.042824  0.076972   5.347627   3.144719  \n",
       "...        ...       ...       ...       ...       ...        ...        ...  \n",
       "1323  0.836309 -0.187636 -1.201602 -0.812195  0.887783   9.797455   1.707117  \n",
       "929  -1.392282  0.161448 -0.281472  2.292087  0.540622   1.633430   0.008218  \n",
       "652  -0.729207  0.872539 -1.748384 -0.784325  0.720702 -10.299303  -1.758245  \n",
       "553   0.048513  0.593881  1.885963  0.295527  0.217212   0.237139  -0.660572  \n",
       "382   1.938581  0.781012 -0.270042  0.760944  0.673528   1.637244   0.375009  \n",
       "\n",
       "[1500 rows x 33 columns]"
      ]
     },
     "execution_count": 3,
     "metadata": {},
     "output_type": "execute_result"
    }
   ],
   "source": [
    "train"
   ]
  },
  {
   "cell_type": "code",
   "execution_count": 6,
   "metadata": {},
   "outputs": [
    {
     "data": {
      "text/plain": [
       "array([1, 4, 2, 3])"
      ]
     },
     "execution_count": 6,
     "metadata": {},
     "output_type": "execute_result"
    }
   ],
   "source": [
    "np.concatenate(([1, 4], [2, 3]))"
   ]
  },
  {
   "cell_type": "code",
   "execution_count": 7,
   "metadata": {},
   "outputs": [
    {
     "data": {
      "text/plain": [
       "[1, 4, 2, 3]"
      ]
     },
     "execution_count": 7,
     "metadata": {},
     "output_type": "execute_result"
    }
   ],
   "source": [
    "[1, 4] + [2, 3]"
   ]
  },
  {
   "cell_type": "code",
   "execution_count": 27,
   "metadata": {},
   "outputs": [],
   "source": [
    "x = np.arange(0, 5).reshape(-1, 1)\n",
    "y = np.arange(5, 10).reshape(-1, 1)\n",
    "c = np.arange(7, 12).reshape(-1, 1)\n",
    "b = np.arange(6, 11).reshape(-1, 1)\n",
    "z = np.concatenate((y, b), axis=1)\n",
    "x_ = np.concatenate((x, c), axis=1)"
   ]
  },
  {
   "cell_type": "code",
   "execution_count": 18,
   "metadata": {},
   "outputs": [],
   "source": [
    "xy = np.hstack([x, y])"
   ]
  },
  {
   "cell_type": "code",
   "execution_count": 19,
   "metadata": {},
   "outputs": [],
   "source": [
    "z = np.concatenate((x, y), axis=1)"
   ]
  },
  {
   "cell_type": "code",
   "execution_count": 22,
   "metadata": {},
   "outputs": [],
   "source": [
    "from functools import reduce\n",
    "def cross_product(*XS):\n",
    "    for X in XS:\n",
    "        assert 2 >= np.ndim(X) >= 1\n",
    "    n = np.shape(XS[0])[0]\n",
    "    for X in XS:\n",
    "        assert n == np.shape(X)[0]\n",
    "\n",
    "    def cross(XS):\n",
    "        k = len(XS)\n",
    "        XS = [np.reshape(XS[i], (n,) + (1,) * (k - i - 1) + (-1,) + (1,) * i) for i in range(k)]\n",
    "        return np.reshape(reduce(np.multiply, XS), (n, -1))\n",
    "    return cross(XS)\n"
   ]
  },
  {
   "cell_type": "code",
   "execution_count": 30,
   "metadata": {},
   "outputs": [
    {
     "data": {
      "text/plain": [
       "array([[ 0,  7],\n",
       "       [ 1,  8],\n",
       "       [ 2,  9],\n",
       "       [ 3, 10],\n",
       "       [ 4, 11]])"
      ]
     },
     "execution_count": 30,
     "metadata": {},
     "output_type": "execute_result"
    }
   ],
   "source": [
    "x_"
   ]
  },
  {
   "cell_type": "code",
   "execution_count": 31,
   "metadata": {},
   "outputs": [
    {
     "data": {
      "text/plain": [
       "array([[ 5,  6],\n",
       "       [ 6,  7],\n",
       "       [ 7,  8],\n",
       "       [ 8,  9],\n",
       "       [ 9, 10]])"
      ]
     },
     "execution_count": 31,
     "metadata": {},
     "output_type": "execute_result"
    }
   ],
   "source": [
    "z"
   ]
  },
  {
   "cell_type": "code",
   "execution_count": 48,
   "metadata": {},
   "outputs": [
    {
     "data": {
      "text/plain": [
       "array([[3, 4]])"
      ]
     },
     "execution_count": 48,
     "metadata": {},
     "output_type": "execute_result"
    }
   ],
   "source": [
    "d = np.array([1, 2]).reshape(1, -1)\n",
    "e = np.array([3, 4]).reshape(1, -1)\n",
    "e"
   ]
  },
  {
   "cell_type": "code",
   "execution_count": 50,
   "metadata": {},
   "outputs": [
    {
     "data": {
      "text/plain": [
       "array([[3, 6, 4, 8]])"
      ]
     },
     "execution_count": 50,
     "metadata": {},
     "output_type": "execute_result"
    }
   ],
   "source": [
    "cross_product(d, e)"
   ]
  },
  {
   "cell_type": "code",
   "execution_count": 52,
   "metadata": {},
   "outputs": [
    {
     "data": {
      "text/plain": [
       "array([[3, 6, 4, 8]])"
      ]
     },
     "execution_count": 52,
     "metadata": {},
     "output_type": "execute_result"
    }
   ],
   "source": [
    "np.kron(e, d)"
   ]
  },
  {
   "cell_type": "code",
   "execution_count": 56,
   "metadata": {},
   "outputs": [
    {
     "data": {
      "text/plain": [
       "array([[3., 3., 3., 4., 4., 4.]])"
      ]
     },
     "execution_count": 56,
     "metadata": {},
     "output_type": "execute_result"
    }
   ],
   "source": [
    "np.kron(e, np.ones(3))"
   ]
  },
  {
   "cell_type": "code",
   "execution_count": 60,
   "metadata": {},
   "outputs": [
    {
     "data": {
      "text/plain": [
       "array([[3., 4., 3., 4., 3., 4.]])"
      ]
     },
     "execution_count": 60,
     "metadata": {},
     "output_type": "execute_result"
    }
   ],
   "source": [
    "cross_product(e, np.ones(3).reshape(1, -1))"
   ]
  },
  {
   "cell_type": "code",
   "execution_count": 72,
   "metadata": {},
   "outputs": [
    {
     "data": {
      "text/plain": [
       "array([[-1.66547205],\n",
       "       [-0.43569922],\n",
       "       [-0.98905047],\n",
       "       [ 0.49403187],\n",
       "       [-1.82909351]])"
      ]
     },
     "execution_count": 72,
     "metadata": {},
     "output_type": "execute_result"
    }
   ],
   "source": [
    "X = np.random.normal(size=(5, 3))\n",
    "y = X[:, 0] + X[:, 1] + np.random.normal(0, 0.01, size=(5,))\n",
    "z = np.ones((X.shape[0], 1)) * X[:, 0].reshape(-1, 1)\n",
    "z"
   ]
  },
  {
   "cell_type": "code",
   "execution_count": 77,
   "metadata": {},
   "outputs": [
    {
     "data": {
      "text/plain": [
       "array([2.])"
      ]
     },
     "execution_count": 77,
     "metadata": {},
     "output_type": "execute_result"
    }
   ],
   "source": [
    "np.kron(np.ones(1), np.array([2]))"
   ]
  },
  {
   "cell_type": "code",
   "execution_count": 117,
   "metadata": {},
   "outputs": [],
   "source": [
    "X = np.array([[1, 2], [3, 4], [1, 2], [3, 4], [5, 6]])\n",
    "y = np.array([1, 2, 3, 4, 5])"
   ]
  },
  {
   "cell_type": "code",
   "execution_count": 118,
   "metadata": {},
   "outputs": [
    {
     "data": {
      "text/plain": [
       "(5, 2)"
      ]
     },
     "execution_count": 118,
     "metadata": {},
     "output_type": "execute_result"
    }
   ],
   "source": [
    "X.shape"
   ]
  },
  {
   "cell_type": "code",
   "execution_count": 119,
   "metadata": {},
   "outputs": [],
   "source": [
    "from sklearn.model_selection import KFold\n",
    "kf = KFold(n_splits=2)\n",
    "fold = kf.split(X, y)"
   ]
  },
  {
   "cell_type": "code",
   "execution_count": 120,
   "metadata": {},
   "outputs": [
    {
     "data": {
      "text/plain": [
       "[(array([3, 4]), array([0, 1, 2])), (array([0, 1, 2]), array([3, 4]))]"
      ]
     },
     "execution_count": 120,
     "metadata": {},
     "output_type": "execute_result"
    }
   ],
   "source": [
    "list(fold)"
   ]
  },
  {
   "cell_type": "code",
   "execution_count": 94,
   "metadata": {},
   "outputs": [
    {
     "data": {
      "text/plain": [
       "[('a',), ('b',), ('c',)]"
      ]
     },
     "execution_count": 94,
     "metadata": {},
     "output_type": "execute_result"
    }
   ],
   "source": [
    "def _convert_str(*S):\n",
    "    S = list(S)\n",
    "    for i, s in enumerate(S):\n",
    "        if isinstance(s, str):\n",
    "            S[i] = tuple(s)\n",
    "    return S\n",
    "\n",
    "_convert_str('a', 'b', 'c')"
   ]
  },
  {
   "cell_type": "code",
   "execution_count": 111,
   "metadata": {},
   "outputs": [
    {
     "data": {
      "text/plain": [
       "Index(['a', 'b'], dtype='object')"
      ]
     },
     "execution_count": 111,
     "metadata": {},
     "output_type": "execute_result"
    }
   ],
   "source": [
    "d = {\n",
    "    'a': np.array([1, 2, 3]),\n",
    "    'b': np.array([4, 5, 6])\n",
    "}\n",
    "import pandas as pd\n",
    "dd = pd.DataFrame(d)\n",
    "dd.keys()"
   ]
  },
  {
   "cell_type": "code",
   "execution_count": 116,
   "metadata": {},
   "outputs": [
    {
     "data": {
      "text/plain": [
       "[array([1, 2, 3]), array([4, 5, 6]), None]"
      ]
     },
     "execution_count": 116,
     "metadata": {},
     "output_type": "execute_result"
    }
   ],
   "source": [
    "def convert2array(*S):\n",
    "    data = S[0]\n",
    "    S = list(S[1:])\n",
    "\n",
    "    for i, s in enumerate(S):\n",
    "        S[i] = data[s].values if s is not None else None\n",
    "\n",
    "    return S\n",
    "convert2array(dd, 'a', 'b', None)\n"
   ]
  },
  {
   "cell_type": "code",
   "execution_count": 114,
   "metadata": {},
   "outputs": [
    {
     "data": {
      "text/plain": [
       "array([1, 2, 3])"
      ]
     },
     "execution_count": 114,
     "metadata": {},
     "output_type": "execute_result"
    }
   ],
   "source": [
    "d['a']"
   ]
  },
  {
   "cell_type": "code",
   "execution_count": null,
   "metadata": {},
   "outputs": [],
   "source": []
  }
 ],
 "metadata": {
  "interpreter": {
   "hash": "e0ecfad75f99b8578830c76494b15e8b8f0ed30d484e3d7b0b2aac43eb800e14"
  },
  "kernelspec": {
   "display_name": "Python 3.8.12 64-bit ('causal': conda)",
   "language": "python",
   "name": "python3"
  },
  "language_info": {
   "codemirror_mode": {
    "name": "ipython",
    "version": 3
   },
   "file_extension": ".py",
   "mimetype": "text/x-python",
   "name": "python",
   "nbconvert_exporter": "python",
   "pygments_lexer": "ipython3",
   "version": "3.8.12"
  },
  "orig_nbformat": 4
 },
 "nbformat": 4,
 "nbformat_minor": 2
}
