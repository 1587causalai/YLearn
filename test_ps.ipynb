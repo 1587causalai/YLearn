{
 "cells": [
  {
   "cell_type": "code",
   "execution_count": 1,
   "metadata": {},
   "outputs": [],
   "source": [
    "import pandas as pd\n",
    "import numpy as np\n",
    "from estimator_model.propensity_score import InversePorbWeighting, PropensityScore\n",
    "\n",
    "from exp_data import coupon_dataset, meaningless_discrete_dataset, meaningless_discrete_dataset_\n",
    "\n",
    "np.random.seed(2022)"
   ]
  },
  {
   "cell_type": "markdown",
   "metadata": {},
   "source": [
    "## Try the trivial dataset. The true treatment effect is 3."
   ]
  },
  {
   "cell_type": "code",
   "execution_count": 3,
   "metadata": {},
   "outputs": [
    {
     "data": {
      "text/html": [
       "<div>\n",
       "<style scoped>\n",
       "    .dataframe tbody tr th:only-of-type {\n",
       "        vertical-align: middle;\n",
       "    }\n",
       "\n",
       "    .dataframe tbody tr th {\n",
       "        vertical-align: top;\n",
       "    }\n",
       "\n",
       "    .dataframe thead th {\n",
       "        text-align: right;\n",
       "    }\n",
       "</style>\n",
       "<table border=\"1\" class=\"dataframe\">\n",
       "  <thead>\n",
       "    <tr style=\"text-align: right;\">\n",
       "      <th></th>\n",
       "      <th>treatment</th>\n",
       "      <th>w_0</th>\n",
       "      <th>w_1</th>\n",
       "      <th>outcome</th>\n",
       "    </tr>\n",
       "  </thead>\n",
       "  <tbody>\n",
       "    <tr>\n",
       "      <th>0</th>\n",
       "      <td>0</td>\n",
       "      <td>-0.603348</td>\n",
       "      <td>-0.337215</td>\n",
       "      <td>0.795487</td>\n",
       "    </tr>\n",
       "    <tr>\n",
       "      <th>1</th>\n",
       "      <td>1</td>\n",
       "      <td>-0.228919</td>\n",
       "      <td>0.941748</td>\n",
       "      <td>4.828660</td>\n",
       "    </tr>\n",
       "    <tr>\n",
       "      <th>2</th>\n",
       "      <td>1</td>\n",
       "      <td>1.250625</td>\n",
       "      <td>-0.675590</td>\n",
       "      <td>2.070163</td>\n",
       "    </tr>\n",
       "    <tr>\n",
       "      <th>3</th>\n",
       "      <td>0</td>\n",
       "      <td>-0.004900</td>\n",
       "      <td>-0.835539</td>\n",
       "      <td>-0.409200</td>\n",
       "    </tr>\n",
       "    <tr>\n",
       "      <th>4</th>\n",
       "      <td>1</td>\n",
       "      <td>0.632894</td>\n",
       "      <td>0.058976</td>\n",
       "      <td>5.112075</td>\n",
       "    </tr>\n",
       "  </tbody>\n",
       "</table>\n",
       "</div>"
      ],
      "text/plain": [
       "   treatment       w_0       w_1   outcome\n",
       "0          0 -0.603348 -0.337215  0.795487\n",
       "1          1 -0.228919  0.941748  4.828660\n",
       "2          1  1.250625 -0.675590  2.070163\n",
       "3          0 -0.004900 -0.835539 -0.409200\n",
       "4          1  0.632894  0.058976  5.112075"
      ]
     },
     "execution_count": 3,
     "metadata": {},
     "output_type": "execute_result"
    }
   ],
   "source": [
    "data, coef = meaningless_discrete_dataset(num=1000,\n",
    "                                          confounder_n=2,\n",
    "                                          treatment_effct=[2, 3],\n",
    "                                          prob=[0.3, 0.7])\n",
    "data.head()"
   ]
  },
  {
   "cell_type": "code",
   "execution_count": 4,
   "metadata": {},
   "outputs": [],
   "source": [
    "treatment = 'treatment'\n",
    "outcome = 'outcome'\n",
    "w = ['w_0', 'w_1']"
   ]
  },
  {
   "cell_type": "code",
   "execution_count": 5,
   "metadata": {},
   "outputs": [],
   "source": [
    "ipw = InversePorbWeighting('LogisticR')\n",
    "ate = ipw.estimate_ate(data, 'outcome', 'treatment', w)"
   ]
  },
  {
   "cell_type": "code",
   "execution_count": 6,
   "metadata": {},
   "outputs": [
    {
     "name": "stdout",
     "output_type": "stream",
     "text": [
      "The estimation error is 0.05566537069934988\n"
     ]
    }
   ],
   "source": [
    "# Error\n",
    "print(f'The estimation error is {np.abs(ate - 3) / 3}')"
   ]
  },
  {
   "cell_type": "markdown",
   "metadata": {},
   "source": [
    "## Try the coupon-amount dataset. The true treatment effect is 150."
   ]
  },
  {
   "cell_type": "code",
   "execution_count": 7,
   "metadata": {},
   "outputs": [
    {
     "data": {
      "text/html": [
       "<div>\n",
       "<style scoped>\n",
       "    .dataframe tbody tr th:only-of-type {\n",
       "        vertical-align: middle;\n",
       "    }\n",
       "\n",
       "    .dataframe tbody tr th {\n",
       "        vertical-align: top;\n",
       "    }\n",
       "\n",
       "    .dataframe thead th {\n",
       "        text-align: right;\n",
       "    }\n",
       "</style>\n",
       "<table border=\"1\" class=\"dataframe\">\n",
       "  <thead>\n",
       "    <tr style=\"text-align: right;\">\n",
       "      <th></th>\n",
       "      <th>gender</th>\n",
       "      <th>coupon</th>\n",
       "      <th>amount</th>\n",
       "      <th>income</th>\n",
       "      <th>time_spent</th>\n",
       "    </tr>\n",
       "  </thead>\n",
       "  <tbody>\n",
       "    <tr>\n",
       "      <th>0</th>\n",
       "      <td>1</td>\n",
       "      <td>1</td>\n",
       "      <td>504.695267</td>\n",
       "      <td>517.259674</td>\n",
       "      <td>60.469527</td>\n",
       "    </tr>\n",
       "    <tr>\n",
       "      <th>1</th>\n",
       "      <td>1</td>\n",
       "      <td>1</td>\n",
       "      <td>503.833114</td>\n",
       "      <td>517.168181</td>\n",
       "      <td>60.383311</td>\n",
       "    </tr>\n",
       "    <tr>\n",
       "      <th>2</th>\n",
       "      <td>1</td>\n",
       "      <td>1</td>\n",
       "      <td>497.694587</td>\n",
       "      <td>494.259992</td>\n",
       "      <td>59.769459</td>\n",
       "    </tr>\n",
       "    <tr>\n",
       "      <th>3</th>\n",
       "      <td>0</td>\n",
       "      <td>0</td>\n",
       "      <td>245.259153</td>\n",
       "      <td>477.792542</td>\n",
       "      <td>24.525915</td>\n",
       "    </tr>\n",
       "    <tr>\n",
       "      <th>4</th>\n",
       "      <td>0</td>\n",
       "      <td>1</td>\n",
       "      <td>400.853434</td>\n",
       "      <td>506.449489</td>\n",
       "      <td>50.085343</td>\n",
       "    </tr>\n",
       "  </tbody>\n",
       "</table>\n",
       "</div>"
      ],
      "text/plain": [
       "   gender  coupon      amount      income  time_spent\n",
       "0       1       1  504.695267  517.259674   60.469527\n",
       "1       1       1  503.833114  517.168181   60.383311\n",
       "2       1       1  497.694587  494.259992   59.769459\n",
       "3       0       0  245.259153  477.792542   24.525915\n",
       "4       0       1  400.853434  506.449489   50.085343"
      ]
     },
     "execution_count": 7,
     "metadata": {},
     "output_type": "execute_result"
    }
   ],
   "source": [
    "n_users = 10000\n",
    "df = coupon_dataset(n_users, with_income=True)\n",
    "df.head()"
   ]
  },
  {
   "cell_type": "code",
   "execution_count": 8,
   "metadata": {},
   "outputs": [],
   "source": [
    "treatment = 'coupon'\n",
    "outcome = 'amount'\n",
    "w = ['gender', 'income']"
   ]
  },
  {
   "cell_type": "code",
   "execution_count": 9,
   "metadata": {},
   "outputs": [
    {
     "name": "stdout",
     "output_type": "stream",
     "text": [
      "The estimation error is 1.0095933850395633\n"
     ]
    }
   ],
   "source": [
    "ipw_ = InversePorbWeighting('LogisticR')\n",
    "ipw_ate = ipw_.estimate_ate(df, outcome, treatment, w)\n",
    "print(f'The estimation error is {np.abs(ipw_ate - 150) / 150}')"
   ]
  },
  {
   "cell_type": "markdown",
   "metadata": {},
   "source": [
    "why this failed?"
   ]
  },
  {
   "cell_type": "markdown",
   "metadata": {},
   "source": [
    "## Test new dataset."
   ]
  },
  {
   "cell_type": "code",
   "execution_count": 5,
   "metadata": {},
   "outputs": [
    {
     "data": {
      "text/plain": [
       "1    3891\n",
       "2    2480\n",
       "3    2284\n",
       "0    1345\n",
       "Name: treatment, dtype: int64"
      ]
     },
     "execution_count": 5,
     "metadata": {},
     "output_type": "execute_result"
    }
   ],
   "source": [
    "d = meaningless_discrete_dataset_(num=10000, \n",
    "                                  confounder_n=2,\n",
    "                                  treatment_effct=[1, 3, 4, 6],\n",
    "                                  random_seed=12)\n",
    "d['treatment'].value_counts()"
   ]
  }
 ],
 "metadata": {
  "interpreter": {
   "hash": "e0ecfad75f99b8578830c76494b15e8b8f0ed30d484e3d7b0b2aac43eb800e14"
  },
  "kernelspec": {
   "display_name": "Python 3.8.12 64-bit ('causal': conda)",
   "language": "python",
   "name": "python3"
  },
  "language_info": {
   "codemirror_mode": {
    "name": "ipython",
    "version": 3
   },
   "file_extension": ".py",
   "mimetype": "text/x-python",
   "name": "python",
   "nbconvert_exporter": "python",
   "pygments_lexer": "ipython3",
   "version": "3.8.12"
  },
  "orig_nbformat": 4
 },
 "nbformat": 4,
 "nbformat_minor": 2
}
