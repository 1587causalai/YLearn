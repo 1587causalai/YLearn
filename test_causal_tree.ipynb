{
 "cells": [
  {
   "cell_type": "code",
   "execution_count": 1,
   "metadata": {},
   "outputs": [],
   "source": [
    "import pandas as pd\n",
    "import numpy as np\n",
    "import matplotlib.pyplot as plt\n",
    "import matplotlib\n",
    "import scipy.special\n",
    "\n",
    "from estimator_model.causal_tree import CausalTree"
   ]
  },
  {
   "cell_type": "code",
   "execution_count": 2,
   "metadata": {},
   "outputs": [],
   "source": [
    "from sklearn.tree._criterion import MSE"
   ]
  },
  {
   "cell_type": "code",
   "execution_count": 3,
   "metadata": {},
   "outputs": [],
   "source": [
    "np.random.seed(123)\n",
    "n_samples = 2000\n",
    "n_features = 10\n",
    "n_treatments = 1\n",
    "# true_te = lambda X: np.hstack([X[:, [0]]**2 + 1, np.ones((X.shape[0], n_treatments - 1))])\n",
    "# true_te = lambda X: np.hstack([X[:, [0]]>0, np.ones((X.shape[0], n_treatments - 1))])\n",
    "true_te = lambda X: np.hstack([(X[:, [0]]>0) * X[:, [0]],\n",
    "                               np.ones((X.shape[0], n_treatments - 1))*np.arange(1, n_treatments).reshape(1, -1)])\n",
    "X = np.random.normal(0, 1, size=(n_samples, n_features))\n",
    "T = np.random.normal(0, 1, size=(n_samples, n_treatments))\n",
    "for t in range(n_treatments):\n",
    "    T[:, t] = np.random.binomial(1, scipy.special.expit(X[:, 0]))\n",
    "y = np.sum(true_te(X) * T, axis=1, keepdims=True) + np.random.normal(0, .5, size=(n_samples, 1))\n",
    "X_test = X[:min(100, n_samples)].copy()\n",
    "X_test[:, 0] = np.linspace(np.percentile(X[:, 0], 1), np.percentile(X[:, 0], 99), min(100, n_samples))"
   ]
  },
  {
   "cell_type": "code",
   "execution_count": 4,
   "metadata": {},
   "outputs": [
    {
     "data": {
      "text/html": [
       "<div>\n",
       "<style scoped>\n",
       "    .dataframe tbody tr th:only-of-type {\n",
       "        vertical-align: middle;\n",
       "    }\n",
       "\n",
       "    .dataframe tbody tr th {\n",
       "        vertical-align: top;\n",
       "    }\n",
       "\n",
       "    .dataframe thead th {\n",
       "        text-align: right;\n",
       "    }\n",
       "</style>\n",
       "<table border=\"1\" class=\"dataframe\">\n",
       "  <thead>\n",
       "    <tr style=\"text-align: right;\">\n",
       "      <th></th>\n",
       "      <th>treatment</th>\n",
       "      <th>outcome</th>\n",
       "      <th>w_0</th>\n",
       "      <th>w_1</th>\n",
       "      <th>w_2</th>\n",
       "      <th>w_3</th>\n",
       "      <th>w_4</th>\n",
       "      <th>w_5</th>\n",
       "      <th>w_6</th>\n",
       "      <th>w_7</th>\n",
       "      <th>w_8</th>\n",
       "      <th>w_9</th>\n",
       "    </tr>\n",
       "  </thead>\n",
       "  <tbody>\n",
       "    <tr>\n",
       "      <th>0</th>\n",
       "      <td>0.0</td>\n",
       "      <td>0.313885</td>\n",
       "      <td>-1.085631</td>\n",
       "      <td>0.997345</td>\n",
       "      <td>0.282978</td>\n",
       "      <td>-1.506295</td>\n",
       "      <td>-0.578600</td>\n",
       "      <td>1.651437</td>\n",
       "      <td>-2.426679</td>\n",
       "      <td>-0.428913</td>\n",
       "      <td>1.265936</td>\n",
       "      <td>-0.866740</td>\n",
       "    </tr>\n",
       "    <tr>\n",
       "      <th>1</th>\n",
       "      <td>0.0</td>\n",
       "      <td>-0.306026</td>\n",
       "      <td>-0.678886</td>\n",
       "      <td>-0.094709</td>\n",
       "      <td>1.491390</td>\n",
       "      <td>-0.638902</td>\n",
       "      <td>-0.443982</td>\n",
       "      <td>-0.434351</td>\n",
       "      <td>2.205930</td>\n",
       "      <td>2.186786</td>\n",
       "      <td>1.004054</td>\n",
       "      <td>0.386186</td>\n",
       "    </tr>\n",
       "    <tr>\n",
       "      <th>2</th>\n",
       "      <td>1.0</td>\n",
       "      <td>0.909253</td>\n",
       "      <td>0.737369</td>\n",
       "      <td>1.490732</td>\n",
       "      <td>-0.935834</td>\n",
       "      <td>1.175829</td>\n",
       "      <td>-1.253881</td>\n",
       "      <td>-0.637752</td>\n",
       "      <td>0.907105</td>\n",
       "      <td>-1.428681</td>\n",
       "      <td>-0.140069</td>\n",
       "      <td>-0.861755</td>\n",
       "    </tr>\n",
       "    <tr>\n",
       "      <th>3</th>\n",
       "      <td>0.0</td>\n",
       "      <td>-0.271350</td>\n",
       "      <td>-0.255619</td>\n",
       "      <td>-2.798589</td>\n",
       "      <td>-1.771533</td>\n",
       "      <td>-0.699877</td>\n",
       "      <td>0.927462</td>\n",
       "      <td>-0.173636</td>\n",
       "      <td>0.002846</td>\n",
       "      <td>0.688223</td>\n",
       "      <td>-0.879536</td>\n",
       "      <td>0.283627</td>\n",
       "    </tr>\n",
       "    <tr>\n",
       "      <th>4</th>\n",
       "      <td>0.0</td>\n",
       "      <td>0.000403</td>\n",
       "      <td>-0.805367</td>\n",
       "      <td>-1.727669</td>\n",
       "      <td>-0.390900</td>\n",
       "      <td>0.573806</td>\n",
       "      <td>0.338589</td>\n",
       "      <td>-0.011830</td>\n",
       "      <td>2.392365</td>\n",
       "      <td>0.412912</td>\n",
       "      <td>0.978736</td>\n",
       "      <td>2.238143</td>\n",
       "    </tr>\n",
       "  </tbody>\n",
       "</table>\n",
       "</div>"
      ],
      "text/plain": [
       "   treatment   outcome       w_0       w_1       w_2       w_3       w_4  \\\n",
       "0        0.0  0.313885 -1.085631  0.997345  0.282978 -1.506295 -0.578600   \n",
       "1        0.0 -0.306026 -0.678886 -0.094709  1.491390 -0.638902 -0.443982   \n",
       "2        1.0  0.909253  0.737369  1.490732 -0.935834  1.175829 -1.253881   \n",
       "3        0.0 -0.271350 -0.255619 -2.798589 -1.771533 -0.699877  0.927462   \n",
       "4        0.0  0.000403 -0.805367 -1.727669 -0.390900  0.573806  0.338589   \n",
       "\n",
       "        w_5       w_6       w_7       w_8       w_9  \n",
       "0  1.651437 -2.426679 -0.428913  1.265936 -0.866740  \n",
       "1 -0.434351  2.205930  2.186786  1.004054  0.386186  \n",
       "2 -0.637752  0.907105 -1.428681 -0.140069 -0.861755  \n",
       "3 -0.173636  0.002846  0.688223 -0.879536  0.283627  \n",
       "4 -0.011830  2.392365  0.412912  0.978736  2.238143  "
      ]
     },
     "execution_count": 4,
     "metadata": {},
     "output_type": "execute_result"
    }
   ],
   "source": [
    "adjustment = []\n",
    "outcome = 'outcome'\n",
    "treatment = 'treatment'\n",
    "data_dict = {\n",
    "    'treatment': T.reshape(-1,),\n",
    "    'outcome': y.reshape(-1, ),\n",
    "}\n",
    "test_data_dict = {}\n",
    "for i in range(X.shape[1]):\n",
    "    data_dict[f'w_{i}'] = X[:, i].reshape(-1, )\n",
    "    test_data_dict[f'w_{i}'] = X_test[:, i].reshape(-1, )\n",
    "    adjustment.append(f'w_{i}')\n",
    "data = pd.DataFrame(data_dict)\n",
    "test_data = pd.DataFrame(test_data_dict)\n",
    "data.head()"
   ]
  },
  {
   "cell_type": "code",
   "execution_count": 5,
   "metadata": {},
   "outputs": [
    {
     "data": {
      "text/plain": [
       "0.0    1020\n",
       "1.0     980\n",
       "Name: treatment, dtype: int64"
      ]
     },
     "execution_count": 5,
     "metadata": {},
     "output_type": "execute_result"
    }
   ],
   "source": [
    "data[treatment].value_counts()"
   ]
  },
  {
   "cell_type": "code",
   "execution_count": 6,
   "metadata": {},
   "outputs": [
    {
     "name": "stdout",
     "output_type": "stream",
     "text": [
      "tau 0.584751\n"
     ]
    }
   ],
   "source": [
    "ct = CausalTree()\n",
    "ct.fit(\n",
    "    data=data,\n",
    "    outcome=outcome,\n",
    "    treatment=treatment,\n",
    "    adjustment=adjustment\n",
    ")\n",
    "ct_pred = ct.estimate(data=test_data)"
   ]
  },
  {
   "cell_type": "code",
   "execution_count": 7,
   "metadata": {},
   "outputs": [
    {
     "data": {
      "text/plain": [
       "array([[ 0.31388521],\n",
       "       [-0.30602605],\n",
       "       [ 0.9092534 ],\n",
       "       ...,\n",
       "       [-0.28274488],\n",
       "       [ 1.14424285],\n",
       "       [ 0.92325254]])"
      ]
     },
     "execution_count": 7,
     "metadata": {},
     "output_type": "execute_result"
    }
   ],
   "source": [
    "ct.tree.predict(ct._wv.astype(np.float32))"
   ]
  },
  {
   "cell_type": "code",
   "execution_count": 8,
   "metadata": {},
   "outputs": [
    {
     "data": {
      "image/png": "[encoded data removed]",
      "text/plain": [
       "<Figure size 432x288 with 1 Axes>"
      ]
     },
     "metadata": {
      "needs_background": "light"
     },
     "output_type": "display_data"
    }
   ],
   "source": [
    "for t in range(n_treatments):\n",
    "    plt.plot(X_test[:, 0], ct_pred[:, t])\n",
    "plt.show()"
   ]
  },
  {
   "cell_type": "code",
   "execution_count": 12,
   "metadata": {},
   "outputs": [
    {
     "data": {
      "text/plain": [
       "0.0"
      ]
     },
     "execution_count": 12,
     "metadata": {},
     "output_type": "execute_result"
    }
   ],
   "source": [
    "0 / (0 + 1e-5)"
   ]
  },
  {
   "cell_type": "code",
   "execution_count": 9,
   "metadata": {},
   "outputs": [
    {
     "ename": "SyntaxError",
     "evalue": "invalid syntax (2460608234.py, line 1)",
     "output_type": "error",
     "traceback": [
      "\u001b[0;36m  File \u001b[0;32m\"/var/folders/sf/4v_dc8756mb7lsc2stqj1zjw0000gn/T/ipykernel_5882/2460608234.py\"\u001b[0;36m, line \u001b[0;32m1\u001b[0m\n\u001b[0;31m    cdef double node_impurity(self) nogil:\u001b[0m\n\u001b[0m         ^\u001b[0m\n\u001b[0;31mSyntaxError\u001b[0m\u001b[0;31m:\u001b[0m invalid syntax\n"
     ]
    }
   ],
   "source": [
    "     \n",
    "     cdef double node_impurity(self) nogil:\n",
    "        \"\"\"Evaluate the impurity of the current node.\n",
    "        Evaluate the CMSE criterion as impurity of the current node,\n",
    "        i.e. the impurity of samples[start:end]. The smaller the impurity the\n",
    "        better.\n",
    "        \"\"\"\n",
    "        cdef double impurity\n",
    "\n",
    "        cdef SIZE_t start = self.start\n",
    "        cdef SIZE_t end = self.end\n",
    "        cdef SIZE_t i\n",
    "        cdef SIZE_t p\n",
    "        cdef DOUBLE_t y_ik\n",
    "        cdef DOUBLE_t w\n",
    "\n",
    "        cdef SIZE_t* samples = self.samples\n",
    "        cdef DOUBLE_t* sample_weight = self.sample_weight\n",
    "\n",
    "        cdef double n_t = 0.0  # number of treatment examples\n",
    "        cdef double n_0 = 0.0  # number of control examples\n",
    "        cdef double yt_sum = 0.0  # sum of yt\n",
    "        cdef double y0_sum = 0.0  # sum of y0\n",
    "        cdef double yt_sq_sum = 0.0  # sum of yt^2\n",
    "        cdef double y0_sq_sum = 0.0  # sum of y0^2\n",
    "        cdef double mu_t  # estimation of yt\n",
    "        cdef double mu_0  # estimation of y0\n",
    "        cdef double var_t  # variance of the treatment group\n",
    "        cdef double var_0  # variance of the control group\n",
    "        cdef double tau\n",
    "\n",
    "        n_t = self.weighted_n_node_samples - (end - start + 1)\n",
    "        n_0 = (end - start + 1) - n_t\n",
    "        \n",
    "        for p in range(start, end):\n",
    "            i = samples[p]\n",
    "            \n",
    "            y_ik = self.y[i, 0]\n",
    "            yt_sum += y_ik\n",
    "            yt_sq_sum += y_ik * y_ik\n",
    "        \n",
    "        yt_sum = self.sum_total[0] - yt_sum\n",
    "        y0_sum = self.sum_total[0] - 2 * yt_sum\n",
    "\n",
    "        yt_sq_sum = self.sq_sum_total - yt_sq_sum\n",
    "        y0_sq_sum = self.sq_sum_total - 2 * yt_sq_sum\n",
    "\n",
    "        mu_t = yt_sum / n_t\n",
    "        mu_0 = y0_sum / n_0\n",
    "        tau = mu_t - mu_0\n",
    "        var_t = yt_sq_sum / n_t - mu_t * mu_t\n",
    "        var_0 = y0_sq_sum / n_0 - mu_0 * mu_0\n",
    "        impurity = -tau * tau + (var_t / n_t + var_0 / n_0)\n",
    "\n",
    "        self.reset()\n",
    "\n",
    "        return impurity"
   ]
  },
  {
   "cell_type": "code",
   "execution_count": null,
   "metadata": {},
   "outputs": [],
   "source": [
    "    cdef void node_value(self, double* dest) nogil:\n",
    "        \"\"\"Compute the node value of samples[start:end] into dest.\"\"\"\n",
    "        \n",
    "        cdef SIZE_t start = self.start\n",
    "        cdef SIZE_t end = self.end\n",
    "        cdef SIZE_t i\n",
    "        cdef SIZE_t p\n",
    "        cdef DOUBLE_t y_ik\n",
    "        cdef DOUBLE_t w\n",
    "\n",
    "        cdef SIZE_t* samples = self.samples\n",
    "        cdef DOUBLE_t* sample_weight = self.sample_weight\n",
    "\n",
    "        cdef double n_t = 0.0  # number of treatment examples\n",
    "        cdef double n_0 = 0.0  # number of control examples\n",
    "        cdef double y0_sum = 0.0  # sum of y0\n",
    "        \n",
    "        n_t = self.weighted_n_node_samples - (end - start + 1)\n",
    "        n_0 = (end - start + 1) - n_t\n",
    "\n",
    "        for p in range(start, end):\n",
    "            i = samples[p]\n",
    "\n",
    "            y_ik = self.y[i, 0]\n",
    "            yt_sum += y_ik\n",
    "        \n",
    "        yt_sum = self.sum_total[0] - yt_sum\n",
    "        y0_sum = self.sum_total[0] - 2 * yt_sum\n",
    "        \n",
    "        dest[0] = yt_sum / n_t - y0_sum / n_0\n",
    "        \n",
    "        self.reset()"
   ]
  },
  {
   "cell_type": "code",
   "execution_count": null,
   "metadata": {},
   "outputs": [],
   "source": [
    "# # Helper imports \n",
    "# import numpy as np\n",
    "# from numpy.random import binomial, multivariate_normal, normal, uniform\n",
    "# from sklearn.linear_model import LinearRegression\n",
    "# from sklearn.ensemble import RandomForestRegressor, RandomForestClassifier, GradientBoostingRegressor\n",
    "# import matplotlib.pyplot as plt\n",
    "# import pandas as pd\n",
    "\n",
    "# from estimator_model.meta_learner import SLearner, TLearner, XLearner\n",
    "# from estimator_model.doubly_robust import DoublyRobust\n",
    "\n",
    "# %matplotlib inline"
   ]
  },
  {
   "cell_type": "code",
   "execution_count": null,
   "metadata": {},
   "outputs": [],
   "source": [
    "# Define DGP\n",
    "# def generate_data(n, d, controls_outcome, treatment_effect, propensity):\n",
    "#     \"\"\"Generates population data for given untreated_outcome, treatment_effect and propensity functions.\n",
    "    \n",
    "#     Parameters\n",
    "#     ----------\n",
    "#         n (int): population size\n",
    "#         d (int): number of covariates\n",
    "#         controls_outcome (func): untreated outcome conditional on covariates\n",
    "#         treatment_effect (func): treatment effect conditional on covariates\n",
    "#         propensity (func): probability of treatment conditional on covariates\n",
    "#     \"\"\"\n",
    "#     # Generate covariates\n",
    "#     X = multivariate_normal(np.zeros(d), np.diag(np.ones(d)), n)\n",
    "#     # Generate treatment\n",
    "#     T = np.apply_along_axis(lambda x: binomial(1, propensity(x), 1)[0], 1, X)\n",
    "#     # Calculate outcome\n",
    "#     Y0 = np.apply_along_axis(lambda x: controls_outcome(x), 1, X)\n",
    "#     treat_effect = np.apply_along_axis(lambda x: treatment_effect(x), 1, X)\n",
    "#     Y = Y0 + treat_effect * T\n",
    "#     return (Y, T, X)"
   ]
  },
  {
   "cell_type": "code",
   "execution_count": null,
   "metadata": {},
   "outputs": [],
   "source": [
    "# def generate_controls_outcome(d):\n",
    "#     beta = uniform(-3, 3, d)\n",
    "#     return lambda x: np.dot(x, beta) + normal(0, 1)\n",
    "# treatment_effect = lambda x: (1 if x[1] > 0.1 else 0)*8\n",
    "# propensity = lambda x: (0.8 if (x[2]>-0.5 and x[2]<0.5) else 0.2)\n",
    "# # DGP constants and test data\n",
    "# d = 5\n",
    "# n = 1000\n",
    "# n_test = 250\n",
    "# controls_outcome = generate_controls_outcome(d)\n",
    "# X_test = multivariate_normal(np.zeros(d), np.diag(np.ones(d)), n_test)\n",
    "# delta = 6/n_test\n",
    "# X_test[:, 1] = np.arange(-3, 3, delta)"
   ]
  },
  {
   "cell_type": "code",
   "execution_count": null,
   "metadata": {},
   "outputs": [],
   "source": [
    "# y, x, w = generate_data(n, d, controls_outcome, treatment_effect, propensity)\n",
    "# data_dict = {\n",
    "#     'outcome': y,\n",
    "#     'treatment': x,\n",
    "# }\n",
    "# test_dict = {}\n",
    "# adjustment = []\n",
    "# for i in range(w.shape[1]):\n",
    "#     data_dict[f'w_{i}'] = w[:, i].squeeze()\n",
    "#     test_dict[f'w_{i}'] = X_test[:, i].squeeze()\n",
    "#     adjustment.append(f'w_{i}')\n",
    "# outcome = 'outcome'\n",
    "# treatment = 'treatment'\n",
    "# data = pd.DataFrame(data_dict)\n",
    "# test_data = pd.DataFrame(test_dict)"
   ]
  },
  {
   "cell_type": "code",
   "execution_count": null,
   "metadata": {},
   "outputs": [],
   "source": [
    "# ct = CausalTree(min_samples_leaf=2)\n",
    "# ct.fit(\n",
    "#     data=data,\n",
    "#     outcome=outcome,\n",
    "#     treatment=treatment,\n",
    "#     adjustment=adjustment\n",
    "# )"
   ]
  },
  {
   "cell_type": "code",
   "execution_count": null,
   "metadata": {},
   "outputs": [],
   "source": []
  }
 ],
 "metadata": {
  "interpreter": {
   "hash": "e0ecfad75f99b8578830c76494b15e8b8f0ed30d484e3d7b0b2aac43eb800e14"
  },
  "kernelspec": {
   "display_name": "Python 3.8.12 ('causal')",
   "language": "python",
   "name": "python3"
  },
  "language_info": {
   "codemirror_mode": {
    "name": "ipython",
    "version": 3
   },
   "file_extension": ".py",
   "mimetype": "text/x-python",
   "name": "python",
   "nbconvert_exporter": "python",
   "pygments_lexer": "ipython3",
   "version": "3.8.12"
  },
  "orig_nbformat": 4
 },
 "nbformat": 4,
 "nbformat_minor": 2
}
