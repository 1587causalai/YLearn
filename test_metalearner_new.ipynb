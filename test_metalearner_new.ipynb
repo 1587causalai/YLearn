{
 "cells": [
  {
   "cell_type": "code",
   "execution_count": null,
   "metadata": {},
   "outputs": [],
   "source": []
  },
  {
   "cell_type": "markdown",
   "metadata": {},
   "source": [
    "There are four cases\n",
    "- Single treatment, single outcomes\n",
    "- Single treatment, multiple outcomes\n",
    "- Multiple treatments, single outcome\n",
    "- Multiple treatments, multiple outcomes\n",
    "\n",
    "For outcomes, we may also consider the combinations of continuous and discrete outcomes."
   ]
  },
  {
   "cell_type": "code",
   "execution_count": null,
   "metadata": {},
   "outputs": [],
   "source": []
  }
 ],
 "metadata": {
  "language_info": {
   "name": "python"
  },
  "orig_nbformat": 4
 },
 "nbformat": 4,
 "nbformat_minor": 2
}
