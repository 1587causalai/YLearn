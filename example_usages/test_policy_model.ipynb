{
 "cells": [
  {
   "cell_type": "code",
   "execution_count": 1,
   "metadata": {},
   "outputs": [],
   "source": [
    "import sys\n",
    "import os\n",
    "sys.path.append(os.path.dirname(os.path.dirname(os.path.abspath('./introduction.ipynb'))))"
   ]
  },
  {
   "cell_type": "code",
   "execution_count": 2,
   "metadata": {},
   "outputs": [],
   "source": [
    "import numpy as np\n",
    "\n",
    "from ylearn.policy.policy_model import PolicyModel\n",
    "from ylearn.utils._common import to_df"
   ]
  },
  {
   "cell_type": "code",
   "execution_count": 3,
   "metadata": {},
   "outputs": [],
   "source": [
    "from sklearn.tree import DecisionTreeRegressor"
   ]
  },
  {
   "cell_type": "code",
   "execution_count": 4,
   "metadata": {},
   "outputs": [],
   "source": [
    "v = np.random.normal(size=(1000, 10))\n",
    "y = np.hstack([v[:, [0]] > 0, v[:, [0]] < 0])\n",
    "\n",
    "data = to_df(v=v)\n",
    "covariate = data.columns"
   ]
  },
  {
   "cell_type": "code",
   "execution_count": 5,
   "metadata": {},
   "outputs": [
    {
     "data": {
      "text/plain": [
       "DecisionTreeRegressor()"
      ]
     },
     "execution_count": 5,
     "metadata": {},
     "output_type": "execute_result"
    }
   ],
   "source": [
    "des_tree = DecisionTreeRegressor()\n",
    "des_tree.fit(v, y)"
   ]
  },
  {
   "cell_type": "code",
   "execution_count": 6,
   "metadata": {},
   "outputs": [
    {
     "name": "stdout",
     "output_type": "stream",
     "text": [
      "05-25 17:55:56 I ylearn.p.policy_model.py 336 - Start building the causal tree with criterion PRegCriteria\n",
      "05-25 17:55:56 I ylearn.p.policy_model.py 352 - Building the causal tree with splitter BestSplitter\n",
      "05-25 17:55:56 I ylearn.p.policy_model.py 384 - Building the causal tree with builder DepthFirstTreeBuilder\n"
     ]
    },
    {
     "data": {
      "text/plain": [
       "<ylearn.policy.policy_model.PolicyModel at 0x7fbc433db6d0>"
      ]
     },
     "execution_count": 6,
     "metadata": {},
     "output_type": "execute_result"
    }
   ],
   "source": [
    "est = PolicyModel(min_impurity_decrease=.001, criterion='policy_reg')\n",
    "est.fit(data=data, covariate=covariate, effect_array=y) "
   ]
  },
  {
   "cell_type": "code",
   "execution_count": 7,
   "metadata": {},
   "outputs": [
    {
     "name": "stdout",
     "output_type": "stream",
     "text": [
      "05-25 17:55:56 I ylearn.p.policy_model.py 336 - Start building the causal tree with criterion MSE\n",
      "05-25 17:55:56 I ylearn.p.policy_model.py 352 - Building the causal tree with splitter BestSplitter\n",
      "05-25 17:55:56 I ylearn.p.policy_model.py 384 - Building the causal tree with builder DepthFirstTreeBuilder\n",
      "node impurity\n",
      "children impurity\n"
     ]
    },
    {
     "data": {
      "text/plain": [
       "<ylearn.policy.policy_model.PolicyModel at 0x7fbc433af6d0>"
      ]
     },
     "execution_count": 7,
     "metadata": {},
     "output_type": "execute_result"
    }
   ],
   "source": [
    "est1 = PolicyModel(criterion='policy_test')\n",
    "est1.fit(data, covariate, effect_array=y)"
   ]
  },
  {
   "cell_type": "code",
   "execution_count": 8,
   "metadata": {},
   "outputs": [
    {
     "name": "stdout",
     "output_type": "stream",
     "text": [
      "05-25 17:55:56 I ylearn.p.policy_model.py 336 - Start building the causal tree with criterion PRegCriteria1\n",
      "05-25 17:55:56 I ylearn.p.policy_model.py 352 - Building the causal tree with splitter BestSplitter\n",
      "05-25 17:55:56 I ylearn.p.policy_model.py 384 - Building the causal tree with builder DepthFirstTreeBuilder\n"
     ]
    },
    {
     "data": {
      "text/plain": [
       "<ylearn.policy.policy_model.PolicyModel at 0x7fbc433e9ac0>"
      ]
     },
     "execution_count": 8,
     "metadata": {},
     "output_type": "execute_result"
    }
   ],
   "source": [
    "est2 = PolicyModel(criterion='policy_test1')\n",
    "est2.fit(data=data, covariate=covariate, effect_array=y)"
   ]
  },
  {
   "cell_type": "code",
   "execution_count": 9,
   "metadata": {},
   "outputs": [],
   "source": [
    "z = est.predict()\n",
    "zz = est2.predict()"
   ]
  },
  {
   "cell_type": "code",
   "execution_count": 10,
   "metadata": {},
   "outputs": [
    {
     "data": {
      "text/plain": [
       "array([0.])"
      ]
     },
     "execution_count": 10,
     "metadata": {},
     "output_type": "execute_result"
    }
   ],
   "source": [
    "np.unique(z - zz)"
   ]
  },
  {
   "cell_type": "code",
   "execution_count": 11,
   "metadata": {},
   "outputs": [
    {
     "data": {
      "text/plain": [
       "array([0.])"
      ]
     },
     "execution_count": 11,
     "metadata": {},
     "output_type": "execute_result"
    }
   ],
   "source": [
    "np.unique(z - y)"
   ]
  },
  {
   "cell_type": "code",
   "execution_count": null,
   "metadata": {},
   "outputs": [],
   "source": []
  }
 ],
 "metadata": {
  "interpreter": {
   "hash": "e0ecfad75f99b8578830c76494b15e8b8f0ed30d484e3d7b0b2aac43eb800e14"
  },
  "kernelspec": {
   "display_name": "Python 3.8.12 ('causal')",
   "language": "python",
   "name": "python3"
  },
  "language_info": {
   "codemirror_mode": {
    "name": "ipython",
    "version": 3
   },
   "file_extension": ".py",
   "mimetype": "text/x-python",
   "name": "python",
   "nbconvert_exporter": "python",
   "pygments_lexer": "ipython3",
   "version": "3.8.12"
  },
  "orig_nbformat": 4
 },
 "nbformat": 4,
 "nbformat_minor": 2
}
