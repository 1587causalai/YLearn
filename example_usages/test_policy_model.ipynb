{
 "cells": [
  {
   "cell_type": "code",
   "execution_count": 1,
   "metadata": {},
   "outputs": [],
   "source": [
    "import sys\n",
    "import os\n",
    "sys.path.append(os.path.dirname(os.path.dirname(os.path.abspath('./introduction.ipynb'))))"
   ]
  },
  {
   "cell_type": "code",
   "execution_count": 2,
   "metadata": {},
   "outputs": [],
   "source": [
    "import numpy as np\n",
    "\n",
    "from ylearn.policy.policy_model import PolicyTree\n",
    "from ylearn.utils._common import to_df\n",
    "import matplotlib.pyplot as plt"
   ]
  },
  {
   "cell_type": "code",
   "execution_count": 3,
   "metadata": {},
   "outputs": [],
   "source": [
    "from sklearn.tree import DecisionTreeRegressor"
   ]
  },
  {
   "cell_type": "code",
   "execution_count": 4,
   "metadata": {},
   "outputs": [],
   "source": [
    "v = np.random.normal(size=(1000, 10))\n",
    "y = np.hstack([v[:, [0]] < -1, v[:, [0]] > 1])\n",
    "\n",
    "data = to_df(v=v)\n",
    "covariate = data.columns"
   ]
  },
  {
   "cell_type": "code",
   "execution_count": 5,
   "metadata": {},
   "outputs": [
    {
     "name": "stdout",
     "output_type": "stream",
     "text": [
      "05-27 16:56:43 I ylearn.p.policy_model.py 429 - Start building the causal tree with criterion PRegCriteria\n",
      "05-27 16:56:43 I ylearn.p.policy_model.py 445 - Building the causal tree with splitter BestSplitter\n",
      "05-27 16:56:43 I ylearn.p.policy_model.py 477 - Building the causal tree with builder DepthFirstTreeBuilder\n"
     ]
    },
    {
     "data": {
      "text/plain": [
       "<ylearn.policy.policy_model.PolicyTree at 0x7f807c106f10>"
      ]
     },
     "execution_count": 5,
     "metadata": {},
     "output_type": "execute_result"
    }
   ],
   "source": [
    "est = PolicyTree(criterion='policy_reg')\n",
    "est.fit(data=data, covariate=covariate, effect_array=y)"
   ]
  },
  {
   "cell_type": "code",
   "execution_count": 6,
   "metadata": {},
   "outputs": [
    {
     "data": {
      "image/png": "[encoded data removed]",
      "text/plain": [
       "<Figure size 432x288 with 1 Axes>"
      ]
     },
     "metadata": {
      "needs_background": "light"
     },
     "output_type": "display_data"
    }
   ],
   "source": [
    "est.plot()\n",
    "plt.show()"
   ]
  },
  {
   "cell_type": "code",
   "execution_count": 7,
   "metadata": {},
   "outputs": [
    {
     "data": {
      "text/plain": [
       "array([1])"
      ]
     },
     "execution_count": 7,
     "metadata": {},
     "output_type": "execute_result"
    }
   ],
   "source": [
    "est.tree_.value[0].argmax(0)"
   ]
  },
  {
   "cell_type": "code",
   "execution_count": 8,
   "metadata": {},
   "outputs": [
    {
     "data": {
      "text/plain": [
       "<1x5 sparse matrix of type '<class 'numpy.int64'>'\n",
       "\twith 2 stored elements in Compressed Sparse Row format>"
      ]
     },
     "execution_count": 8,
     "metadata": {},
     "output_type": "execute_result"
    }
   ],
   "source": [
    "est.decision_path(data[:1])"
   ]
  },
  {
   "cell_type": "code",
   "execution_count": 9,
   "metadata": {},
   "outputs": [
    {
     "name": "stdout",
     "output_type": "stream",
     "text": [
      "05-27 16:56:43 I ylearn.p.policy_model.py 429 - Start building the causal tree with criterion MSE\n",
      "05-27 16:56:43 I ylearn.p.policy_model.py 445 - Building the causal tree with splitter BestSplitter\n",
      "05-27 16:56:43 I ylearn.p.policy_model.py 477 - Building the causal tree with builder DepthFirstTreeBuilder\n",
      "node impurity\n",
      "children impurity\n",
      "children impurity\n"
     ]
    },
    {
     "data": {
      "text/plain": [
       "<ylearn.policy.policy_model.PolicyTree at 0x7f80812e43d0>"
      ]
     },
     "execution_count": 9,
     "metadata": {},
     "output_type": "execute_result"
    }
   ],
   "source": [
    "est1 = PolicyTree(criterion='policy_test')\n",
    "est1.fit(data, covariate, effect_array=y)"
   ]
  },
  {
   "cell_type": "code",
   "execution_count": 10,
   "metadata": {},
   "outputs": [
    {
     "name": "stdout",
     "output_type": "stream",
     "text": [
      "05-27 16:56:43 I ylearn.p.policy_model.py 429 - Start building the causal tree with criterion PRegCriteria1\n",
      "05-27 16:56:43 I ylearn.p.policy_model.py 445 - Building the causal tree with splitter BestSplitter\n",
      "05-27 16:56:43 I ylearn.p.policy_model.py 477 - Building the causal tree with builder DepthFirstTreeBuilder\n"
     ]
    },
    {
     "data": {
      "text/plain": [
       "<ylearn.policy.policy_model.PolicyTree at 0x7f80812d34c0>"
      ]
     },
     "execution_count": 10,
     "metadata": {},
     "output_type": "execute_result"
    }
   ],
   "source": [
    "est2 = PolicyTree(criterion='policy_test1')\n",
    "est2.fit(data=data, covariate=covariate, effect_array=y)"
   ]
  }
 ],
 "metadata": {
  "interpreter": {
   "hash": "e0ecfad75f99b8578830c76494b15e8b8f0ed30d484e3d7b0b2aac43eb800e14"
  },
  "kernelspec": {
   "display_name": "Python 3.8.12 ('causal')",
   "language": "python",
   "name": "python3"
  },
  "language_info": {
   "codemirror_mode": {
    "name": "ipython",
    "version": 3
   },
   "file_extension": ".py",
   "mimetype": "text/x-python",
   "name": "python",
   "nbconvert_exporter": "python",
   "pygments_lexer": "ipython3",
   "version": "3.8.12"
  },
  "orig_nbformat": 4
 },
 "nbformat": 4,
 "nbformat_minor": 2
}
