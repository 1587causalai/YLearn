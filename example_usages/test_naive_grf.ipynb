{
 "cells": [
  {
   "cell_type": "code",
   "execution_count": 1,
   "metadata": {},
   "outputs": [],
   "source": [
    "import sys\n",
    "import os\n",
    "sys.path.append(os.path.dirname(os.path.dirname(os.path.abspath('./test_score.ipynb'))))"
   ]
  },
  {
   "cell_type": "code",
   "execution_count": 2,
   "metadata": {},
   "outputs": [],
   "source": [
    "import numpy as np\n",
    "import pandas as pd\n",
    "\n",
    "from ylearn.estimator_model._naive_forest import _GrfTree, NaiveGrf\n",
    "from ylearn.estimator_model import CausalTree\n",
    "from ylearn.exp_dataset.exp_data import sq_data\n",
    "from ylearn.utils._common import to_df\n",
    "from ylearn.estimator_model._naive_forest.utils import grad, grad_coef, inverse_grad\n",
    "\n",
    "from numpy.linalg import lstsq, inv"
   ]
  },
  {
   "cell_type": "code",
   "execution_count": 10,
   "metadata": {},
   "outputs": [],
   "source": [
    "from copy import deepcopy\n",
    "\n",
    "\n",
    "n = 2000\n",
    "d = 10     \n",
    "n_x = 1\n",
    "y, x, v = sq_data(n, d, n_x)\n",
    "\n",
    "true_te = lambda X: np.hstack([X[:, [0]]**2 + 1, np.ones((X.shape[0], n_x - 1))])\n",
    "w = deepcopy(v)\n",
    "v_test = v[:min(100, n)].copy()\n",
    "v_test[:, 0] = np.linspace(np.percentile(v[:, 0], 1), np.percentile(v[:, 0], 99), min(100, n))"
   ]
  },
  {
   "cell_type": "code",
   "execution_count": 4,
   "metadata": {},
   "outputs": [],
   "source": [
    "data = to_df(treatment=x, outcome=y, v=v)\n",
    "test_data = to_df(v=v_test)\n",
    "\n",
    "outcome = 'outcome'\n",
    "treatment = 'treatment'\n",
    "adjustment = data.columns[2:]"
   ]
  },
  {
   "cell_type": "code",
   "execution_count": 5,
   "metadata": {},
   "outputs": [],
   "source": [
    "from sklearn.preprocessing import OneHotEncoder\n",
    "# oh = OneHotEncoder()\n",
    "# x = oh.fit_transform(x).toarray()"
   ]
  },
  {
   "cell_type": "code",
   "execution_count": 6,
   "metadata": {},
   "outputs": [
    {
     "name": "stdout",
     "output_type": "stream",
     "text": [
      "building 2-th tree\n"
     ]
    },
    {
     "data": {
      "text/plain": [
       "<ylearn.estimator_model._naive_forest._grf_tree._GrfTree at 0x7f8294d5adc0>"
      ]
     },
     "execution_count": 6,
     "metadata": {},
     "output_type": "execute_result"
    }
   ],
   "source": [
    "gt = _GrfTree()\n",
    "gt._fit_with_array(x=x, y=y.squeeze(), w=w, v=v, i=1)"
   ]
  },
  {
   "cell_type": "code",
   "execution_count": 7,
   "metadata": {},
   "outputs": [],
   "source": [
    "grf = NaiveGrf(n_jobs=5, n_estimators=100)\n",
    "grf.verbose = 1"
   ]
  },
  {
   "cell_type": "code",
   "execution_count": 8,
   "metadata": {},
   "outputs": [
    {
     "name": "stderr",
     "output_type": "stream",
     "text": [
      "[Parallel(n_jobs=5)]: Using backend ThreadingBackend with 5 concurrent workers.\n"
     ]
    },
    {
     "name": "stdout",
     "output_type": "stream",
     "text": [
      "building 1-th treebuilding 2-th tree\n",
      "building 3-th tree\n",
      "building 4-th tree\n",
      "building 5-th tree\n",
      "\n",
      "building 6-th tree\n",
      "building 7-th tree\n",
      "building 8-th tree\n",
      "building 9-th tree\n",
      "building 10-th tree\n",
      "building 11-th tree\n",
      "building 12-th tree\n",
      "building 13-th tree\n",
      "building 14-th tree\n",
      "building 15-th tree\n",
      "building 16-th tree\n",
      "building 17-th tree\n",
      "building 18-th tree\n",
      "building 19-th tree\n",
      "building 20-th tree\n",
      "building 21-th tree\n",
      "building 22-th tree\n",
      "building 23-th tree\n",
      "building 24-th tree\n",
      "building 25-th tree\n",
      "building 26-th tree\n",
      "building 27-th tree\n",
      "building 28-th tree\n",
      "building 29-th tree\n",
      "building 30-th tree\n",
      "building 31-th tree\n",
      "building 32-th tree\n",
      "building 33-th tree\n",
      "building 34-th tree\n",
      "building 35-th tree\n",
      "building 36-th tree\n",
      "building 37-th tree\n",
      "building 38-th tree\n",
      "building 39-th tree\n",
      "building 40-th tree\n",
      "building 41-th tree\n",
      "building 42-th tree\n",
      "building 43-th tree\n",
      "building 44-th tree\n"
     ]
    },
    {
     "name": "stderr",
     "output_type": "stream",
     "text": [
      "[Parallel(n_jobs=5)]: Done  40 tasks      | elapsed:  4.8min\n"
     ]
    },
    {
     "name": "stdout",
     "output_type": "stream",
     "text": [
      "building 45-th tree\n",
      "building 46-th tree\n",
      "building 47-th tree\n",
      "building 48-th tree\n",
      "building 49-th tree\n",
      "building 50-th tree\n",
      "building 51-th tree\n",
      "building 52-th tree\n",
      "building 53-th tree\n",
      "building 54-th tree\n",
      "building 55-th tree\n",
      "building 56-th tree\n",
      "building 57-th tree\n",
      "building 58-th tree\n",
      "building 59-th tree\n",
      "building 60-th tree\n",
      "building 61-th tree\n",
      "building 62-th tree\n",
      "building 63-th tree\n",
      "building 64-th tree\n",
      "building 65-th tree\n",
      "building 66-th tree\n",
      "building 67-th tree\n",
      "building 68-th tree\n",
      "building 69-th tree\n",
      "building 70-th tree\n",
      "building 71-th tree\n",
      "building 72-th tree\n",
      "building 73-th tree\n",
      "building 74-th tree\n",
      "building 75-th tree\n",
      "building 76-th tree\n",
      "building 77-th tree\n",
      "building 78-th tree\n",
      "building 79-th tree\n",
      "building 80-th tree\n",
      "building 81-th tree\n",
      "building 82-th tree\n",
      "building 83-th tree\n",
      "building 84-th tree\n",
      "building 85-th tree\n",
      "building 86-th tree\n",
      "building 87-th tree\n",
      "building 88-th tree\n",
      "building 89-th tree\n",
      "building 90-th tree\n"
     ]
    },
    {
     "ename": "KeyboardInterrupt",
     "evalue": "",
     "output_type": "error",
     "traceback": [
      "\u001b[0;31m---------------------------------------------------------------------------\u001b[0m",
      "\u001b[0;31mKeyboardInterrupt\u001b[0m                         Traceback (most recent call last)",
      "\u001b[1;32m/Users/lenny/Documents/DataCanvas/ylearn/example_usages/test_naive_grf.ipynb Cell 8\u001b[0m in \u001b[0;36m<cell line: 1>\u001b[0;34m()\u001b[0m\n\u001b[0;32m----> <a href='vscode-notebook-cell:/Users/lenny/Documents/DataCanvas/ylearn/example_usages/test_naive_grf.ipynb#ch0000015?line=0'>1</a>\u001b[0m grf\u001b[39m.\u001b[39;49mfit(\n\u001b[1;32m      <a href='vscode-notebook-cell:/Users/lenny/Documents/DataCanvas/ylearn/example_usages/test_naive_grf.ipynb#ch0000015?line=1'>2</a>\u001b[0m     data\u001b[39m=\u001b[39;49mdata, outcome\u001b[39m=\u001b[39;49moutcome, treatment\u001b[39m=\u001b[39;49mtreatment, adjustment\u001b[39m=\u001b[39;49madjustment, covariate\u001b[39m=\u001b[39;49madjustment\n\u001b[1;32m      <a href='vscode-notebook-cell:/Users/lenny/Documents/DataCanvas/ylearn/example_usages/test_naive_grf.ipynb#ch0000015?line=2'>3</a>\u001b[0m )\n",
      "File \u001b[0;32m~/Documents/DataCanvas/ylearn/ylearn/estimator_model/_naive_forest/_grf.py:48\u001b[0m, in \u001b[0;36mNaiveGrf.fit\u001b[0;34m(self, data, outcome, treatment, adjustment, covariate)\u001b[0m\n\u001b[1;32m     40\u001b[0m \u001b[39mdef\u001b[39;00m \u001b[39mfit\u001b[39m(\n\u001b[1;32m     41\u001b[0m     \u001b[39mself\u001b[39m,\n\u001b[1;32m     42\u001b[0m     data,\n\u001b[0;32m   (...)\u001b[0m\n\u001b[1;32m     46\u001b[0m     covariate\u001b[39m=\u001b[39m\u001b[39mNone\u001b[39;00m,\n\u001b[1;32m     47\u001b[0m ):\n\u001b[0;32m---> 48\u001b[0m     \u001b[39msuper\u001b[39;49m()\u001b[39m.\u001b[39;49mfit(\n\u001b[1;32m     49\u001b[0m         data, outcome, treatment, adjustment\u001b[39m=\u001b[39;49madjustment, covariate\u001b[39m=\u001b[39;49mcovariate\n\u001b[1;32m     50\u001b[0m     )\n",
      "File \u001b[0;32m~/Documents/DataCanvas/ylearn/ylearn/estimator_model/_forest/_base_forest.py:240\u001b[0m, in \u001b[0;36mBaseCausalForest.fit\u001b[0;34m(self, data, outcome, treatment, adjustment, covariate)\u001b[0m\n\u001b[1;32m    230\u001b[0m \u001b[39mself\u001b[39m\u001b[39m.\u001b[39msub_sample_idx \u001b[39m=\u001b[39m [\n\u001b[1;32m    231\u001b[0m     np\u001b[39m.\u001b[39mrandom\u001b[39m.\u001b[39mchoice(all_idx, size\u001b[39m=\u001b[39msub_sample_num_, replace\u001b[39m=\u001b[39m\u001b[39mFalse\u001b[39;00m)\n\u001b[1;32m    232\u001b[0m     \u001b[39mfor\u001b[39;00m i \u001b[39min\u001b[39;00m \u001b[39mrange\u001b[39m(n_more_estimators)\n\u001b[1;32m    233\u001b[0m ]\n\u001b[1;32m    234\u001b[0m \u001b[39m# Parallel loop: we prefer the threading backend as the Cython code\u001b[39;00m\n\u001b[1;32m    235\u001b[0m \u001b[39m# for fitting the trees is internally releasing the Python GIL\u001b[39;00m\n\u001b[1;32m    236\u001b[0m \u001b[39m# making threading more efficient than multiprocessing in\u001b[39;00m\n\u001b[1;32m    237\u001b[0m \u001b[39m# that case. However, for joblib 0.12+ we respect any\u001b[39;00m\n\u001b[1;32m    238\u001b[0m \u001b[39m# parallel_backend contexts set at a higher level,\u001b[39;00m\n\u001b[1;32m    239\u001b[0m \u001b[39m# since correctness does not rely on using threads.\u001b[39;00m\n\u001b[0;32m--> 240\u001b[0m trees \u001b[39m=\u001b[39m Parallel(\n\u001b[1;32m    241\u001b[0m     n_jobs\u001b[39m=\u001b[39;49m\u001b[39mself\u001b[39;49m\u001b[39m.\u001b[39;49mn_jobs,\n\u001b[1;32m    242\u001b[0m     verbose\u001b[39m=\u001b[39;49m\u001b[39mself\u001b[39;49m\u001b[39m.\u001b[39;49mverbose,\n\u001b[1;32m    243\u001b[0m     prefer\u001b[39m=\u001b[39;49m\u001b[39m\"\u001b[39;49m\u001b[39mthreads\u001b[39;49m\u001b[39m\"\u001b[39;49m,\n\u001b[1;32m    244\u001b[0m )(\n\u001b[1;32m    245\u001b[0m     delayed(t\u001b[39m.\u001b[39;49m_fit_with_array)(x[s], y_[s], w[s], v[s], i)\n\u001b[1;32m    246\u001b[0m     \u001b[39mfor\u001b[39;49;00m i, (t, s) \u001b[39min\u001b[39;49;00m \u001b[39menumerate\u001b[39;49m(\u001b[39mzip\u001b[39;49m(trees, \u001b[39mself\u001b[39;49m\u001b[39m.\u001b[39;49msub_sample_idx))\n\u001b[1;32m    247\u001b[0m )\n\u001b[1;32m    249\u001b[0m \u001b[39m# Collect newly grown trees\u001b[39;00m\n\u001b[1;32m    250\u001b[0m \u001b[39mself\u001b[39m\u001b[39m.\u001b[39mestimators_\u001b[39m.\u001b[39mextend(trees)\n",
      "File \u001b[0;32m/opt/anaconda3/envs/causal/lib/python3.8/site-packages/joblib/parallel.py:1056\u001b[0m, in \u001b[0;36mParallel.__call__\u001b[0;34m(self, iterable)\u001b[0m\n\u001b[1;32m   1053\u001b[0m     \u001b[39mself\u001b[39m\u001b[39m.\u001b[39m_iterating \u001b[39m=\u001b[39m \u001b[39mFalse\u001b[39;00m\n\u001b[1;32m   1055\u001b[0m \u001b[39mwith\u001b[39;00m \u001b[39mself\u001b[39m\u001b[39m.\u001b[39m_backend\u001b[39m.\u001b[39mretrieval_context():\n\u001b[0;32m-> 1056\u001b[0m     \u001b[39mself\u001b[39;49m\u001b[39m.\u001b[39;49mretrieve()\n\u001b[1;32m   1057\u001b[0m \u001b[39m# Make sure that we get a last message telling us we are done\u001b[39;00m\n\u001b[1;32m   1058\u001b[0m elapsed_time \u001b[39m=\u001b[39m time\u001b[39m.\u001b[39mtime() \u001b[39m-\u001b[39m \u001b[39mself\u001b[39m\u001b[39m.\u001b[39m_start_time\n",
      "File \u001b[0;32m/opt/anaconda3/envs/causal/lib/python3.8/site-packages/joblib/parallel.py:935\u001b[0m, in \u001b[0;36mParallel.retrieve\u001b[0;34m(self)\u001b[0m\n\u001b[1;32m    933\u001b[0m \u001b[39mtry\u001b[39;00m:\n\u001b[1;32m    934\u001b[0m     \u001b[39mif\u001b[39;00m \u001b[39mgetattr\u001b[39m(\u001b[39mself\u001b[39m\u001b[39m.\u001b[39m_backend, \u001b[39m'\u001b[39m\u001b[39msupports_timeout\u001b[39m\u001b[39m'\u001b[39m, \u001b[39mFalse\u001b[39;00m):\n\u001b[0;32m--> 935\u001b[0m         \u001b[39mself\u001b[39m\u001b[39m.\u001b[39m_output\u001b[39m.\u001b[39mextend(job\u001b[39m.\u001b[39;49mget(timeout\u001b[39m=\u001b[39;49m\u001b[39mself\u001b[39;49m\u001b[39m.\u001b[39;49mtimeout))\n\u001b[1;32m    936\u001b[0m     \u001b[39melse\u001b[39;00m:\n\u001b[1;32m    937\u001b[0m         \u001b[39mself\u001b[39m\u001b[39m.\u001b[39m_output\u001b[39m.\u001b[39mextend(job\u001b[39m.\u001b[39mget())\n",
      "File \u001b[0;32m/opt/anaconda3/envs/causal/lib/python3.8/multiprocessing/pool.py:765\u001b[0m, in \u001b[0;36mApplyResult.get\u001b[0;34m(self, timeout)\u001b[0m\n\u001b[1;32m    764\u001b[0m \u001b[39mdef\u001b[39;00m \u001b[39mget\u001b[39m(\u001b[39mself\u001b[39m, timeout\u001b[39m=\u001b[39m\u001b[39mNone\u001b[39;00m):\n\u001b[0;32m--> 765\u001b[0m     \u001b[39mself\u001b[39;49m\u001b[39m.\u001b[39;49mwait(timeout)\n\u001b[1;32m    766\u001b[0m     \u001b[39mif\u001b[39;00m \u001b[39mnot\u001b[39;00m \u001b[39mself\u001b[39m\u001b[39m.\u001b[39mready():\n\u001b[1;32m    767\u001b[0m         \u001b[39mraise\u001b[39;00m \u001b[39mTimeoutError\u001b[39;00m\n",
      "File \u001b[0;32m/opt/anaconda3/envs/causal/lib/python3.8/multiprocessing/pool.py:762\u001b[0m, in \u001b[0;36mApplyResult.wait\u001b[0;34m(self, timeout)\u001b[0m\n\u001b[1;32m    761\u001b[0m \u001b[39mdef\u001b[39;00m \u001b[39mwait\u001b[39m(\u001b[39mself\u001b[39m, timeout\u001b[39m=\u001b[39m\u001b[39mNone\u001b[39;00m):\n\u001b[0;32m--> 762\u001b[0m     \u001b[39mself\u001b[39;49m\u001b[39m.\u001b[39;49m_event\u001b[39m.\u001b[39;49mwait(timeout)\n",
      "File \u001b[0;32m/opt/anaconda3/envs/causal/lib/python3.8/threading.py:558\u001b[0m, in \u001b[0;36mEvent.wait\u001b[0;34m(self, timeout)\u001b[0m\n\u001b[1;32m    556\u001b[0m signaled \u001b[39m=\u001b[39m \u001b[39mself\u001b[39m\u001b[39m.\u001b[39m_flag\n\u001b[1;32m    557\u001b[0m \u001b[39mif\u001b[39;00m \u001b[39mnot\u001b[39;00m signaled:\n\u001b[0;32m--> 558\u001b[0m     signaled \u001b[39m=\u001b[39m \u001b[39mself\u001b[39;49m\u001b[39m.\u001b[39;49m_cond\u001b[39m.\u001b[39;49mwait(timeout)\n\u001b[1;32m    559\u001b[0m \u001b[39mreturn\u001b[39;00m signaled\n",
      "File \u001b[0;32m/opt/anaconda3/envs/causal/lib/python3.8/threading.py:302\u001b[0m, in \u001b[0;36mCondition.wait\u001b[0;34m(self, timeout)\u001b[0m\n\u001b[1;32m    300\u001b[0m \u001b[39mtry\u001b[39;00m:    \u001b[39m# restore state no matter what (e.g., KeyboardInterrupt)\u001b[39;00m\n\u001b[1;32m    301\u001b[0m     \u001b[39mif\u001b[39;00m timeout \u001b[39mis\u001b[39;00m \u001b[39mNone\u001b[39;00m:\n\u001b[0;32m--> 302\u001b[0m         waiter\u001b[39m.\u001b[39;49macquire()\n\u001b[1;32m    303\u001b[0m         gotit \u001b[39m=\u001b[39m \u001b[39mTrue\u001b[39;00m\n\u001b[1;32m    304\u001b[0m     \u001b[39melse\u001b[39;00m:\n",
      "\u001b[0;31mKeyboardInterrupt\u001b[0m: "
     ]
    }
   ],
   "source": [
    "grf.fit(\n",
    "    data=data, outcome=outcome, treatment=treatment, adjustment=adjustment, covariate=adjustment\n",
    ")"
   ]
  },
  {
   "cell_type": "code",
   "execution_count": null,
   "metadata": {},
   "outputs": [
    {
     "name": "stderr",
     "output_type": "stream",
     "text": [
      "[Parallel(n_jobs=1)]: Using backend SequentialBackend with 1 concurrent workers.\n",
      "[Parallel(n_jobs=1)]: Done 100 out of 100 | elapsed:    2.3s finished\n"
     ]
    }
   ],
   "source": [
    "effect = grf._prepare4est(test_data)"
   ]
  },
  {
   "cell_type": "code",
   "execution_count": null,
   "metadata": {},
   "outputs": [
    {
     "data": {
      "image/png": "[encoded data removed]",
      "text/plain": [
       "<Figure size 432x288 with 1 Axes>"
      ]
     },
     "metadata": {
      "needs_background": "light"
     },
     "output_type": "display_data"
    }
   ],
   "source": [
    "import matplotlib.pyplot as plt\n",
    "\n",
    "true_te = lambda X: np.hstack([X[:, [0]]**2 + 1, np.ones((X.shape[0], n_x - 1))])\n",
    "\n",
    "for t in range(n_x):\n",
    "    plt.plot(v_test[:, 0], effect[:, t])\n",
    "    plt.plot(v_test[:, 0], true_te(v_test)[:, t])\n",
    "plt.show()"
   ]
  },
  {
   "cell_type": "code",
   "execution_count": 11,
   "metadata": {},
   "outputs": [],
   "source": [
    "from econml.dml import CausalForestDML\n",
    "from sklearn.linear_model import LinearRegression, LogisticRegression"
   ]
  },
  {
   "cell_type": "code",
   "execution_count": 12,
   "metadata": {},
   "outputs": [
    {
     "name": "stderr",
     "output_type": "stream",
     "text": [
      "A column-vector y was passed when a 1d array was expected. Please change the shape of y to (n_samples, ), for example using ravel().\n",
      "A column-vector y was passed when a 1d array was expected. Please change the shape of y to (n_samples, ), for example using ravel().\n"
     ]
    },
    {
     "data": {
      "text/plain": [
       "<econml.dml.causal_forest.CausalForestDML at 0x7f82816a8bb0>"
      ]
     },
     "execution_count": 12,
     "metadata": {},
     "output_type": "execute_result"
    }
   ],
   "source": [
    "dm = CausalForestDML(model_y=LinearRegression(), model_t=LogisticRegression(),n_estimators=100)\n",
    "dm.fit(Y=y, T=x, X=v)"
   ]
  },
  {
   "cell_type": "code",
   "execution_count": 14,
   "metadata": {},
   "outputs": [],
   "source": [
    "from sklearn.ensemble import RandomForestRegressor\n",
    "rr = RandomForestRegressor()\n"
   ]
  },
  {
   "cell_type": "code",
   "execution_count": 22,
   "metadata": {},
   "outputs": [
    {
     "data": {
      "text/plain": [
       "RandomForestRegressor()"
      ]
     },
     "execution_count": 22,
     "metadata": {},
     "output_type": "execute_result"
    }
   ],
   "source": [
    "rr.fit(X=v, y=y.ravel())"
   ]
  },
  {
   "cell_type": "code",
   "execution_count": null,
   "metadata": {},
   "outputs": [],
   "source": []
  }
 ],
 "metadata": {
  "kernelspec": {
   "display_name": "Python 3.8.13 ('causal')",
   "language": "python",
   "name": "python3"
  },
  "language_info": {
   "codemirror_mode": {
    "name": "ipython",
    "version": 3
   },
   "file_extension": ".py",
   "mimetype": "text/x-python",
   "name": "python",
   "nbconvert_exporter": "python",
   "pygments_lexer": "ipython3",
   "version": "3.8.13"
  },
  "orig_nbformat": 4,
  "vscode": {
   "interpreter": {
    "hash": "e0ecfad75f99b8578830c76494b15e8b8f0ed30d484e3d7b0b2aac43eb800e14"
   }
  }
 },
 "nbformat": 4,
 "nbformat_minor": 2
}
