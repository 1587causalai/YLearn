{
 "cells": [
  {
   "cell_type": "code",
   "execution_count": 1,
   "metadata": {},
   "outputs": [],
   "source": [
    "import sys\n",
    "import os\n",
    "sys.path.append(os.path.dirname(os.path.dirname(os.path.abspath('./test_score.ipynb'))))"
   ]
  },
  {
   "cell_type": "code",
   "execution_count": 2,
   "metadata": {},
   "outputs": [],
   "source": [
    "import numpy as np\n",
    "import pandas as pd\n",
    "\n",
    "from ylearn.estimator_model._naive_forest import _GrfTree, NaiveGrf\n",
    "from ylearn.estimator_model import CausalTree\n",
    "from ylearn.exp_dataset.exp_data import sq_data\n",
    "from ylearn.utils._common import to_df\n",
    "from ylearn.estimator_model._naive_forest.utils import grad, grad_coef, inverse_grad\n",
    "\n",
    "from numpy.linalg import lstsq"
   ]
  },
  {
   "cell_type": "code",
   "execution_count": 3,
   "metadata": {},
   "outputs": [],
   "source": [
    "from copy import deepcopy\n",
    "\n",
    "\n",
    "n = 2000\n",
    "d = 10     \n",
    "n_x = 1\n",
    "y, x, v = sq_data(n, d, n_x)\n",
    "\n",
    "true_te = lambda X: np.hstack([X[:, [0]]**2 + 1, np.ones((X.shape[0], n_x - 1))])\n",
    "w = deepcopy(v)\n",
    "v_test = v[:min(100, n)].copy()\n",
    "v_test[:, 0] = np.linspace(np.percentile(v[:, 0], 1), np.percentile(v[:, 0], 99), min(100, n))"
   ]
  },
  {
   "cell_type": "code",
   "execution_count": 4,
   "metadata": {},
   "outputs": [],
   "source": [
    "data = to_df(treatment=x, outcome=y, v=v)\n",
    "test_data = to_df(v=v_test)\n",
    "\n",
    "outcome = 'outcome'\n",
    "treatment = 'treatment'\n",
    "adjustment = data.columns[2:]"
   ]
  },
  {
   "cell_type": "code",
   "execution_count": 5,
   "metadata": {},
   "outputs": [],
   "source": [
    "from sklearn.preprocessing import OneHotEncoder\n",
    "# oh = OneHotEncoder()\n",
    "# x = oh.fit_transform(x).toarray()"
   ]
  },
  {
   "cell_type": "code",
   "execution_count": 6,
   "metadata": {},
   "outputs": [
    {
     "name": "stdout",
     "output_type": "stream",
     "text": [
      "building 2-th tree\n"
     ]
    }
   ],
   "source": [
    "gt = _GrfTree()\n",
    "gt._fit_with_array(x=x, y=y.squeeze(), w=w, v=v, i=1)"
   ]
  },
  {
   "cell_type": "code",
   "execution_count": 7,
   "metadata": {},
   "outputs": [
    {
     "data": {
      "text/plain": [
       "array([ 0.31388521, -0.30602605,  1.71559724, ...,  1.34296921,\n",
       "        0.4528414 ,  1.7961405 ])"
      ]
     },
     "execution_count": 7,
     "metadata": {},
     "output_type": "execute_result"
    }
   ],
   "source": [
    "gt._predict_with_array(w, v)"
   ]
  },
  {
   "cell_type": "code",
   "execution_count": 10,
   "metadata": {},
   "outputs": [],
   "source": [
    "\n",
    "\n",
    "grf = NaiveGrf(n_jobs=1, n_estimators=10)\n",
    "grf.verbose = 1\n"
   ]
  },
  {
   "cell_type": "code",
   "execution_count": 11,
   "metadata": {},
   "outputs": [
    {
     "name": "stderr",
     "output_type": "stream",
     "text": [
      "[Parallel(n_jobs=1)]: Using backend SequentialBackend with 1 concurrent workers.\n"
     ]
    },
    {
     "name": "stdout",
     "output_type": "stream",
     "text": [
      "building 1-th tree\n",
      "building 2-th tree\n",
      "building 3-th tree\n",
      "building 4-th tree\n",
      "building 5-th tree\n",
      "building 6-th tree\n",
      "building 7-th tree\n",
      "building 8-th tree\n",
      "building 9-th tree\n",
      "building 10-th tree\n"
     ]
    },
    {
     "name": "stderr",
     "output_type": "stream",
     "text": [
      "[Parallel(n_jobs=1)]: Done  10 out of  10 | elapsed:   32.0s finished\n"
     ]
    }
   ],
   "source": [
    "grf.fit(\n",
    "    data=data, outcome=outcome, treatment=treatment, adjustment=adjustment, covariate=adjustment\n",
    ")"
   ]
  }
 ],
 "metadata": {
  "kernelspec": {
   "display_name": "Python 3.8.13 ('causal')",
   "language": "python",
   "name": "python3"
  },
  "language_info": {
   "codemirror_mode": {
    "name": "ipython",
    "version": 3
   },
   "file_extension": ".py",
   "mimetype": "text/x-python",
   "name": "python",
   "nbconvert_exporter": "python",
   "pygments_lexer": "ipython3",
   "version": "3.8.13"
  },
  "orig_nbformat": 4,
  "vscode": {
   "interpreter": {
    "hash": "e0ecfad75f99b8578830c76494b15e8b8f0ed30d484e3d7b0b2aac43eb800e14"
   }
  }
 },
 "nbformat": 4,
 "nbformat_minor": 2
}
