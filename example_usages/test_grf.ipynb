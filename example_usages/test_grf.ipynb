{
 "cells": [
  {
   "cell_type": "code",
   "execution_count": 1,
   "metadata": {},
   "outputs": [
    {
     "data": {
      "text/plain": [
       "array([ 0.07144379, -0.30602605,  1.71559724, -0.27135004, -0.10237191,\n",
       "       -0.32924718,  0.21400034, -0.71116216,  2.80058766,  1.48035956,\n",
       "        0.28154591, -0.11772502,  1.2836452 , -0.08198122, -0.08198122,\n",
       "        0.13862856, -0.76625044, -0.08198122,  1.68117291,  1.53253659,\n",
       "        1.32407611, -0.32020137,  2.20334568, -0.47967295,  1.05121514,\n",
       "        5.33291398,  1.20370696,  0.00895498, -0.15195766, -0.6797273 ,\n",
       "       -0.44083678,  2.62236404,  1.46047854, -0.10941884,  0.31452394,\n",
       "        0.66291419, -0.27518667, -0.21910299,  0.05828689, -0.43389748,\n",
       "        3.26893827,  1.31313758, -0.32924718, -0.29355244,  1.59054867,\n",
       "        0.17651058,  1.20370696,  1.32407611, -0.08198122,  0.07648567])"
      ]
     },
     "execution_count": 1,
     "metadata": {},
     "output_type": "execute_result"
    }
   ],
   "source": [
    "import sys\n",
    "import os\n",
    "sys.path.append(os.path.dirname(os.path.dirname(os.path.abspath('./test_score.ipynb'))))\n",
    "\n",
    "import numpy as np\n",
    "import pandas as pd\n",
    "\n",
    "from ylearn.estimator_model._generalized_forest.tree._grf_tree import GrfTree\n",
    "from ylearn.estimator_model._generalized_forest._grf import GRForest\n",
    "from ylearn.exp_dataset.exp_data import sq_data\n",
    "from ylearn.utils._common import to_df\n",
    "from ylearn.estimator_model._naive_forest.utils import grad, grad_coef, inverse_grad\n",
    "\n",
    "from numpy.linalg import lstsq, inv\n",
    "\n",
    "from copy import deepcopy\n",
    "\n",
    "\n",
    "n = 2000\n",
    "d = 10     \n",
    "n_x = 1\n",
    "y, x, v = sq_data(n, d, n_x)\n",
    "\n",
    "true_te = lambda X: np.hstack([X[:, [0]]**2 + 1, np.ones((X.shape[0], n_x - 1))])\n",
    "w = deepcopy(v)\n",
    "v_test = v[:min(100, n)].copy()\n",
    "v_test[:, 0] = np.linspace(np.percentile(v[:, 0], 1), np.percentile(v[:, 0], 99), min(100, n))\n",
    "data = to_df(treatment=x, outcome=y, v=v)\n",
    "test_data = to_df(v=v_test)\n",
    "\n",
    "outcome = 'outcome'\n",
    "treatment = 'treatment'\n",
    "adjustment = data.columns[2:]\n",
    "from sklearn.preprocessing import OneHotEncoder\n",
    "oh = OneHotEncoder()\n",
    "# x = oh.fit_transform(x).toarray().astype(np.float32)\n",
    "\n",
    "\n",
    "\n",
    "gtre = GrfTree(max_depth=100000, max_leaf_nodes=np.int(100000))\n",
    "gtre._fit_with_array(x, y, w=None, v=v, i=1)\n",
    "gtre.tree_.predict(v[:50].astype(np.float32)).squeeze()"
   ]
  },
  {
   "cell_type": "code",
   "execution_count": 35,
   "metadata": {},
   "outputs": [],
   "source": [
    "leaf_records = (gtre.tree_.predict(v.astype(np.float32))).reshape(1, -1)\n",
    "y_pred = gtre.tree_.predict(v_test.astype(np.float32)).reshape(-1, 1)"
   ]
  },
  {
   "cell_type": "code",
   "execution_count": 2,
   "metadata": {},
   "outputs": [
    {
     "data": {
      "text/plain": [
       "<ylearn.estimator_model._naive_forest._grf_tree._GrfTree at 0x7facdb753910>"
      ]
     },
     "execution_count": 2,
     "metadata": {},
     "output_type": "execute_result"
    }
   ],
   "source": [
    "from ylearn.estimator_model._naive_forest import _GrfTree, NaiveGrf\n",
    "gt = _GrfTree()\n",
    "gt._fit_with_array(x=x, y=y.squeeze(), w=w, v=v, i=1)"
   ]
  },
  {
   "cell_type": "code",
   "execution_count": 3,
   "metadata": {},
   "outputs": [
    {
     "data": {
      "text/plain": [
       "array([ 3.13885206e-01, -3.06026049e-01,  1.71559724e+00, -2.71350038e-01,\n",
       "        4.02624824e-04,  1.49921012e-01,  2.14000336e-01, -7.11162160e-01,\n",
       "        2.80058766e+00,  1.48035956e+00,  2.81545914e-01, -1.17725023e-01,\n",
       "        1.28364520e+00, -3.84078177e-01, -3.84078177e-01,  1.38628565e-01,\n",
       "       -7.66250441e-01, -3.84078177e-01,  1.87491260e+00,  1.87491260e+00,\n",
       "        1.15900478e+00, -3.20201366e-01,  2.20334568e+00, -7.05173263e-01,\n",
       "        1.46992891e+00,  3.54841921e+00,  1.45465015e+00, -1.53209495e-01,\n",
       "       -8.78429145e-02, -2.24286892e-01, -4.40836781e-01,  2.62236404e+00,\n",
       "        1.46047854e+00, -1.09418837e-01,  3.90361259e-01,  6.62914192e-01,\n",
       "       -2.75186666e-01,  3.18272514e-01,  5.82868938e-02, -4.33897478e-01,\n",
       "        3.26893827e+00,  1.31313758e+00,  1.49921012e-01, -5.37285693e-01,\n",
       "        1.59054867e+00,  3.12178882e-01,  1.45465015e+00,  1.15900478e+00,\n",
       "       -3.84078177e-01, -2.80234744e-01])"
      ]
     },
     "execution_count": 3,
     "metadata": {},
     "output_type": "execute_result"
    }
   ],
   "source": [
    "gt._predict_with_array(w[:50], v=v[:50])"
   ]
  },
  {
   "cell_type": "code",
   "execution_count": 4,
   "metadata": {},
   "outputs": [],
   "source": [
    "grf = GRForest(n_jobs=1, n_estimators=100, min_impurity_decrease=1e-8, max_depth=100, max_leaf_nodes=100, verbose=0,)\n",
    "grf.fit(\n",
    "    data=data, outcome=outcome, treatment=treatment, adjustment=adjustment, covariate=adjustment\n",
    ")"
   ]
  },
  {
   "cell_type": "code",
   "execution_count": 5,
   "metadata": {},
   "outputs": [],
   "source": [
    "effect = grf._prepare4est(test_data)"
   ]
  },
  {
   "cell_type": "code",
   "execution_count": 6,
   "metadata": {},
   "outputs": [
    {
     "data": {
      "image/png": "[encoded data removed]",
      "text/plain": [
       "<Figure size 432x288 with 1 Axes>"
      ]
     },
     "metadata": {
      "needs_background": "light"
     },
     "output_type": "display_data"
    }
   ],
   "source": [
    "import matplotlib.pyplot as plt\n",
    "\n",
    "true_te = lambda X: np.hstack([X[:, [0]]**2 + 1, np.ones((X.shape[0], n_x - 1))])\n",
    "\n",
    "for t in range(n_x):\n",
    "    plt.plot(v_test[:, 0], effect[:, t])\n",
    "    plt.plot(v_test[:, 0], true_te(v_test)[:, t])\n",
    "plt.show()"
   ]
  }
 ],
 "metadata": {
  "kernelspec": {
   "display_name": "Python 3.8.13 ('causal')",
   "language": "python",
   "name": "python3"
  },
  "language_info": {
   "codemirror_mode": {
    "name": "ipython",
    "version": 3
   },
   "file_extension": ".py",
   "mimetype": "text/x-python",
   "name": "python",
   "nbconvert_exporter": "python",
   "pygments_lexer": "ipython3",
   "version": "3.8.13"
  },
  "orig_nbformat": 4,
  "vscode": {
   "interpreter": {
    "hash": "e0ecfad75f99b8578830c76494b15e8b8f0ed30d484e3d7b0b2aac43eb800e14"
   }
  }
 },
 "nbformat": 4,
 "nbformat_minor": 2
}
