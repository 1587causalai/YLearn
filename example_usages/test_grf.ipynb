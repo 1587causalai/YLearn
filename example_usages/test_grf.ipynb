{
 "cells": [
  {
   "cell_type": "code",
   "execution_count": 1,
   "metadata": {},
   "outputs": [],
   "source": [
    "import sys\n",
    "import os\n",
    "sys.path.append(os.path.dirname(os.path.dirname(os.path.abspath('./test_score.ipynb'))))"
   ]
  },
  {
   "cell_type": "code",
   "execution_count": 2,
   "metadata": {},
   "outputs": [],
   "source": [
    "import numpy as np\n",
    "import pandas as pd\n",
    "\n",
    "from ylearn.estimator_model._generalized_forest.tree._grf_tree import GrfTree\n",
    "from ylearn.estimator_model._generalized_forest._grf import GRForest\n",
    "from ylearn.exp_dataset.exp_data import sq_data\n",
    "from ylearn.utils._common import to_df\n",
    "from ylearn.estimator_model._naive_forest.utils import grad, grad_coef, inverse_grad\n",
    "\n",
    "from numpy.linalg import lstsq, inv"
   ]
  },
  {
   "cell_type": "code",
   "execution_count": 3,
   "metadata": {},
   "outputs": [],
   "source": [
    "from copy import deepcopy\n",
    "\n",
    "\n",
    "n = 2000\n",
    "d = 10     \n",
    "n_x = 1\n",
    "y, x, v = sq_data(n, d, n_x)\n",
    "\n",
    "true_te = lambda X: np.hstack([X[:, [0]]**2 + 1, np.ones((X.shape[0], n_x - 1))])\n",
    "w = deepcopy(v)\n",
    "v_test = v[:min(100, n)].copy()\n",
    "v_test[:, 0] = np.linspace(np.percentile(v[:, 0], 1), np.percentile(v[:, 0], 99), min(100, n))"
   ]
  },
  {
   "cell_type": "code",
   "execution_count": 4,
   "metadata": {},
   "outputs": [],
   "source": [
    "# grftree = GrfTree(max_depth=100, max_leaf_nodes=10, min_samples_leaf=2)\n",
    "# grftree._fit_with_array(x=x, y=y, w=None, v=v, i=1)"
   ]
  },
  {
   "cell_type": "code",
   "execution_count": 5,
   "metadata": {},
   "outputs": [],
   "source": [
    "data = to_df(treatment=x, outcome=y, v=v)\n",
    "test_data = to_df(v=v_test)\n",
    "\n",
    "outcome = 'outcome'\n",
    "treatment = 'treatment'\n",
    "adjustment = data.columns[2:]"
   ]
  },
  {
   "cell_type": "code",
   "execution_count": 6,
   "metadata": {},
   "outputs": [
    {
     "name": "stdout",
     "output_type": "stream",
     "text": [
      "building the 1 tree\n",
      "c_init criterion\n",
      "init splitter\n",
      "build tree\n",
      "start building tree \n",
      "start init tree with init_capacity=19entering nogil loop\n",
      "start adding split node\n",
      "reset criterion\n",
      "reset criterion\n",
      "reset criterion\n",
      "reset criterion\n",
      "reset criterion\n",
      "reset criterion\n",
      "reset criterion\n"
     ]
    },
    {
     "name": "stderr",
     "output_type": "stream",
     "text": [
      "[Parallel(n_jobs=1)]: Using backend SequentialBackend with 1 concurrent workers.\n",
      "[Parallel(n_jobs=1)]: Done   1 out of   1 | elapsed:    0.0s finished\n"
     ]
    }
   ],
   "source": [
    "grf = GRForest(n_jobs=1, n_estimators=1, max_depth=100, verbose=1, max_leaf_nodes=10, min_samples_leaf=2)\n",
    "grf.fit(\n",
    "    data=data, outcome=outcome, treatment=treatment, adjustment=adjustment, covariate=adjustment\n",
    ")"
   ]
  },
  {
   "cell_type": "code",
   "execution_count": 7,
   "metadata": {},
   "outputs": [
    {
     "name": "stderr",
     "output_type": "stream",
     "text": [
      "[Parallel(n_jobs=1)]: Using backend SequentialBackend with 1 concurrent workers.\n",
      "[Parallel(n_jobs=1)]: Done   1 out of   1 | elapsed:    0.0s finished\n"
     ]
    }
   ],
   "source": [
    "effect = grf._prepare4est(test_data)"
   ]
  }
 ],
 "metadata": {
  "kernelspec": {
   "display_name": "Python 3.8.13 ('causal')",
   "language": "python",
   "name": "python3"
  },
  "language_info": {
   "codemirror_mode": {
    "name": "ipython",
    "version": 3
   },
   "file_extension": ".py",
   "mimetype": "text/x-python",
   "name": "python",
   "nbconvert_exporter": "python",
   "pygments_lexer": "ipython3",
   "version": "3.8.13"
  },
  "orig_nbformat": 4,
  "vscode": {
   "interpreter": {
    "hash": "e0ecfad75f99b8578830c76494b15e8b8f0ed30d484e3d7b0b2aac43eb800e14"
   }
  }
 },
 "nbformat": 4,
 "nbformat_minor": 2
}
