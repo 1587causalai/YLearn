{
 "cells": [
  {
   "cell_type": "code",
   "execution_count": 1,
   "metadata": {},
   "outputs": [
    {
     "name": "stdout",
     "output_type": "stream",
     "text": [
      "building the 2 tree\n"
     ]
    },
    {
     "data": {
      "text/plain": [
       "array([ 0.11593581,  0.12825947, -0.30536784,  1.1952514 ,  2.87365318,\n",
       "       -0.01498388,  1.35105983,  2.19031003, -0.12149348,  1.48035956,\n",
       "       -0.30536784,  1.2836452 ,  1.86068012, -0.49240833,  1.12166108,\n",
       "        0.95465896,  1.86068012,  1.57214923,  1.8749126 , -0.44288891,\n",
       "       -0.32020137, -0.38585696,  0.67278507, -0.68834723,  2.93284407,\n",
       "       -0.48651932,  3.12882491,  3.28512382,  0.66574452,  1.42928579,\n",
       "        1.14738291,  2.48772049,  1.1169508 ,  1.46792761, -0.55730316,\n",
       "        1.96256574,  3.92225231,  0.31827251,  0.52096221,  0.05755382,\n",
       "        2.24739999,  0.40953207, -0.12709334,  0.37853453,  1.59054867,\n",
       "        0.31217888,  0.35407687,  0.92624628,  0.16343452,  1.25773908])"
      ]
     },
     "execution_count": 1,
     "metadata": {},
     "output_type": "execute_result"
    }
   ],
   "source": [
    "import sys\n",
    "import os\n",
    "sys.path.append(os.path.dirname(os.path.dirname(os.path.abspath('./test_score.ipynb'))))\n",
    "\n",
    "import numpy as np\n",
    "import pandas as pd\n",
    "\n",
    "from ylearn.estimator_model._generalized_forest.tree._grf_tree import GrfTree\n",
    "from ylearn.estimator_model._generalized_forest._grf import GRForest\n",
    "from ylearn.exp_dataset.exp_data import sq_data\n",
    "from ylearn.utils._common import to_df\n",
    "from ylearn.estimator_model._naive_forest.utils import grad, grad_coef, inverse_grad\n",
    "\n",
    "from numpy.linalg import lstsq, inv\n",
    "\n",
    "from copy import deepcopy\n",
    "\n",
    "\n",
    "n = 2000\n",
    "d = 10     \n",
    "n_x = 1\n",
    "y, x, v = sq_data(n, d, n_x)\n",
    "\n",
    "true_te = lambda X: np.hstack([X[:, [0]]**2 + 1, np.ones((X.shape[0], n_x - 1))])\n",
    "w = deepcopy(v)\n",
    "v_test = v[:min(100, n)].copy()\n",
    "v_test[:, 0] = np.linspace(np.percentile(v[:, 0], 1), np.percentile(v[:, 0], 99), min(100, n))\n",
    "data = to_df(treatment=x, outcome=y, v=v)\n",
    "test_data = to_df(v=v_test)\n",
    "\n",
    "outcome = 'outcome'\n",
    "treatment = 'treatment'\n",
    "adjustment = data.columns[2:]\n",
    "from sklearn.preprocessing import OneHotEncoder\n",
    "oh = OneHotEncoder()\n",
    "# x = oh.fit_transform(x).toarray().astype(np.float32)\n",
    "\n",
    "\n",
    "\n",
    "gtre = GrfTree(max_depth=100000, max_leaf_nodes=np.int(100000))\n",
    "gtre._fit_with_array(x, y, w, v, i=1)\n",
    "gtre.tree_.predict(v[:50].astype(np.float32)).squeeze()"
   ]
  },
  {
   "cell_type": "code",
   "execution_count": 2,
   "metadata": {},
   "outputs": [
    {
     "data": {
      "text/plain": [
       "array([2000, 1863,  137, ...,    1,    1,    1], dtype=int64)"
      ]
     },
     "execution_count": 2,
     "metadata": {},
     "output_type": "execute_result"
    }
   ],
   "source": [
    "gtre.tree_.n_node_samples"
   ]
  },
  {
   "cell_type": "code",
   "execution_count": 3,
   "metadata": {},
   "outputs": [
    {
     "name": "stdout",
     "output_type": "stream",
     "text": [
      "building 2-th tree\n"
     ]
    },
    {
     "data": {
      "text/plain": [
       "<ylearn.estimator_model._naive_forest._grf_tree._GrfTree at 0x7f8665747730>"
      ]
     },
     "execution_count": 3,
     "metadata": {},
     "output_type": "execute_result"
    }
   ],
   "source": [
    "from ylearn.estimator_model._naive_forest import _GrfTree, NaiveGrf\n",
    "gt = _GrfTree()\n",
    "gt._fit_with_array(x=x, y=y.squeeze(), w=w, v=v, i=1)"
   ]
  },
  {
   "cell_type": "code",
   "execution_count": 4,
   "metadata": {},
   "outputs": [
    {
     "data": {
      "text/plain": [
       "array([ 3.13885206e-01, -3.06026049e-01,  1.71559724e+00, -2.71350038e-01,\n",
       "        4.02624824e-04,  1.49921012e-01,  2.14000336e-01, -7.11162160e-01,\n",
       "        2.80058766e+00,  1.48035956e+00,  2.81545914e-01, -1.17725023e-01,\n",
       "        1.28364520e+00, -3.84078177e-01, -3.84078177e-01,  1.38628565e-01,\n",
       "       -7.66250441e-01, -3.84078177e-01,  1.87491260e+00,  1.87491260e+00,\n",
       "        1.15900478e+00, -3.20201366e-01,  2.20334568e+00, -7.05173263e-01,\n",
       "        1.46992891e+00,  3.54841921e+00,  1.45465015e+00, -1.53209495e-01,\n",
       "       -8.78429145e-02, -2.24286892e-01, -4.40836781e-01,  2.62236404e+00,\n",
       "        1.46047854e+00, -1.09418837e-01,  3.90361259e-01,  6.62914192e-01,\n",
       "       -2.75186666e-01,  3.18272514e-01,  5.82868938e-02, -4.33897478e-01,\n",
       "        3.26893827e+00,  1.31313758e+00,  1.49921012e-01, -5.37285693e-01,\n",
       "        1.59054867e+00,  3.12178882e-01,  1.45465015e+00,  1.15900478e+00,\n",
       "       -3.84078177e-01, -2.80234744e-01])"
      ]
     },
     "execution_count": 4,
     "metadata": {},
     "output_type": "execute_result"
    }
   ],
   "source": [
    "gt._predict_with_array(w[:50], v=v[:50])"
   ]
  },
  {
   "cell_type": "code",
   "execution_count": 8,
   "metadata": {},
   "outputs": [
    {
     "name": "stdout",
     "output_type": "stream",
     "text": [
      "building the 1 tree\n",
      "building the 2 tree\n",
      "building the 3 tree\n",
      "building the 4 tree\n",
      "building the 5 tree\n",
      "building the 6 tree\n",
      "building the 7 tree\n",
      "building the 8 tree\n",
      "building the 9 tree\n",
      "building the 10 tree\n",
      "building the 11 tree\n",
      "building the 12 tree\n",
      "building the 13 tree\n",
      "building the 14 tree\n",
      "building the 15 tree\n",
      "building the 16 tree\n",
      "building the 17 tree\n",
      "building the 18 tree\n",
      "building the 19 tree\n",
      "building the 20 tree\n",
      "building the 21 tree\n",
      "building the 22 tree\n",
      "building the 23 tree\n",
      "building the 24 tree\n",
      "building the 25 tree\n",
      "building the 26 tree\n",
      "building the 27 tree\n",
      "building the 28 tree\n",
      "building the 29 tree\n",
      "building the 30 tree\n",
      "building the 31 tree\n",
      "building the 32 tree\n",
      "building the 33 tree\n",
      "building the 34 tree\n",
      "building the 35 tree\n",
      "building the 36 tree\n",
      "building the 37 tree\n",
      "building the 38 tree\n",
      "building the 39 tree\n",
      "building the 40 tree\n",
      "building the 41 tree\n",
      "building the 42 tree\n",
      "building the 43 tree\n",
      "building the 44 tree\n",
      "building the 45 tree\n",
      "building the 46 tree\n",
      "building the 47 tree\n",
      "building the 48 tree\n",
      "building the 49 tree\n",
      "building the 50 tree\n",
      "building the 51 tree\n",
      "building the 52 tree\n",
      "building the 53 tree\n",
      "building the 54 tree\n",
      "building the 55 tree\n",
      "building the 56 tree\n",
      "building the 57 tree\n",
      "building the 58 tree\n",
      "building the 59 tree\n",
      "building the 60 tree\n",
      "building the 61 tree\n",
      "building the 62 tree\n",
      "building the 63 tree\n",
      "building the 64 tree\n",
      "building the 65 tree\n",
      "building the 66 tree\n",
      "building the 67 tree\n",
      "building the 68 tree\n",
      "building the 69 tree\n",
      "building the 70 tree\n",
      "building the 71 tree\n",
      "building the 72 tree\n",
      "building the 73 tree\n",
      "building the 74 tree\n",
      "building the 75 tree\n",
      "building the 76 tree\n",
      "building the 77 tree\n",
      "building the 78 tree\n",
      "building the 79 tree\n",
      "building the 80 tree\n",
      "building the 81 tree\n",
      "building the 82 tree\n",
      "building the 83 tree\n",
      "building the 84 tree\n",
      "building the 85 tree\n",
      "building the 86 tree\n",
      "building the 87 tree\n",
      "building the 88 tree\n",
      "building the 89 tree\n",
      "building the 90 tree\n",
      "building the 91 tree\n",
      "building the 92 tree\n",
      "building the 93 tree\n",
      "building the 94 tree\n",
      "building the 95 tree\n",
      "building the 96 tree\n",
      "building the 97 tree\n",
      "building the 98 tree\n",
      "building the 99 tree\n",
      "building the 100 tree\n",
      "building the 101 tree\n",
      "building the 102 tree\n",
      "building the 103 tree\n",
      "building the 104 tree\n",
      "building the 105 tree\n",
      "building the 106 tree\n",
      "building the 107 tree\n",
      "building the 108 tree\n",
      "building the 109 tree\n",
      "building the 110 tree\n",
      "building the 111 tree\n",
      "building the 112 tree\n",
      "building the 113 tree\n",
      "building the 114 tree\n",
      "building the 115 tree\n",
      "building the 116 tree\n",
      "building the 117 tree\n",
      "building the 118 tree\n",
      "building the 119 tree\n",
      "building the 120 tree\n",
      "building the 121 tree\n",
      "building the 122 tree\n",
      "building the 123 tree\n",
      "building the 124 tree\n",
      "building the 125 tree\n",
      "building the 126 tree\n",
      "building the 127 tree\n",
      "building the 128 tree\n",
      "building the 129 tree\n",
      "building the 130 tree\n",
      "building the 131 tree\n",
      "building the 132 tree\n",
      "building the 133 tree\n",
      "building the 134 tree\n",
      "building the 135 tree\n",
      "building the 136 tree\n",
      "building the 137 tree\n",
      "building the 138 tree\n",
      "building the 139 tree\n",
      "building the 140 tree\n",
      "building the 141 tree\n",
      "building the 142 tree\n",
      "building the 143 tree\n",
      "building the 144 tree\n",
      "building the 145 tree\n",
      "building the 146 tree\n",
      "building the 147 tree\n",
      "building the 148 tree\n",
      "building the 149 tree\n",
      "building the 150 tree\n",
      "building the 151 tree\n",
      "building the 152 tree\n",
      "building the 153 tree\n",
      "building the 154 tree\n",
      "building the 155 tree\n",
      "building the 156 tree\n",
      "building the 157 tree\n",
      "building the 158 tree\n",
      "building the 159 tree\n",
      "building the 160 tree\n",
      "building the 161 tree\n",
      "building the 162 tree\n",
      "building the 163 tree\n",
      "building the 164 tree\n",
      "building the 165 tree\n",
      "building the 166 tree\n",
      "building the 167 tree\n",
      "building the 168 tree\n",
      "building the 169 tree\n",
      "building the 170 tree\n",
      "building the 171 tree\n",
      "building the 172 tree\n",
      "building the 173 tree\n",
      "building the 174 tree\n",
      "building the 175 tree\n",
      "building the 176 tree\n",
      "building the 177 tree\n",
      "building the 178 tree\n",
      "building the 179 tree\n",
      "building the 180 tree\n",
      "building the 181 tree\n",
      "building the 182 tree\n",
      "building the 183 tree\n",
      "building the 184 tree\n",
      "building the 185 tree\n",
      "building the 186 tree\n",
      "building the 187 tree\n",
      "building the 188 tree\n",
      "building the 189 tree\n",
      "building the 190 tree\n",
      "building the 191 tree\n",
      "building the 192 tree\n",
      "building the 193 tree\n",
      "building the 194 tree\n",
      "building the 195 tree\n",
      "building the 196 tree\n",
      "building the 197 tree\n",
      "building the 198 tree\n",
      "building the 199 tree\n",
      "building the 200 tree\n",
      "building the 201 tree\n",
      "building the 202 tree\n",
      "building the 203 tree\n",
      "building the 204 tree\n",
      "building the 205 tree\n",
      "building the 206 tree\n",
      "building the 207 tree\n",
      "building the 208 tree\n",
      "building the 209 tree\n",
      "building the 210 tree\n",
      "building the 211 tree\n",
      "building the 212 tree\n",
      "building the 213 tree\n",
      "building the 214 tree\n",
      "building the 215 tree\n",
      "building the 216 tree\n",
      "building the 217 tree\n",
      "building the 218 tree\n",
      "building the 219 tree\n",
      "building the 220 tree\n",
      "building the 221 tree\n",
      "building the 222 tree\n",
      "building the 223 tree\n",
      "building the 224 tree\n",
      "building the 225 tree\n",
      "building the 226 tree\n",
      "building the 227 tree\n",
      "building the 228 tree\n",
      "building the 229 tree\n",
      "building the 230 tree\n",
      "building the 231 tree\n",
      "building the 232 tree\n",
      "building the 233 tree\n",
      "building the 234 tree\n",
      "building the 235 tree\n",
      "building the 236 tree\n",
      "building the 237 tree\n",
      "building the 238 tree\n",
      "building the 239 tree\n",
      "building the 240 tree\n",
      "building the 241 tree\n",
      "building the 242 tree\n",
      "building the 243 tree\n",
      "building the 244 tree\n",
      "building the 245 tree\n",
      "building the 246 tree\n",
      "building the 247 tree\n",
      "building the 248 tree\n",
      "building the 249 tree\n",
      "building the 250 tree\n"
     ]
    }
   ],
   "source": [
    "grf = GRForest(n_jobs=1, n_estimators=250, max_depth=100, max_leaf_nodes=100, verbose=0,)\n",
    "grf.fit(\n",
    "    data=data, outcome=outcome, treatment=treatment, adjustment=adjustment, covariate=adjustment\n",
    ")"
   ]
  },
  {
   "cell_type": "code",
   "execution_count": 9,
   "metadata": {},
   "outputs": [],
   "source": [
    "effect = grf._prepare4est(test_data)"
   ]
  },
  {
   "cell_type": "code",
   "execution_count": 10,
   "metadata": {},
   "outputs": [
    {
     "data": {
      "image/png": "[encoded data removed]",
      "text/plain": [
       "<Figure size 432x288 with 1 Axes>"
      ]
     },
     "metadata": {
      "needs_background": "light"
     },
     "output_type": "display_data"
    }
   ],
   "source": [
    "import matplotlib.pyplot as plt\n",
    "\n",
    "true_te = lambda X: np.hstack([X[:, [0]]**2 + 1, np.ones((X.shape[0], n_x - 1))])\n",
    "\n",
    "for t in range(n_x):\n",
    "    plt.plot(v_test[:, 0], effect[:, t])\n",
    "    plt.plot(v_test[:, 0], true_te(v_test)[:, t])\n",
    "plt.show()"
   ]
  }
 ],
 "metadata": {
  "kernelspec": {
   "display_name": "Python 3.8.13 ('causal')",
   "language": "python",
   "name": "python3"
  },
  "language_info": {
   "codemirror_mode": {
    "name": "ipython",
    "version": 3
   },
   "file_extension": ".py",
   "mimetype": "text/x-python",
   "name": "python",
   "nbconvert_exporter": "python",
   "pygments_lexer": "ipython3",
   "version": "3.8.13"
  },
  "orig_nbformat": 4,
  "vscode": {
   "interpreter": {
    "hash": "e0ecfad75f99b8578830c76494b15e8b8f0ed30d484e3d7b0b2aac43eb800e14"
   }
  }
 },
 "nbformat": 4,
 "nbformat_minor": 2
}
