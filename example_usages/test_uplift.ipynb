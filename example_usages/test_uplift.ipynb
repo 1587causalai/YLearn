{
 "cells": [
  {
   "cell_type": "code",
   "execution_count": 1,
   "metadata": {},
   "outputs": [],
   "source": [
    "import sys\n",
    "import os\n",
    "sys.path.append(os.path.dirname(os.path.dirname(os.path.abspath('./introduction.ipynb'))))"
   ]
  },
  {
   "cell_type": "code",
   "execution_count": 2,
   "metadata": {},
   "outputs": [],
   "source": [
    "import pandas as pd\n",
    "import numpy as np\n",
    "import matplotlib.pyplot as plt\n",
    "\n",
    "from ylearn.estimator_model.meta_learner import SLearner, TLearner, XLearner\n",
    "from ylearn.uplift._metric import auuc_score, qini_score, get_gain, get_qini\n",
    "from ylearn.uplift._plot import plot_qini, plot_gain\n",
    "\n",
    "from ylearn.estimator_model import PermutedXLearner\n",
    "\n",
    "\n",
    "from sklearn.model_selection import train_test_split\n",
    "from sklearn.preprocessing import LabelEncoder\n",
    "from sklearn.linear_model import LinearRegression\n",
    "from sklearn.preprocessing import OneHotEncoder\n",
    "from sklearn.preprocessing import LabelEncoder\n",
    "import xgboost\n",
    "\n",
    "import warnings\n",
    "warnings.filterwarnings(\"ignore\")"
   ]
  },
  {
   "cell_type": "code",
   "execution_count": 3,
   "metadata": {},
   "outputs": [
    {
     "data": {
      "text/html": [
       "<div>\n",
       "<style scoped>\n",
       "    .dataframe tbody tr th:only-of-type {\n",
       "        vertical-align: middle;\n",
       "    }\n",
       "\n",
       "    .dataframe tbody tr th {\n",
       "        vertical-align: top;\n",
       "    }\n",
       "\n",
       "    .dataframe thead th {\n",
       "        text-align: right;\n",
       "    }\n",
       "</style>\n",
       "<table border=\"1\" class=\"dataframe\">\n",
       "  <thead>\n",
       "    <tr style=\"text-align: right;\">\n",
       "      <th></th>\n",
       "      <th>recency</th>\n",
       "      <th>history</th>\n",
       "      <th>used_discount</th>\n",
       "      <th>used_bogo</th>\n",
       "      <th>zip_code</th>\n",
       "      <th>is_referral</th>\n",
       "      <th>channel</th>\n",
       "      <th>offer</th>\n",
       "      <th>conversion</th>\n",
       "    </tr>\n",
       "  </thead>\n",
       "  <tbody>\n",
       "    <tr>\n",
       "      <th>0</th>\n",
       "      <td>10</td>\n",
       "      <td>142.44</td>\n",
       "      <td>1</td>\n",
       "      <td>0</td>\n",
       "      <td>Surburban</td>\n",
       "      <td>0</td>\n",
       "      <td>Phone</td>\n",
       "      <td>Buy One Get One</td>\n",
       "      <td>0</td>\n",
       "    </tr>\n",
       "    <tr>\n",
       "      <th>1</th>\n",
       "      <td>6</td>\n",
       "      <td>329.08</td>\n",
       "      <td>1</td>\n",
       "      <td>1</td>\n",
       "      <td>Rural</td>\n",
       "      <td>1</td>\n",
       "      <td>Web</td>\n",
       "      <td>No Offer</td>\n",
       "      <td>0</td>\n",
       "    </tr>\n",
       "    <tr>\n",
       "      <th>2</th>\n",
       "      <td>7</td>\n",
       "      <td>180.65</td>\n",
       "      <td>0</td>\n",
       "      <td>1</td>\n",
       "      <td>Surburban</td>\n",
       "      <td>1</td>\n",
       "      <td>Web</td>\n",
       "      <td>Buy One Get One</td>\n",
       "      <td>0</td>\n",
       "    </tr>\n",
       "    <tr>\n",
       "      <th>3</th>\n",
       "      <td>9</td>\n",
       "      <td>675.83</td>\n",
       "      <td>1</td>\n",
       "      <td>0</td>\n",
       "      <td>Rural</td>\n",
       "      <td>1</td>\n",
       "      <td>Web</td>\n",
       "      <td>Discount</td>\n",
       "      <td>0</td>\n",
       "    </tr>\n",
       "    <tr>\n",
       "      <th>4</th>\n",
       "      <td>2</td>\n",
       "      <td>45.34</td>\n",
       "      <td>1</td>\n",
       "      <td>0</td>\n",
       "      <td>Urban</td>\n",
       "      <td>0</td>\n",
       "      <td>Web</td>\n",
       "      <td>Buy One Get One</td>\n",
       "      <td>0</td>\n",
       "    </tr>\n",
       "  </tbody>\n",
       "</table>\n",
       "</div>"
      ],
      "text/plain": [
       "   recency  history  used_discount  used_bogo   zip_code  is_referral channel  \\\n",
       "0       10   142.44              1          0  Surburban            0   Phone   \n",
       "1        6   329.08              1          1      Rural            1     Web   \n",
       "2        7   180.65              0          1  Surburban            1     Web   \n",
       "3        9   675.83              1          0      Rural            1     Web   \n",
       "4        2    45.34              1          0      Urban            0     Web   \n",
       "\n",
       "             offer  conversion  \n",
       "0  Buy One Get One           0  \n",
       "1         No Offer           0  \n",
       "2  Buy One Get One           0  \n",
       "3         Discount           0  \n",
       "4  Buy One Get One           0  "
      ]
     },
     "execution_count": 3,
     "metadata": {},
     "output_type": "execute_result"
    }
   ],
   "source": [
    "data = pd.read_csv('data/marketing_promotion.csv.zip')\n",
    "data.head()"
   ]
  },
  {
   "cell_type": "code",
   "execution_count": 4,
   "metadata": {},
   "outputs": [],
   "source": [
    "for x in ['channel']:\n",
    "    le = LabelEncoder()\n",
    "    c_index = list(data.columns).index(x)\n",
    "    data.iloc[:, c_index] = le.fit_transform(data.iloc[:, c_index])\n",
    "    \n",
    "def onehot_(data,col):\n",
    "    enc = OneHotEncoder()\n",
    "    enc.fit(data[[col]])\n",
    "    encodes = enc.transform(data[[col]]).toarray()\n",
    "    cols = [f'{col}_{i}' for i in range(len(encodes[0]))]\n",
    "    return pd.concat([data,pd.DataFrame(encodes,columns=cols)],1).drop([col],1)\n",
    "data = onehot_(data,'zip_code')\n"
   ]
  },
  {
   "cell_type": "code",
   "execution_count": 5,
   "metadata": {},
   "outputs": [
    {
     "data": {
      "text/html": [
       "<div>\n",
       "<style scoped>\n",
       "    .dataframe tbody tr th:only-of-type {\n",
       "        vertical-align: middle;\n",
       "    }\n",
       "\n",
       "    .dataframe tbody tr th {\n",
       "        vertical-align: top;\n",
       "    }\n",
       "\n",
       "    .dataframe thead tr th {\n",
       "        text-align: left;\n",
       "    }\n",
       "\n",
       "    .dataframe thead tr:last-of-type th {\n",
       "        text-align: right;\n",
       "    }\n",
       "</style>\n",
       "<table border=\"1\" class=\"dataframe\">\n",
       "  <thead>\n",
       "    <tr>\n",
       "      <th></th>\n",
       "      <th colspan=\"2\" halign=\"left\">size</th>\n",
       "    </tr>\n",
       "    <tr>\n",
       "      <th>conversion</th>\n",
       "      <th>0</th>\n",
       "      <th>1</th>\n",
       "    </tr>\n",
       "    <tr>\n",
       "      <th>offer</th>\n",
       "      <th></th>\n",
       "      <th></th>\n",
       "    </tr>\n",
       "  </thead>\n",
       "  <tbody>\n",
       "    <tr>\n",
       "      <th>Buy One Get One</th>\n",
       "      <td>18149</td>\n",
       "      <td>3238</td>\n",
       "    </tr>\n",
       "    <tr>\n",
       "      <th>Discount</th>\n",
       "      <td>17413</td>\n",
       "      <td>3894</td>\n",
       "    </tr>\n",
       "    <tr>\n",
       "      <th>No Offer</th>\n",
       "      <td>19044</td>\n",
       "      <td>2262</td>\n",
       "    </tr>\n",
       "  </tbody>\n",
       "</table>\n",
       "</div>"
      ],
      "text/plain": [
       "                  size      \n",
       "conversion           0     1\n",
       "offer                       \n",
       "Buy One Get One  18149  3238\n",
       "Discount         17413  3894\n",
       "No Offer         19044  2262"
      ]
     },
     "execution_count": 5,
     "metadata": {},
     "output_type": "execute_result"
    }
   ],
   "source": [
    "data.groupby(['offer', 'conversion']).agg([np.size, ])['history'].unstack()"
   ]
  },
  {
   "cell_type": "code",
   "execution_count": 6,
   "metadata": {},
   "outputs": [
    {
     "name": "stdout",
     "output_type": "stream",
     "text": [
      "data_bogo: (42693, 11)\n",
      "data_discount: (42613, 11)\n"
     ]
    }
   ],
   "source": [
    "data_bogo = data[data['offer'] != 'Discount']\n",
    "data_bogo['offer'] = data_bogo['offer'].map(lambda x: 0 if x=='No Offer' else 1)\n",
    "print('data_bogo:',data_bogo.shape)\n",
    "\n",
    "data_discount = data[data['offer'] != 'Buy One Get One']\n",
    "data_discount['offer'] = data_discount['offer'].map(lambda x: 0 if x=='No Offer' else 1)\n",
    "print('data_discount:',data_discount.shape)"
   ]
  },
  {
   "cell_type": "code",
   "execution_count": 7,
   "metadata": {},
   "outputs": [
    {
     "name": "stdout",
     "output_type": "stream",
     "text": [
      "train_data_bogo: (21346, 11)\n",
      "test_data_bogo: (21347, 11)\n",
      "train_data_discount:  (21306, 11)\n",
      "test_data_discount:  (21307, 11)\n"
     ]
    }
   ],
   "source": [
    "train_data_bogo,test_data_bogo=train_test_split(data_bogo,test_size=0.5,random_state=123)\n",
    "train_data_discount,test_data_discount=train_test_split(data_discount,test_size=0.5,random_state=123)\n",
    "\n",
    "print('train_data_bogo:',train_data_bogo.shape)\n",
    "print('test_data_bogo:',test_data_bogo.shape)\n",
    "print('train_data_discount: ',train_data_discount.shape)\n",
    "print('test_data_discount: ',test_data_discount.shape)\n",
    "\n"
   ]
  },
  {
   "cell_type": "markdown",
   "metadata": {},
   "source": [
    "## Uplift with SLearner"
   ]
  },
  {
   "cell_type": "code",
   "execution_count": 8,
   "metadata": {},
   "outputs": [
    {
     "data": {
      "text/plain": [
       "['recency',\n",
       " 'history',\n",
       " 'used_discount',\n",
       " 'used_bogo',\n",
       " 'is_referral',\n",
       " 'channel',\n",
       " 'zip_code_0',\n",
       " 'zip_code_1',\n",
       " 'zip_code_2']"
      ]
     },
     "execution_count": 8,
     "metadata": {},
     "output_type": "execute_result"
    }
   ],
   "source": [
    "treatment = 'offer'\n",
    "outcome = 'conversion'\n",
    "\n",
    "covariate = list(data.columns)\n",
    "covariate.remove(treatment)\n",
    "covariate.remove(outcome)\n",
    "covariate"
   ]
  },
  {
   "cell_type": "code",
   "execution_count": 9,
   "metadata": {},
   "outputs": [
    {
     "name": "stdout",
     "output_type": "stream",
     "text": [
      "offer conversion ['recency', 'history', 'used_discount', 'used_bogo', 'is_referral', 'channel', 'zip_code_0', 'zip_code_1', 'zip_code_2']\n"
     ]
    },
    {
     "data": {
      "text/html": [
       "<div>\n",
       "<style scoped>\n",
       "    .dataframe tbody tr th:only-of-type {\n",
       "        vertical-align: middle;\n",
       "    }\n",
       "\n",
       "    .dataframe tbody tr th {\n",
       "        vertical-align: top;\n",
       "    }\n",
       "\n",
       "    .dataframe thead th {\n",
       "        text-align: right;\n",
       "    }\n",
       "</style>\n",
       "<table border=\"1\" class=\"dataframe\">\n",
       "  <thead>\n",
       "    <tr style=\"text-align: right;\">\n",
       "      <th></th>\n",
       "      <th>recency</th>\n",
       "      <th>history</th>\n",
       "      <th>used_discount</th>\n",
       "      <th>used_bogo</th>\n",
       "      <th>is_referral</th>\n",
       "      <th>channel</th>\n",
       "      <th>offer</th>\n",
       "      <th>conversion</th>\n",
       "      <th>zip_code_0</th>\n",
       "      <th>zip_code_1</th>\n",
       "      <th>zip_code_2</th>\n",
       "    </tr>\n",
       "  </thead>\n",
       "  <tbody>\n",
       "    <tr>\n",
       "      <th>62716</th>\n",
       "      <td>9</td>\n",
       "      <td>50.60</td>\n",
       "      <td>1</td>\n",
       "      <td>0</td>\n",
       "      <td>1</td>\n",
       "      <td>2</td>\n",
       "      <td>0</td>\n",
       "      <td>0</td>\n",
       "      <td>0.0</td>\n",
       "      <td>1.0</td>\n",
       "      <td>0.0</td>\n",
       "    </tr>\n",
       "    <tr>\n",
       "      <th>55961</th>\n",
       "      <td>3</td>\n",
       "      <td>159.57</td>\n",
       "      <td>1</td>\n",
       "      <td>0</td>\n",
       "      <td>1</td>\n",
       "      <td>2</td>\n",
       "      <td>0</td>\n",
       "      <td>0</td>\n",
       "      <td>0.0</td>\n",
       "      <td>1.0</td>\n",
       "      <td>0.0</td>\n",
       "    </tr>\n",
       "    <tr>\n",
       "      <th>62117</th>\n",
       "      <td>4</td>\n",
       "      <td>29.99</td>\n",
       "      <td>1</td>\n",
       "      <td>0</td>\n",
       "      <td>1</td>\n",
       "      <td>2</td>\n",
       "      <td>1</td>\n",
       "      <td>0</td>\n",
       "      <td>0.0</td>\n",
       "      <td>0.0</td>\n",
       "      <td>1.0</td>\n",
       "    </tr>\n",
       "    <tr>\n",
       "      <th>12745</th>\n",
       "      <td>7</td>\n",
       "      <td>46.46</td>\n",
       "      <td>0</td>\n",
       "      <td>1</td>\n",
       "      <td>1</td>\n",
       "      <td>1</td>\n",
       "      <td>1</td>\n",
       "      <td>0</td>\n",
       "      <td>0.0</td>\n",
       "      <td>0.0</td>\n",
       "      <td>1.0</td>\n",
       "    </tr>\n",
       "    <tr>\n",
       "      <th>38337</th>\n",
       "      <td>10</td>\n",
       "      <td>128.33</td>\n",
       "      <td>1</td>\n",
       "      <td>0</td>\n",
       "      <td>1</td>\n",
       "      <td>2</td>\n",
       "      <td>1</td>\n",
       "      <td>0</td>\n",
       "      <td>0.0</td>\n",
       "      <td>1.0</td>\n",
       "      <td>0.0</td>\n",
       "    </tr>\n",
       "    <tr>\n",
       "      <th>...</th>\n",
       "      <td>...</td>\n",
       "      <td>...</td>\n",
       "      <td>...</td>\n",
       "      <td>...</td>\n",
       "      <td>...</td>\n",
       "      <td>...</td>\n",
       "      <td>...</td>\n",
       "      <td>...</td>\n",
       "      <td>...</td>\n",
       "      <td>...</td>\n",
       "      <td>...</td>\n",
       "    </tr>\n",
       "    <tr>\n",
       "      <th>11520</th>\n",
       "      <td>9</td>\n",
       "      <td>87.86</td>\n",
       "      <td>1</td>\n",
       "      <td>0</td>\n",
       "      <td>1</td>\n",
       "      <td>2</td>\n",
       "      <td>0</td>\n",
       "      <td>0</td>\n",
       "      <td>1.0</td>\n",
       "      <td>0.0</td>\n",
       "      <td>0.0</td>\n",
       "    </tr>\n",
       "    <tr>\n",
       "      <th>22994</th>\n",
       "      <td>12</td>\n",
       "      <td>29.99</td>\n",
       "      <td>0</td>\n",
       "      <td>1</td>\n",
       "      <td>0</td>\n",
       "      <td>2</td>\n",
       "      <td>1</td>\n",
       "      <td>0</td>\n",
       "      <td>1.0</td>\n",
       "      <td>0.0</td>\n",
       "      <td>0.0</td>\n",
       "    </tr>\n",
       "    <tr>\n",
       "      <th>26474</th>\n",
       "      <td>5</td>\n",
       "      <td>168.30</td>\n",
       "      <td>0</td>\n",
       "      <td>1</td>\n",
       "      <td>0</td>\n",
       "      <td>2</td>\n",
       "      <td>1</td>\n",
       "      <td>0</td>\n",
       "      <td>0.0</td>\n",
       "      <td>1.0</td>\n",
       "      <td>0.0</td>\n",
       "    </tr>\n",
       "    <tr>\n",
       "      <th>41924</th>\n",
       "      <td>11</td>\n",
       "      <td>428.45</td>\n",
       "      <td>1</td>\n",
       "      <td>1</td>\n",
       "      <td>0</td>\n",
       "      <td>1</td>\n",
       "      <td>0</td>\n",
       "      <td>1</td>\n",
       "      <td>0.0</td>\n",
       "      <td>0.0</td>\n",
       "      <td>1.0</td>\n",
       "    </tr>\n",
       "    <tr>\n",
       "      <th>23522</th>\n",
       "      <td>6</td>\n",
       "      <td>58.36</td>\n",
       "      <td>1</td>\n",
       "      <td>0</td>\n",
       "      <td>1</td>\n",
       "      <td>2</td>\n",
       "      <td>0</td>\n",
       "      <td>0</td>\n",
       "      <td>0.0</td>\n",
       "      <td>1.0</td>\n",
       "      <td>0.0</td>\n",
       "    </tr>\n",
       "  </tbody>\n",
       "</table>\n",
       "<p>21346 rows × 11 columns</p>\n",
       "</div>"
      ],
      "text/plain": [
       "       recency  history  used_discount  used_bogo  is_referral  channel  \\\n",
       "62716        9    50.60              1          0            1        2   \n",
       "55961        3   159.57              1          0            1        2   \n",
       "62117        4    29.99              1          0            1        2   \n",
       "12745        7    46.46              0          1            1        1   \n",
       "38337       10   128.33              1          0            1        2   \n",
       "...        ...      ...            ...        ...          ...      ...   \n",
       "11520        9    87.86              1          0            1        2   \n",
       "22994       12    29.99              0          1            0        2   \n",
       "26474        5   168.30              0          1            0        2   \n",
       "41924       11   428.45              1          1            0        1   \n",
       "23522        6    58.36              1          0            1        2   \n",
       "\n",
       "       offer  conversion  zip_code_0  zip_code_1  zip_code_2  \n",
       "62716      0           0         0.0         1.0         0.0  \n",
       "55961      0           0         0.0         1.0         0.0  \n",
       "62117      1           0         0.0         0.0         1.0  \n",
       "12745      1           0         0.0         0.0         1.0  \n",
       "38337      1           0         0.0         1.0         0.0  \n",
       "...      ...         ...         ...         ...         ...  \n",
       "11520      0           0         1.0         0.0         0.0  \n",
       "22994      1           0         1.0         0.0         0.0  \n",
       "26474      1           0         0.0         1.0         0.0  \n",
       "41924      0           1         0.0         0.0         1.0  \n",
       "23522      0           0         0.0         1.0         0.0  \n",
       "\n",
       "[21346 rows x 11 columns]"
      ]
     },
     "execution_count": 9,
     "metadata": {},
     "output_type": "execute_result"
    }
   ],
   "source": [
    "print(treatment,outcome,covariate)\n",
    "train_data_bogo"
   ]
  },
  {
   "cell_type": "code",
   "execution_count": 10,
   "metadata": {},
   "outputs": [
    {
     "name": "stdout",
     "output_type": "stream",
     "text": [
      "[11:31:38] WARNING: C:/Users/Administrator/workspace/xgboost-win64_release_1.5.1/src/learner.cc:1115: Starting in XGBoost 1.3.0, the default evaluation metric used with the objective 'binary:logistic' was changed from 'error' to 'logloss'. Explicitly set eval_metric if you'd like to restore the old behavior.\n"
     ]
    }
   ],
   "source": [
    "xgb = xgboost.XGBClassifier(n_estimators=100,\n",
    "                            max_depth=5,\n",
    "                            min_child_weight=5,\n",
    "                            learning_rate=0.1,\n",
    "                            gamma=1,\n",
    "                            reg_alpha=1,\n",
    "                            reg_lambda=1,\n",
    "                            random_state=2022)\n",
    "\n",
    "s = SLearner(model=xgb, is_discrete_outcome=True, proba_output=True)\n",
    "s.fit(\n",
    "    data=train_data_bogo,\n",
    "    outcome=outcome,\n",
    "    treatment=treatment,\n",
    "    covariate=covariate\n",
    ")\n",
    "\n",
    "s_pred = s.estimate(data=test_data_bogo, target_outcome=1)\n",
    "df_uplift = pd.DataFrame()\n",
    "df_uplift['SLearner'] = list(s_pred)\n",
    "df_uplift[treatment] = test_data_bogo[treatment].values\n",
    "df_uplift[outcome] = test_data_bogo[outcome].values\n"
   ]
  },
  {
   "cell_type": "code",
   "execution_count": 11,
   "metadata": {},
   "outputs": [
    {
     "name": "stdout",
     "output_type": "stream",
     "text": [
      "score_auuc 0.6727339875389836\n"
     ]
    },
    {
     "data": {
      "image/png": "[encoded data removed]",
      "text/plain": [
       "<Figure size 432x288 with 1 Axes>"
      ]
     },
     "metadata": {
      "needs_background": "light"
     },
     "output_type": "display_data"
    }
   ],
   "source": [
    "score_auuc = auuc_score(df_uplift, outcome=outcome, treatment=treatment, random_name=None)\n",
    "print('score_auuc', score_auuc.values[0])\n",
    "\n",
    "gain = get_gain(df_uplift, outcome=outcome, treatment=treatment, random_name='Random')\n",
    "plot_gain(gain, normalize=True)\n",
    "plt.title('gain curve')\n",
    "plt.show()"
   ]
  },
  {
   "cell_type": "code",
   "execution_count": 12,
   "metadata": {},
   "outputs": [
    {
     "data": {
      "image/png": "[encoded data removed]",
      "text/plain": [
       "<Figure size 432x288 with 1 Axes>"
      ]
     },
     "metadata": {
      "needs_background": "light"
     },
     "output_type": "display_data"
    },
    {
     "name": "stdout",
     "output_type": "stream",
     "text": [
      "score_qini 0.17647570637715582\n"
     ]
    }
   ],
   "source": [
    "qini = get_qini(df_uplift, outcome=outcome, treatment=treatment, random_name='Random')\n",
    "plot_qini(qini, normalize=True)\n",
    "plt.title('qini curve')\n",
    "plt.show()\n",
    "\n",
    "score_qini = qini_score(df_uplift, outcome=outcome, treatment=treatment, random_name=None)\n",
    "print('score_qini', score_qini.values[0])\n"
   ]
  },
  {
   "cell_type": "markdown",
   "metadata": {},
   "source": [
    "## Uplift with TLearner, XLearner"
   ]
  },
  {
   "cell_type": "code",
   "execution_count": 13,
   "metadata": {},
   "outputs": [],
   "source": [
    "def uplift(learner, train_data,test_data, learner_name):\n",
    "    learner.fit(\n",
    "        data=train_data,\n",
    "        outcome=outcome,\n",
    "        treatment=treatment,\n",
    "        covariate=covariate\n",
    "    )\n",
    "\n",
    "    s_pred = learner.estimate(data=test_data, target_outcome=1)\n",
    "    df_uplift = pd.DataFrame()\n",
    "    df_uplift[learner_name] = list(s_pred)\n",
    "    df_uplift[treatment] = test_data[treatment].values\n",
    "    df_uplift[outcome] = test_data[outcome].values\n",
    "    \n",
    "    \n",
    "    score_auuc = auuc_score(df_uplift, outcome=outcome, treatment=treatment, random_name=None)\n",
    "    print('score_auuc', score_auuc.values[0])\n",
    "\n",
    "    gain = get_gain(df_uplift, outcome=outcome, treatment=treatment, random_name='Random')\n",
    "    print(gain.head(10))\n",
    "    plot_gain(gain, normalize=True)\n",
    "    plt.title('gain curve')\n",
    "    plt.show()\n",
    "    \n",
    "    qini = get_qini(df_uplift, outcome=outcome, treatment=treatment, random_name='Random')\n",
    "    print(qini.head(10))\n",
    "    plot_qini(qini, normalize=True)\n",
    "    plt.title('qini curve')\n",
    "    plt.show()\n",
    "\n",
    "    score_qini = qini_score(df_uplift, outcome=outcome, treatment=treatment, random_name=None)\n",
    "    print('score_qini', score_qini.values[0])\n"
   ]
  },
  {
   "cell_type": "code",
   "execution_count": 14,
   "metadata": {},
   "outputs": [
    {
     "name": "stdout",
     "output_type": "stream",
     "text": [
      "[11:31:43] WARNING: C:/Users/Administrator/workspace/xgboost-win64_release_1.5.1/src/learner.cc:1115: Starting in XGBoost 1.3.0, the default evaluation metric used with the objective 'binary:logistic' was changed from 'error' to 'logloss'. Explicitly set eval_metric if you'd like to restore the old behavior.\n",
      "[11:31:43] WARNING: C:/Users/Administrator/workspace/xgboost-win64_release_1.5.1/src/learner.cc:1115: Starting in XGBoost 1.3.0, the default evaluation metric used with the objective 'binary:logistic' was changed from 'error' to 'logloss'. Explicitly set eval_metric if you'd like to restore the old behavior.\n",
      "score_auuc 0.5958390914694983\n",
      "   TLearner    Random\n",
      "0  0.000000  0.000000\n",
      "1  0.001086  0.000272\n",
      "2  0.002172  0.000543\n",
      "3  0.003259  0.000163\n",
      "4  0.002172  0.000217\n",
      "5  0.002716  0.000091\n",
      "6  0.003259  0.000054\n",
      "7  0.002534  0.000127\n",
      "8  0.004345  0.000116\n",
      "9  0.003910  0.000114\n"
     ]
    },
    {
     "data": {
      "image/png": "[encoded data removed]",
      "text/plain": [
       "<Figure size 432x288 with 1 Axes>"
      ]
     },
     "metadata": {
      "needs_background": "light"
     },
     "output_type": "display_data"
    },
    {
     "name": "stdout",
     "output_type": "stream",
     "text": [
      "   TLearner    Random\n",
      "0  0.000000  0.000000\n",
      "1  0.000000  0.000000\n",
      "2  0.002162  0.000000\n",
      "3  0.002162  0.000216\n",
      "4  0.002162  0.000577\n",
      "5  0.002162  0.000937\n",
      "6  0.002162  0.000757\n",
      "7  0.002162  0.000595\n",
      "8  0.004325  0.000605\n",
      "9  0.004325  0.000519\n"
     ]
    },
    {
     "data": {
      "image/png": "[encoded data removed]",
      "text/plain": [
       "<Figure size 432x288 with 1 Axes>"
      ]
     },
     "metadata": {
      "needs_background": "light"
     },
     "output_type": "display_data"
    },
    {
     "name": "stdout",
     "output_type": "stream",
     "text": [
      "score_qini 0.10015663196335195\n"
     ]
    }
   ],
   "source": [
    "xgb = xgboost.XGBClassifier(n_estimators=100,\n",
    "                            max_depth=5,\n",
    "                            min_child_weight=5,\n",
    "                            learning_rate=0.1,\n",
    "                            gamma=1,\n",
    "                            reg_alpha=1,\n",
    "                            reg_lambda=1,\n",
    "                            random_state=2022)\n",
    "tlearner = TLearner(model=xgb, is_discrete_outcome=True, proba_output=True)\n",
    "uplift(tlearner,train_data_bogo, test_data_bogo, 'TLearner')"
   ]
  },
  {
   "cell_type": "code",
   "execution_count": 15,
   "metadata": {},
   "outputs": [
    {
     "name": "stdout",
     "output_type": "stream",
     "text": [
      "[11:31:47] WARNING: C:/Users/Administrator/workspace/xgboost-win64_release_1.5.1/src/learner.cc:1115: Starting in XGBoost 1.3.0, the default evaluation metric used with the objective 'binary:logistic' was changed from 'error' to 'logloss'. Explicitly set eval_metric if you'd like to restore the old behavior.\n",
      "[11:31:47] WARNING: C:/Users/Administrator/workspace/xgboost-win64_release_1.5.1/src/learner.cc:1115: Starting in XGBoost 1.3.0, the default evaluation metric used with the objective 'binary:logistic' was changed from 'error' to 'logloss'. Explicitly set eval_metric if you'd like to restore the old behavior.\n",
      "score_auuc 0.7127533228963414\n",
      "   XLearner    Random\n",
      "0  0.000000  0.000000\n",
      "1  0.000543  0.000036\n",
      "2  0.001086  0.000072\n",
      "3  0.001629  0.000109\n",
      "4  0.001448  0.000362\n",
      "5  0.001358  0.000679\n",
      "6  0.001629  0.000728\n",
      "7  0.001521  0.000824\n",
      "8  0.001448  0.001190\n",
      "9  0.001629  0.001303\n"
     ]
    },
    {
     "data": {
      "image/png": "[encoded data removed]",
      "text/plain": [
       "<Figure size 432x288 with 1 Axes>"
      ]
     },
     "metadata": {
      "needs_background": "light"
     },
     "output_type": "display_data"
    },
    {
     "name": "stdout",
     "output_type": "stream",
     "text": [
      "   XLearner    Random\n",
      "0  0.000000  0.000000\n",
      "1  0.000721 -0.000036\n",
      "2  0.001442  0.000144\n",
      "3  0.002162 -0.000108\n",
      "4  0.002162  0.000000\n",
      "5  0.002162 -0.000198\n",
      "6  0.002162 -0.000476\n",
      "7  0.002162  0.000040\n",
      "8  0.002162  0.000360\n",
      "9  0.002162  0.000303\n"
     ]
    },
    {
     "data": {
      "image/png": "[encoded data removed]",
      "text/plain": [
       "<Figure size 432x288 with 1 Axes>"
      ]
     },
     "metadata": {
      "needs_background": "light"
     },
     "output_type": "display_data"
    },
    {
     "name": "stdout",
     "output_type": "stream",
     "text": [
      "score_qini 0.2224549650075083\n"
     ]
    }
   ],
   "source": [
    "xgb = xgboost.XGBClassifier(n_estimators=100,\n",
    "                            max_depth=5,\n",
    "                            min_child_weight=5,\n",
    "                            learning_rate=0.1,\n",
    "                            gamma=1,\n",
    "                            reg_alpha=1,\n",
    "                            reg_lambda=1,\n",
    "                            random_state=2022)\n",
    "final_model = LinearRegression()\n",
    "xlearner = XLearner(model=xgb, is_discrete_outcome=True, proba_output=True, final_proba_model=final_model)\n",
    "uplift(xlearner,train_data_bogo, test_data_bogo, 'XLearner')"
   ]
  },
  {
   "cell_type": "code",
   "execution_count": null,
   "metadata": {},
   "outputs": [],
   "source": []
  },
  {
   "cell_type": "code",
   "execution_count": null,
   "metadata": {},
   "outputs": [],
   "source": []
  }
 ],
 "metadata": {
  "interpreter": {
   "hash": "e0ecfad75f99b8578830c76494b15e8b8f0ed30d484e3d7b0b2aac43eb800e14"
  },
  "kernelspec": {
   "display_name": "Python 3 (ipykernel)",
   "language": "python",
   "name": "python3"
  },
  "language_info": {
   "codemirror_mode": {
    "name": "ipython",
    "version": 3
   },
   "file_extension": ".py",
   "mimetype": "text/x-python",
   "name": "python",
   "nbconvert_exporter": "python",
   "pygments_lexer": "ipython3",
   "version": "3.7.11"
  }
 },
 "nbformat": 4,
 "nbformat_minor": 4
}
