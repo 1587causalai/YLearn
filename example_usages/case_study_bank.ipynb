{
 "cells": [
  {
   "cell_type": "markdown",
   "id": "a9646130-182c-4f05-a19a-f20d47ef5518",
   "metadata": {},
   "source": [
    "# YLearn Case Study - Bank transaction amount"
   ]
  },
  {
   "cell_type": "markdown",
   "id": "57d62410-f3f9-440f-a64a-d0f9a5f0d90e",
   "metadata": {},
   "source": [
    "## Content\n",
    "\n",
    "1. Summary\n",
    "1. Dataset\n",
    "1. Learn Why with default settings\n",
    "1. Learn Why with causal discovery\n",
    "1. Learn Why with customized treatment\n",
    "1. Conclusion"
   ]
  },
  {
   "cell_type": "markdown",
   "id": "e03de443-00f7-4ccd-9894-32cbe88cf759",
   "metadata": {},
   "source": [
    "## Summary\n",
    "\n",
    "In any commercial fields, it is crucial to retain customers and make policies to reduce customer churn, which as reported bring large profit and extra values to the company. A credit department of bank provides multiple services to customers. The policy maker would like to know which services attract customers the most and what characteristics they have in order to develop targeted programs to improve customer retention.\n",
    "\n",
    "YLearn provides a complete causal problem-solving routine. It first filters tens of important features among numerous variables and then discover the causal relations between these features. Causal model and estimator model are used to identify and estimate the causal effects of interested features respectively. With the help of effect interpreter library, users could visually understand the eatimation process of causal effects. Besides, users are able to manipulate the data to perform counterfactual predictions via whatif function. To be a wise decision maker, the last step is to apply the policy interpreter which provides the optimized solutions to the target outcome. (if set the goal, or set the constrains)."
   ]
  },
  {
   "cell_type": "markdown",
   "id": "d19f22ad-5092-4eb1-957e-a86ecb9b97c3",
   "metadata": {},
   "source": [
    "## Data\n",
    "\n",
    "The bank churn dataset contain the information of around 10,000 customers with about 20 continuos and categorical variables that represent user's characteristics such as attrition_flag, age, gender, edu_level, income_category, card_category, marital status, months_on_book, credit_limit, etc. \n",
    " \n",
    "The data used in this notebook is synthetically generated, whose feature names are referred to the bank credit customer dataset from Kaggle. However, the feature distributions are self made up and not real. The data generation follows the functions below:"
   ]
  },
  {
   "cell_type": "code",
   "execution_count": 1,
   "id": "c3b54f2c-4a6f-4d4c-a2c9-0b08928017d9",
   "metadata": {
    "tags": []
   },
   "outputs": [],
   "source": [
    "import numpy as np\n",
    "import pandas as pd\n",
    "from matplotlib import pyplot  as plt\n",
    "\n",
    "from sklearn.model_selection import train_test_split\n",
    "from ylearn import Why"
   ]
  },
  {
   "cell_type": "code",
   "execution_count": 2,
   "id": "3a3aff67-3f8e-427f-a00d-cc70e707b8c6",
   "metadata": {},
   "outputs": [],
   "source": [
    "data = pd.read_csv('data/BankChurners.csv.zip')\n",
    "cols = ['Customer_Age', 'Gender', 'Dependent_count', 'Education_Level',\n",
    "       'Marital_Status', 'Income_Category', 'Card_Category', 'Months_on_book',\n",
    "       'Credit_Limit',   'Total_Trans_Amt' \n",
    "     ]\n",
    "data = data[cols]\n",
    "data['Credit_Limit'] = data['Credit_Limit'].map(lambda v: v//2000*2000 ).astype('int')\n",
    "outcome = 'Total_Trans_Amt'"
   ]
  },
  {
   "cell_type": "code",
   "execution_count": 3,
   "id": "8c23ea4e-b128-425d-a488-f99a33cbad49",
   "metadata": {},
   "outputs": [
    {
     "data": {
      "text/html": [
       "<div>\n",
       "<style scoped>\n",
       "    .dataframe tbody tr th:only-of-type {\n",
       "        vertical-align: middle;\n",
       "    }\n",
       "\n",
       "    .dataframe tbody tr th {\n",
       "        vertical-align: top;\n",
       "    }\n",
       "\n",
       "    .dataframe thead th {\n",
       "        text-align: right;\n",
       "    }\n",
       "</style>\n",
       "<table border=\"1\" class=\"dataframe\">\n",
       "  <thead>\n",
       "    <tr style=\"text-align: right;\">\n",
       "      <th></th>\n",
       "      <th>Customer_Age</th>\n",
       "      <th>Gender</th>\n",
       "      <th>Dependent_count</th>\n",
       "      <th>Education_Level</th>\n",
       "      <th>Marital_Status</th>\n",
       "      <th>Income_Category</th>\n",
       "      <th>Card_Category</th>\n",
       "      <th>Months_on_book</th>\n",
       "      <th>Credit_Limit</th>\n",
       "      <th>Total_Trans_Amt</th>\n",
       "    </tr>\n",
       "  </thead>\n",
       "  <tbody>\n",
       "    <tr>\n",
       "      <th>0</th>\n",
       "      <td>45</td>\n",
       "      <td>M</td>\n",
       "      <td>3</td>\n",
       "      <td>High School</td>\n",
       "      <td>Married</td>\n",
       "      <td>$60K - $80K</td>\n",
       "      <td>Blue</td>\n",
       "      <td>39</td>\n",
       "      <td>12000</td>\n",
       "      <td>1144</td>\n",
       "    </tr>\n",
       "    <tr>\n",
       "      <th>1</th>\n",
       "      <td>49</td>\n",
       "      <td>F</td>\n",
       "      <td>5</td>\n",
       "      <td>Graduate</td>\n",
       "      <td>Single</td>\n",
       "      <td>Less than $40K</td>\n",
       "      <td>Blue</td>\n",
       "      <td>44</td>\n",
       "      <td>8000</td>\n",
       "      <td>1291</td>\n",
       "    </tr>\n",
       "    <tr>\n",
       "      <th>2</th>\n",
       "      <td>51</td>\n",
       "      <td>M</td>\n",
       "      <td>3</td>\n",
       "      <td>Graduate</td>\n",
       "      <td>Married</td>\n",
       "      <td>$80K - $120K</td>\n",
       "      <td>Blue</td>\n",
       "      <td>36</td>\n",
       "      <td>2000</td>\n",
       "      <td>1887</td>\n",
       "    </tr>\n",
       "    <tr>\n",
       "      <th>3</th>\n",
       "      <td>40</td>\n",
       "      <td>F</td>\n",
       "      <td>4</td>\n",
       "      <td>High School</td>\n",
       "      <td>Unknown</td>\n",
       "      <td>Less than $40K</td>\n",
       "      <td>Blue</td>\n",
       "      <td>34</td>\n",
       "      <td>2000</td>\n",
       "      <td>1171</td>\n",
       "    </tr>\n",
       "    <tr>\n",
       "      <th>4</th>\n",
       "      <td>40</td>\n",
       "      <td>M</td>\n",
       "      <td>3</td>\n",
       "      <td>Uneducated</td>\n",
       "      <td>Married</td>\n",
       "      <td>$60K - $80K</td>\n",
       "      <td>Blue</td>\n",
       "      <td>21</td>\n",
       "      <td>4000</td>\n",
       "      <td>816</td>\n",
       "    </tr>\n",
       "    <tr>\n",
       "      <th>...</th>\n",
       "      <td>...</td>\n",
       "      <td>...</td>\n",
       "      <td>...</td>\n",
       "      <td>...</td>\n",
       "      <td>...</td>\n",
       "      <td>...</td>\n",
       "      <td>...</td>\n",
       "      <td>...</td>\n",
       "      <td>...</td>\n",
       "      <td>...</td>\n",
       "    </tr>\n",
       "    <tr>\n",
       "      <th>10122</th>\n",
       "      <td>50</td>\n",
       "      <td>M</td>\n",
       "      <td>2</td>\n",
       "      <td>Graduate</td>\n",
       "      <td>Single</td>\n",
       "      <td>$40K - $60K</td>\n",
       "      <td>Blue</td>\n",
       "      <td>40</td>\n",
       "      <td>4000</td>\n",
       "      <td>15476</td>\n",
       "    </tr>\n",
       "    <tr>\n",
       "      <th>10123</th>\n",
       "      <td>41</td>\n",
       "      <td>M</td>\n",
       "      <td>2</td>\n",
       "      <td>Unknown</td>\n",
       "      <td>Divorced</td>\n",
       "      <td>$40K - $60K</td>\n",
       "      <td>Blue</td>\n",
       "      <td>25</td>\n",
       "      <td>4000</td>\n",
       "      <td>8764</td>\n",
       "    </tr>\n",
       "    <tr>\n",
       "      <th>10124</th>\n",
       "      <td>44</td>\n",
       "      <td>F</td>\n",
       "      <td>1</td>\n",
       "      <td>High School</td>\n",
       "      <td>Married</td>\n",
       "      <td>Less than $40K</td>\n",
       "      <td>Blue</td>\n",
       "      <td>36</td>\n",
       "      <td>4000</td>\n",
       "      <td>10291</td>\n",
       "    </tr>\n",
       "    <tr>\n",
       "      <th>10125</th>\n",
       "      <td>30</td>\n",
       "      <td>M</td>\n",
       "      <td>2</td>\n",
       "      <td>Graduate</td>\n",
       "      <td>Unknown</td>\n",
       "      <td>$40K - $60K</td>\n",
       "      <td>Blue</td>\n",
       "      <td>36</td>\n",
       "      <td>4000</td>\n",
       "      <td>8395</td>\n",
       "    </tr>\n",
       "    <tr>\n",
       "      <th>10126</th>\n",
       "      <td>43</td>\n",
       "      <td>F</td>\n",
       "      <td>2</td>\n",
       "      <td>Graduate</td>\n",
       "      <td>Married</td>\n",
       "      <td>Less than $40K</td>\n",
       "      <td>Silver</td>\n",
       "      <td>25</td>\n",
       "      <td>10000</td>\n",
       "      <td>10294</td>\n",
       "    </tr>\n",
       "  </tbody>\n",
       "</table>\n",
       "<p>10127 rows × 10 columns</p>\n",
       "</div>"
      ],
      "text/plain": [
       "       Customer_Age Gender  Dependent_count Education_Level Marital_Status  \\\n",
       "0                45      M                3     High School        Married   \n",
       "1                49      F                5        Graduate         Single   \n",
       "2                51      M                3        Graduate        Married   \n",
       "3                40      F                4     High School        Unknown   \n",
       "4                40      M                3      Uneducated        Married   \n",
       "...             ...    ...              ...             ...            ...   \n",
       "10122            50      M                2        Graduate         Single   \n",
       "10123            41      M                2         Unknown       Divorced   \n",
       "10124            44      F                1     High School        Married   \n",
       "10125            30      M                2        Graduate        Unknown   \n",
       "10126            43      F                2        Graduate        Married   \n",
       "\n",
       "      Income_Category Card_Category  Months_on_book  Credit_Limit  \\\n",
       "0         $60K - $80K          Blue              39         12000   \n",
       "1      Less than $40K          Blue              44          8000   \n",
       "2        $80K - $120K          Blue              36          2000   \n",
       "3      Less than $40K          Blue              34          2000   \n",
       "4         $60K - $80K          Blue              21          4000   \n",
       "...               ...           ...             ...           ...   \n",
       "10122     $40K - $60K          Blue              40          4000   \n",
       "10123     $40K - $60K          Blue              25          4000   \n",
       "10124  Less than $40K          Blue              36          4000   \n",
       "10125     $40K - $60K          Blue              36          4000   \n",
       "10126  Less than $40K        Silver              25         10000   \n",
       "\n",
       "       Total_Trans_Amt  \n",
       "0                 1144  \n",
       "1                 1291  \n",
       "2                 1887  \n",
       "3                 1171  \n",
       "4                  816  \n",
       "...                ...  \n",
       "10122            15476  \n",
       "10123             8764  \n",
       "10124            10291  \n",
       "10125             8395  \n",
       "10126            10294  \n",
       "\n",
       "[10127 rows x 10 columns]"
      ]
     },
     "execution_count": 3,
     "metadata": {},
     "output_type": "execute_result"
    }
   ],
   "source": [
    "data "
   ]
  },
  {
   "cell_type": "code",
   "execution_count": 4,
   "id": "48878006-39b6-4088-b4ec-bdb78fe5fdaf",
   "metadata": {},
   "outputs": [
    {
     "name": "stdout",
     "output_type": "stream",
     "text": [
      "train_data: (8101, 10)\n",
      "test_data:  (2026, 10)\n"
     ]
    }
   ],
   "source": [
    "train_data,test_data=train_test_split(data,test_size=0.2,random_state=123)\n",
    "\n",
    "print('train_data:',train_data.shape)\n",
    "print('test_data: ',test_data.shape)"
   ]
  },
  {
   "cell_type": "markdown",
   "id": "72c99d78-d7ec-4bad-b457-1069daad2b53",
   "metadata": {},
   "source": [
    "# Learn Why with default settings"
   ]
  },
  {
   "cell_type": "markdown",
   "id": "f8f1b8dc-f89d-4782-9b35-b3e428a30a08",
   "metadata": {},
   "source": [
    "## Fitting Why"
   ]
  },
  {
   "cell_type": "code",
   "execution_count": 5,
   "id": "19e1b804-4384-4add-a0af-d11a9d5831ff",
   "metadata": {},
   "outputs": [
    {
     "name": "stdout",
     "output_type": "stream",
     "text": [
      "06-28 19:08:56 I ylearn._why.py 451 - infer outcome as regression\n",
      "06-28 19:08:56 I ylearn._why.py 461 - identify treatment, adjustment, covariate and instrument\n",
      "06-28 19:08:56 I ylearn.s._transformer.py 132 - preprocessing\n",
      "06-28 19:08:56 I ylearn.s._transformer.py 134 - scoring\n",
      "06-28 19:08:57 I ylearn._why.py 575 - identified treatment[classification]: ['Gender', 'Education_Level']\n",
      "06-28 19:08:57 I ylearn._why.py 587 - infer discrete_treatment=True\n",
      "06-28 19:08:57 I ylearn._why.py 602 - identified adjustment: None\n",
      "06-28 19:08:57 I ylearn._why.py 603 - identified covariate: ['Customer_Age', 'Dependent_count', 'Marital_Status', 'Income_Category', 'Card_Category', 'Months_on_book', 'Credit_Limit']\n",
      "06-28 19:08:57 I ylearn._why.py 604 - identified instrument: None\n",
      "06-28 19:08:57 I ylearn._why.py 470 - encode treatment ...\n",
      "06-28 19:08:57 I ylearn._why.py 480 - preprocess data ...\n",
      "06-28 19:08:57 I ylearn._why.py 498 - fit estimator for Gender with PermutedTLearner(model=None, args=None, kwargs=None)\n",
      "06-28 19:09:01 I ylearn._why.py 498 - fit estimator for Education_Level with PermutedTLearner(model=None, args=None, kwargs=None)\n",
      "06-28 19:09:25 I ylearn._why.py 498 - fit estimator for ('Gender', 'Education_Level') with PermutedTLearner(model=None, args=None, kwargs=None)\n",
      "06-28 19:10:24 I ylearn._why.py 498 - fit estimator for ('Education_Level', 'Gender') with PermutedTLearner(model=None, args=None, kwargs=None)\n"
     ]
    },
    {
     "data": {
      "text/plain": [
       "Why(discrete_outcome=False, discrete_treatment=True, random_state=123)"
      ]
     },
     "execution_count": 5,
     "metadata": {},
     "output_type": "execute_result"
    }
   ],
   "source": [
    "why=Why(random_state=123)\n",
    "why.fit(train_data,outcome)"
   ]
  },
  {
   "cell_type": "markdown",
   "id": "9567494f-3b43-4a7f-a6ce-a44abd286f95",
   "metadata": {},
   "source": [
    "## Plot causal graph"
   ]
  },
  {
   "cell_type": "code",
   "execution_count": 6,
   "id": "5c0660f7-5eb4-49cb-aa7b-af456a169dac",
   "metadata": {
    "tags": []
   },
   "outputs": [
    {
     "data": {
      "image/png": "[encoded data removed]",
      "text/plain": [
       "<IPython.core.display.Image object>"
      ]
     },
     "metadata": {},
     "output_type": "display_data"
    }
   ],
   "source": [
    "why.plot_causal_graph()"
   ]
  },
  {
   "cell_type": "code",
   "execution_count": null,
   "id": "f53150a2-bbb0-4a3e-a3eb-8c58cd83c525",
   "metadata": {},
   "outputs": [],
   "source": []
  },
  {
   "cell_type": "markdown",
   "id": "137833a4-e9cd-46ea-ab3d-ae8e0e411840",
   "metadata": {},
   "source": [
    "# Inspect causal effect"
   ]
  },
  {
   "cell_type": "markdown",
   "id": "07968b76-c98b-43d5-b7ca-e0b1e3e01c51",
   "metadata": {},
   "source": [
    "## See causal effect on train_data"
   ]
  },
  {
   "cell_type": "code",
   "execution_count": 7,
   "id": "44d8cef0-cccb-4c59-9cb7-460c77875be4",
   "metadata": {},
   "outputs": [
    {
     "data": {
      "text/html": [
       "<div>\n",
       "<style scoped>\n",
       "    .dataframe tbody tr th:only-of-type {\n",
       "        vertical-align: middle;\n",
       "    }\n",
       "\n",
       "    .dataframe tbody tr th {\n",
       "        vertical-align: top;\n",
       "    }\n",
       "\n",
       "    .dataframe thead th {\n",
       "        text-align: right;\n",
       "    }\n",
       "</style>\n",
       "<table border=\"1\" class=\"dataframe\">\n",
       "  <thead>\n",
       "    <tr style=\"text-align: right;\">\n",
       "      <th></th>\n",
       "      <th></th>\n",
       "      <th>mean</th>\n",
       "      <th>min</th>\n",
       "      <th>max</th>\n",
       "      <th>std</th>\n",
       "    </tr>\n",
       "  </thead>\n",
       "  <tbody>\n",
       "    <tr>\n",
       "      <th>Gender</th>\n",
       "      <th>F vs M</th>\n",
       "      <td>150.640728</td>\n",
       "      <td>-16716.559356</td>\n",
       "      <td>15422.586961</td>\n",
       "      <td>5272.303141</td>\n",
       "    </tr>\n",
       "    <tr>\n",
       "      <th rowspan=\"6\" valign=\"top\">Education_Level</th>\n",
       "      <th>College vs Unknown</th>\n",
       "      <td>3.368850</td>\n",
       "      <td>-15143.415553</td>\n",
       "      <td>15006.578424</td>\n",
       "      <td>4620.741564</td>\n",
       "    </tr>\n",
       "    <tr>\n",
       "      <th>Doctorate vs Unknown</th>\n",
       "      <td>37.953171</td>\n",
       "      <td>-15216.600233</td>\n",
       "      <td>14543.609273</td>\n",
       "      <td>4359.105360</td>\n",
       "    </tr>\n",
       "    <tr>\n",
       "      <th>Graduate vs Unknown</th>\n",
       "      <td>73.801966</td>\n",
       "      <td>-15186.595647</td>\n",
       "      <td>16092.889979</td>\n",
       "      <td>4616.797248</td>\n",
       "    </tr>\n",
       "    <tr>\n",
       "      <th>High School vs Unknown</th>\n",
       "      <td>302.162672</td>\n",
       "      <td>-14808.233635</td>\n",
       "      <td>15986.310065</td>\n",
       "      <td>4843.194914</td>\n",
       "    </tr>\n",
       "    <tr>\n",
       "      <th>Post-Graduate vs Unknown</th>\n",
       "      <td>88.867063</td>\n",
       "      <td>-14562.248703</td>\n",
       "      <td>15816.580345</td>\n",
       "      <td>4718.944413</td>\n",
       "    </tr>\n",
       "    <tr>\n",
       "      <th>Uneducated vs Unknown</th>\n",
       "      <td>117.668287</td>\n",
       "      <td>-14556.268841</td>\n",
       "      <td>15715.583746</td>\n",
       "      <td>4653.251771</td>\n",
       "    </tr>\n",
       "  </tbody>\n",
       "</table>\n",
       "</div>"
      ],
      "text/plain": [
       "                                                mean           min  \\\n",
       "Gender          F vs M                    150.640728 -16716.559356   \n",
       "Education_Level College vs Unknown          3.368850 -15143.415553   \n",
       "                Doctorate vs Unknown       37.953171 -15216.600233   \n",
       "                Graduate vs Unknown        73.801966 -15186.595647   \n",
       "                High School vs Unknown    302.162672 -14808.233635   \n",
       "                Post-Graduate vs Unknown   88.867063 -14562.248703   \n",
       "                Uneducated vs Unknown     117.668287 -14556.268841   \n",
       "\n",
       "                                                   max          std  \n",
       "Gender          F vs M                    15422.586961  5272.303141  \n",
       "Education_Level College vs Unknown        15006.578424  4620.741564  \n",
       "                Doctorate vs Unknown      14543.609273  4359.105360  \n",
       "                Graduate vs Unknown       16092.889979  4616.797248  \n",
       "                High School vs Unknown    15986.310065  4843.194914  \n",
       "                Post-Graduate vs Unknown  15816.580345  4718.944413  \n",
       "                Uneducated vs Unknown     15715.583746  4653.251771  "
      ]
     },
     "execution_count": 7,
     "metadata": {},
     "output_type": "execute_result"
    }
   ],
   "source": [
    "why.causal_effect(control=['M','Unknown'])"
   ]
  },
  {
   "cell_type": "markdown",
   "id": "c52fca6b-ab6f-4fc1-8791-90c1e2635e30",
   "metadata": {},
   "source": [
    "## See causal effect on test_data"
   ]
  },
  {
   "cell_type": "code",
   "execution_count": 8,
   "id": "478ae3c6-09f2-4039-b78b-534cb37f696d",
   "metadata": {},
   "outputs": [
    {
     "data": {
      "text/html": [
       "<div>\n",
       "<style scoped>\n",
       "    .dataframe tbody tr th:only-of-type {\n",
       "        vertical-align: middle;\n",
       "    }\n",
       "\n",
       "    .dataframe tbody tr th {\n",
       "        vertical-align: top;\n",
       "    }\n",
       "\n",
       "    .dataframe thead th {\n",
       "        text-align: right;\n",
       "    }\n",
       "</style>\n",
       "<table border=\"1\" class=\"dataframe\">\n",
       "  <thead>\n",
       "    <tr style=\"text-align: right;\">\n",
       "      <th></th>\n",
       "      <th></th>\n",
       "      <th>mean</th>\n",
       "      <th>min</th>\n",
       "      <th>max</th>\n",
       "      <th>std</th>\n",
       "    </tr>\n",
       "  </thead>\n",
       "  <tbody>\n",
       "    <tr>\n",
       "      <th>Gender</th>\n",
       "      <th>M vs F</th>\n",
       "      <td>-323.385249</td>\n",
       "      <td>-15653.580825</td>\n",
       "      <td>15200.479423</td>\n",
       "      <td>5425.759965</td>\n",
       "    </tr>\n",
       "    <tr>\n",
       "      <th rowspan=\"6\" valign=\"top\">Education_Level</th>\n",
       "      <th>Doctorate vs College</th>\n",
       "      <td>-25.318905</td>\n",
       "      <td>-14972.803664</td>\n",
       "      <td>14256.096322</td>\n",
       "      <td>4447.023453</td>\n",
       "    </tr>\n",
       "    <tr>\n",
       "      <th>Graduate vs College</th>\n",
       "      <td>310.463265</td>\n",
       "      <td>-15041.965445</td>\n",
       "      <td>14947.562309</td>\n",
       "      <td>4763.147206</td>\n",
       "    </tr>\n",
       "    <tr>\n",
       "      <th>High School vs College</th>\n",
       "      <td>489.616982</td>\n",
       "      <td>-15157.848158</td>\n",
       "      <td>16494.593668</td>\n",
       "      <td>4777.988088</td>\n",
       "    </tr>\n",
       "    <tr>\n",
       "      <th>Post-Graduate vs College</th>\n",
       "      <td>266.942417</td>\n",
       "      <td>-15347.589263</td>\n",
       "      <td>14995.604758</td>\n",
       "      <td>4526.055152</td>\n",
       "    </tr>\n",
       "    <tr>\n",
       "      <th>Uneducated vs College</th>\n",
       "      <td>353.880432</td>\n",
       "      <td>-14976.598399</td>\n",
       "      <td>15514.591691</td>\n",
       "      <td>4722.124385</td>\n",
       "    </tr>\n",
       "    <tr>\n",
       "      <th>Unknown vs College</th>\n",
       "      <td>168.158973</td>\n",
       "      <td>-15006.578424</td>\n",
       "      <td>14336.849738</td>\n",
       "      <td>4499.605158</td>\n",
       "    </tr>\n",
       "  </tbody>\n",
       "</table>\n",
       "</div>"
      ],
      "text/plain": [
       "                                                mean           min  \\\n",
       "Gender          M vs F                   -323.385249 -15653.580825   \n",
       "Education_Level Doctorate vs College      -25.318905 -14972.803664   \n",
       "                Graduate vs College       310.463265 -15041.965445   \n",
       "                High School vs College    489.616982 -15157.848158   \n",
       "                Post-Graduate vs College  266.942417 -15347.589263   \n",
       "                Uneducated vs College     353.880432 -14976.598399   \n",
       "                Unknown vs College        168.158973 -15006.578424   \n",
       "\n",
       "                                                   max          std  \n",
       "Gender          M vs F                    15200.479423  5425.759965  \n",
       "Education_Level Doctorate vs College      14256.096322  4447.023453  \n",
       "                Graduate vs College       14947.562309  4763.147206  \n",
       "                High School vs College    16494.593668  4777.988088  \n",
       "                Post-Graduate vs College  14995.604758  4526.055152  \n",
       "                Uneducated vs College     15514.591691  4722.124385  \n",
       "                Unknown vs College        14336.849738  4499.605158  "
      ]
     },
     "execution_count": 8,
     "metadata": {},
     "output_type": "execute_result"
    }
   ],
   "source": [
    "blue_card_data=test_data[lambda df:df['Card_Category']=='Blue']\n",
    "why.causal_effect(blue_card_data)"
   ]
  },
  {
   "cell_type": "markdown",
   "id": "2404f77f-ae53-498b-8586-89fa38b5092a",
   "metadata": {},
   "source": [
    "## See individual causal effect"
   ]
  },
  {
   "cell_type": "code",
   "execution_count": 9,
   "id": "58f497e6-3726-4769-a9e5-12aa22c3c129",
   "metadata": {},
   "outputs": [
    {
     "data": {
      "text/html": [
       "<div>\n",
       "<style scoped>\n",
       "    .dataframe tbody tr th:only-of-type {\n",
       "        vertical-align: middle;\n",
       "    }\n",
       "\n",
       "    .dataframe tbody tr th {\n",
       "        vertical-align: top;\n",
       "    }\n",
       "\n",
       "    .dataframe thead th {\n",
       "        text-align: right;\n",
       "    }\n",
       "</style>\n",
       "<table border=\"1\" class=\"dataframe\">\n",
       "  <thead>\n",
       "    <tr style=\"text-align: right;\">\n",
       "      <th></th>\n",
       "      <th>Customer_Age</th>\n",
       "      <th>Gender</th>\n",
       "      <th>Dependent_count</th>\n",
       "      <th>Education_Level</th>\n",
       "      <th>Marital_Status</th>\n",
       "      <th>Income_Category</th>\n",
       "      <th>Card_Category</th>\n",
       "      <th>Months_on_book</th>\n",
       "      <th>Credit_Limit</th>\n",
       "      <th>Total_Trans_Amt</th>\n",
       "    </tr>\n",
       "  </thead>\n",
       "  <tbody>\n",
       "    <tr>\n",
       "      <th>4697</th>\n",
       "      <td>38</td>\n",
       "      <td>F</td>\n",
       "      <td>2</td>\n",
       "      <td>Uneducated</td>\n",
       "      <td>Single</td>\n",
       "      <td>$40K - $60K</td>\n",
       "      <td>Blue</td>\n",
       "      <td>31</td>\n",
       "      <td>12000</td>\n",
       "      <td>3831</td>\n",
       "    </tr>\n",
       "    <tr>\n",
       "      <th>1377</th>\n",
       "      <td>38</td>\n",
       "      <td>M</td>\n",
       "      <td>2</td>\n",
       "      <td>Graduate</td>\n",
       "      <td>Single</td>\n",
       "      <td>$40K - $60K</td>\n",
       "      <td>Blue</td>\n",
       "      <td>24</td>\n",
       "      <td>14000</td>\n",
       "      <td>1399</td>\n",
       "    </tr>\n",
       "    <tr>\n",
       "      <th>3679</th>\n",
       "      <td>47</td>\n",
       "      <td>M</td>\n",
       "      <td>3</td>\n",
       "      <td>Uneducated</td>\n",
       "      <td>Single</td>\n",
       "      <td>$80K - $120K</td>\n",
       "      <td>Blue</td>\n",
       "      <td>36</td>\n",
       "      <td>26000</td>\n",
       "      <td>3489</td>\n",
       "    </tr>\n",
       "    <tr>\n",
       "      <th>5462</th>\n",
       "      <td>26</td>\n",
       "      <td>F</td>\n",
       "      <td>0</td>\n",
       "      <td>Unknown</td>\n",
       "      <td>Single</td>\n",
       "      <td>Unknown</td>\n",
       "      <td>Blue</td>\n",
       "      <td>36</td>\n",
       "      <td>6000</td>\n",
       "      <td>4080</td>\n",
       "    </tr>\n",
       "    <tr>\n",
       "      <th>884</th>\n",
       "      <td>61</td>\n",
       "      <td>M</td>\n",
       "      <td>1</td>\n",
       "      <td>Graduate</td>\n",
       "      <td>Unknown</td>\n",
       "      <td>$80K - $120K</td>\n",
       "      <td>Blue</td>\n",
       "      <td>52</td>\n",
       "      <td>8000</td>\n",
       "      <td>1257</td>\n",
       "    </tr>\n",
       "  </tbody>\n",
       "</table>\n",
       "</div>"
      ],
      "text/plain": [
       "      Customer_Age Gender  Dependent_count Education_Level Marital_Status  \\\n",
       "4697            38      F                2      Uneducated         Single   \n",
       "1377            38      M                2        Graduate         Single   \n",
       "3679            47      M                3      Uneducated         Single   \n",
       "5462            26      F                0         Unknown         Single   \n",
       "884             61      M                1        Graduate        Unknown   \n",
       "\n",
       "     Income_Category Card_Category  Months_on_book  Credit_Limit  \\\n",
       "4697     $40K - $60K          Blue              31         12000   \n",
       "1377     $40K - $60K          Blue              24         14000   \n",
       "3679    $80K - $120K          Blue              36         26000   \n",
       "5462         Unknown          Blue              36          6000   \n",
       "884     $80K - $120K          Blue              52          8000   \n",
       "\n",
       "      Total_Trans_Amt  \n",
       "4697             3831  \n",
       "1377             1399  \n",
       "3679             3489  \n",
       "5462             4080  \n",
       "884              1257  "
      ]
     },
     "execution_count": 9,
     "metadata": {},
     "output_type": "execute_result"
    }
   ],
   "source": [
    "blue_card_data.head(5)"
   ]
  },
  {
   "cell_type": "code",
   "execution_count": 10,
   "id": "0233e3d2-cca1-4ee4-bc2c-df7f64680881",
   "metadata": {},
   "outputs": [
    {
     "data": {
      "text/html": [
       "<div>\n",
       "<style scoped>\n",
       "    .dataframe tbody tr th:only-of-type {\n",
       "        vertical-align: middle;\n",
       "    }\n",
       "\n",
       "    .dataframe tbody tr th {\n",
       "        vertical-align: top;\n",
       "    }\n",
       "\n",
       "    .dataframe thead th {\n",
       "        text-align: right;\n",
       "    }\n",
       "</style>\n",
       "<table border=\"1\" class=\"dataframe\">\n",
       "  <thead>\n",
       "    <tr style=\"text-align: right;\">\n",
       "      <th></th>\n",
       "      <th></th>\n",
       "      <th></th>\n",
       "      <th>effect</th>\n",
       "    </tr>\n",
       "  </thead>\n",
       "  <tbody>\n",
       "    <tr>\n",
       "      <th rowspan=\"2\" valign=\"top\">4697</th>\n",
       "      <th>Gender</th>\n",
       "      <th>F vs F</th>\n",
       "      <td>0.000000</td>\n",
       "    </tr>\n",
       "    <tr>\n",
       "      <th>Education_Level</th>\n",
       "      <th>Uneducated vs College</th>\n",
       "      <td>-2189.544970</td>\n",
       "    </tr>\n",
       "    <tr>\n",
       "      <th rowspan=\"2\" valign=\"top\">1377</th>\n",
       "      <th>Gender</th>\n",
       "      <th>M vs F</th>\n",
       "      <td>-356.001987</td>\n",
       "    </tr>\n",
       "    <tr>\n",
       "      <th>Education_Level</th>\n",
       "      <th>Graduate vs College</th>\n",
       "      <td>1594.251726</td>\n",
       "    </tr>\n",
       "    <tr>\n",
       "      <th rowspan=\"2\" valign=\"top\">3679</th>\n",
       "      <th>Gender</th>\n",
       "      <th>M vs F</th>\n",
       "      <td>-653.048791</td>\n",
       "    </tr>\n",
       "    <tr>\n",
       "      <th>Education_Level</th>\n",
       "      <th>Uneducated vs College</th>\n",
       "      <td>-1637.868783</td>\n",
       "    </tr>\n",
       "    <tr>\n",
       "      <th rowspan=\"2\" valign=\"top\">5462</th>\n",
       "      <th>Gender</th>\n",
       "      <th>F vs F</th>\n",
       "      <td>0.000000</td>\n",
       "    </tr>\n",
       "    <tr>\n",
       "      <th>Education_Level</th>\n",
       "      <th>Unknown vs College</th>\n",
       "      <td>4590.872654</td>\n",
       "    </tr>\n",
       "    <tr>\n",
       "      <th rowspan=\"2\" valign=\"top\">884</th>\n",
       "      <th>Gender</th>\n",
       "      <th>M vs F</th>\n",
       "      <td>347.977654</td>\n",
       "    </tr>\n",
       "    <tr>\n",
       "      <th>Education_Level</th>\n",
       "      <th>Graduate vs College</th>\n",
       "      <td>2375.881756</td>\n",
       "    </tr>\n",
       "  </tbody>\n",
       "</table>\n",
       "</div>"
      ],
      "text/plain": [
       "                                                 effect\n",
       "4697 Gender          F vs F                    0.000000\n",
       "     Education_Level Uneducated vs College -2189.544970\n",
       "1377 Gender          M vs F                 -356.001987\n",
       "     Education_Level Graduate vs College    1594.251726\n",
       "3679 Gender          M vs F                 -653.048791\n",
       "     Education_Level Uneducated vs College -1637.868783\n",
       "5462 Gender          F vs F                    0.000000\n",
       "     Education_Level Unknown vs College     4590.872654\n",
       "884  Gender          M vs F                  347.977654\n",
       "     Education_Level Graduate vs College    2375.881756"
      ]
     },
     "execution_count": 10,
     "metadata": {},
     "output_type": "execute_result"
    }
   ],
   "source": [
    "why.individual_causal_effect(blue_card_data.head(5))"
   ]
  },
  {
   "cell_type": "code",
   "execution_count": 11,
   "id": "1d906c0e-e866-4289-8ef4-8e0170639d03",
   "metadata": {},
   "outputs": [
    {
     "data": {
      "text/html": [
       "<div>\n",
       "<style scoped>\n",
       "    .dataframe tbody tr th:only-of-type {\n",
       "        vertical-align: middle;\n",
       "    }\n",
       "\n",
       "    .dataframe tbody tr th {\n",
       "        vertical-align: top;\n",
       "    }\n",
       "\n",
       "    .dataframe thead th {\n",
       "        text-align: right;\n",
       "    }\n",
       "</style>\n",
       "<table border=\"1\" class=\"dataframe\">\n",
       "  <thead>\n",
       "    <tr style=\"text-align: right;\">\n",
       "      <th></th>\n",
       "      <th></th>\n",
       "      <th></th>\n",
       "      <th>effect</th>\n",
       "    </tr>\n",
       "  </thead>\n",
       "  <tbody>\n",
       "    <tr>\n",
       "      <th rowspan=\"2\" valign=\"top\">4697</th>\n",
       "      <th>Gender</th>\n",
       "      <th>F vs M</th>\n",
       "      <td>12259.227514</td>\n",
       "    </tr>\n",
       "    <tr>\n",
       "      <th>Education_Level</th>\n",
       "      <th>Uneducated vs Unknown</th>\n",
       "      <td>-7138.337151</td>\n",
       "    </tr>\n",
       "    <tr>\n",
       "      <th rowspan=\"2\" valign=\"top\">1377</th>\n",
       "      <th>Gender</th>\n",
       "      <th>M vs M</th>\n",
       "      <td>0.000000</td>\n",
       "    </tr>\n",
       "    <tr>\n",
       "      <th>Education_Level</th>\n",
       "      <th>Graduate vs Unknown</th>\n",
       "      <td>-5434.473122</td>\n",
       "    </tr>\n",
       "    <tr>\n",
       "      <th rowspan=\"2\" valign=\"top\">3679</th>\n",
       "      <th>Gender</th>\n",
       "      <th>M vs M</th>\n",
       "      <td>0.000000</td>\n",
       "    </tr>\n",
       "    <tr>\n",
       "      <th>Education_Level</th>\n",
       "      <th>Uneducated vs Unknown</th>\n",
       "      <td>512.584263</td>\n",
       "    </tr>\n",
       "    <tr>\n",
       "      <th rowspan=\"2\" valign=\"top\">5462</th>\n",
       "      <th>Gender</th>\n",
       "      <th>F vs M</th>\n",
       "      <td>-134.696031</td>\n",
       "    </tr>\n",
       "    <tr>\n",
       "      <th>Education_Level</th>\n",
       "      <th>Unknown vs Unknown</th>\n",
       "      <td>0.000000</td>\n",
       "    </tr>\n",
       "    <tr>\n",
       "      <th rowspan=\"2\" valign=\"top\">884</th>\n",
       "      <th>Gender</th>\n",
       "      <th>M vs M</th>\n",
       "      <td>0.000000</td>\n",
       "    </tr>\n",
       "    <tr>\n",
       "      <th>Education_Level</th>\n",
       "      <th>Graduate vs Unknown</th>\n",
       "      <td>-20.959119</td>\n",
       "    </tr>\n",
       "  </tbody>\n",
       "</table>\n",
       "</div>"
      ],
      "text/plain": [
       "                                                  effect\n",
       "4697 Gender          F vs M                 12259.227514\n",
       "     Education_Level Uneducated vs Unknown  -7138.337151\n",
       "1377 Gender          M vs M                     0.000000\n",
       "     Education_Level Graduate vs Unknown    -5434.473122\n",
       "3679 Gender          M vs M                     0.000000\n",
       "     Education_Level Uneducated vs Unknown    512.584263\n",
       "5462 Gender          F vs M                  -134.696031\n",
       "     Education_Level Unknown vs Unknown         0.000000\n",
       "884  Gender          M vs M                     0.000000\n",
       "     Education_Level Graduate vs Unknown      -20.959119"
      ]
     },
     "execution_count": 11,
     "metadata": {},
     "output_type": "execute_result"
    }
   ],
   "source": [
    "why.individual_causal_effect(blue_card_data.head(5),control=['M','Unknown'])"
   ]
  },
  {
   "cell_type": "markdown",
   "id": "25dcdae3-8fe6-48de-82ff-889897d76238",
   "metadata": {},
   "source": [
    "## Causal interprete"
   ]
  },
  {
   "cell_type": "code",
   "execution_count": 12,
   "id": "488792a6-2602-400e-b4b4-83272390b754",
   "metadata": {},
   "outputs": [
    {
     "name": "stdout",
     "output_type": "stream",
     "text": [
      "06-28 19:11:14 I ylearn.p.policy_model.py 452 - Start building the policy tree with criterion PRegCriteria\n",
      "06-28 19:11:14 I ylearn.p.policy_model.py 468 - Building the policy tree with splitter BestSplitter\n",
      "06-28 19:11:14 I ylearn.p.policy_model.py 511 - Building the policy tree with builder DepthFirstTreeBuilder\n"
     ]
    },
    {
     "data": {
      "text/plain": [
       "[Text(0.5, 0.8333333333333334, 'Months_on_book <= 14.0\\nsamples = 2026\\nvalue = [[0.0]\\n[242.168]\\n[14.009]\\n[243.99]\\n[-351.181]\\n[592.634]\\n[460.921]\\n[-123.566]\\n[-611.348]\\n[409.855]\\n[309.764]\\n[-702.705]\\n[-284.979]\\n[-233.064]]'),\n",
       " Text(0.25, 0.5, 'Credit_Limit <= 25000.0\\nsamples = 19\\nvalue = [[0.0]\\n[3109.578]\\n[1646.134]\\n[2642.696]\\n[74.248]\\n[1107.609]\\n[3269.538]\\n[1594.405]\\n[626.547]\\n[11631.314]\\n[334.16]\\n[965.261]\\n[4731.72]\\n[1130.682]]'),\n",
       " Text(0.125, 0.16666666666666666, 'samples = 18\\nvalue = [[0.0]\\n[3159.347]\\n[1712.41]\\n[2065.698]\\n[78.484]\\n[1153.127]\\n[3412.492]\\n[995.335]\\n[712.319]\\n[11642.002]\\n[334.888]\\n[267.573]\\n[4439.248]\\n[965.272]]'),\n",
       " Text(0.375, 0.16666666666666666, 'samples = 1\\nvalue = [[0.0]\\n[2213.725]\\n[453.166]\\n[13028.661]\\n[-2.003]\\n[288.289]\\n[696.37]\\n[12377.678]\\n[-917.352]\\n[11438.925]\\n[321.051]\\n[13523.657]\\n[9996.212]\\n[4108.065]]'),\n",
       " Text(0.75, 0.5, 'Months_on_book <= 15.5\\nsamples = 2007\\nvalue = [[0.0]\\n[215.023]\\n[-1.442]\\n[221.282]\\n[-355.209]\\n[587.759]\\n[434.332]\\n[-139.829]\\n[-623.067]\\n[303.623]\\n[309.533]\\n[-718.496]\\n[-332.471]\\n[-245.974]]'),\n",
       " Text(0.625, 0.16666666666666666, 'samples = 4\\nvalue = [[0.0]\\n[4226.519]\\n[1579.467]\\n[779.922]\\n[2768.86]\\n[-443.395]\\n[4355.576]\\n[-730.759]\\n[-990.063]\\n[2315.015]\\n[1510.149]\\n[5364.411]\\n[7913.257]\\n[95.811]]'),\n",
       " Text(0.875, 0.16666666666666666, 'samples = 2003\\nvalue = [[0.0]\\n[207.012]\\n[-4.599]\\n[220.166]\\n[-361.448]\\n[589.818]\\n[426.501]\\n[-138.649]\\n[-622.334]\\n[299.606]\\n[307.135]\\n[-730.643]\\n[-348.938]\\n[-246.657]]')]"
      ]
     },
     "execution_count": 12,
     "metadata": {},
     "output_type": "execute_result"
    },
    {
     "data": {
      "image/png": "[encoded data removed]",
      "text/plain": [
       "<Figure size 1080x720 with 1 Axes>"
      ]
     },
     "metadata": {
      "needs_background": "light"
     },
     "output_type": "display_data"
    }
   ],
   "source": [
    "pi=why.policy_interpreter(test_data,  max_depth=2)\n",
    "\n",
    "plt.figure(figsize=(15, 10), )\n",
    "pi.plot()"
   ]
  },
  {
   "cell_type": "code",
   "execution_count": 13,
   "id": "642020e2-3df3-4c6a-aca0-fafffb0866de",
   "metadata": {},
   "outputs": [
    {
     "name": "stdout",
     "output_type": "stream",
     "text": [
      "decision node 0: (covariate [0, 5] = 31.0) > 14.0 \n",
      "decision node 4: (covariate [0, 5] = 31.0) > 15.5 \n",
      "The recommended policy is treatment 5 with value 589.8184567845782\n"
     ]
    }
   ],
   "source": [
    "print(pi.interpret()['sample_0'])"
   ]
  },
  {
   "cell_type": "markdown",
   "id": "cde63685-f317-4168-be59-62d143318fad",
   "metadata": {},
   "source": [
    "# Scoring estimators"
   ]
  },
  {
   "cell_type": "code",
   "execution_count": 14,
   "id": "bd9ee66c-10b8-4f95-a71a-24915295d7eb",
   "metadata": {},
   "outputs": [
    {
     "name": "stdout",
     "output_type": "stream",
     "text": [
      "06-28 19:11:14 I ylearn._why.py 961 - fit scorer for Gender with RLoss\n",
      "06-28 19:11:14 I ylearn.e.double_ml.py 686 - _fit_1st_stage: fitting x_model RandomForestClassifier\n",
      "06-28 19:11:14 I ylearn.e.double_ml.py 691 - _fit_1st_stage: fitting y_model RandomForestRegressor\n",
      "06-28 19:11:15 I ylearn.e.effect_score.py 373 - Calculating the score: PermutedTLearner(model=None, args=None, kwargs=None) finished estimating.\n",
      "06-28 19:11:15 I ylearn.e.effect_score.py 377 - using combined treat technique for discrete treatment.\n",
      "06-28 19:11:15 I ylearn._why.py 961 - fit scorer for Education_Level with RLoss\n",
      "06-28 19:11:15 I ylearn.e.double_ml.py 686 - _fit_1st_stage: fitting x_model RandomForestClassifier\n",
      "06-28 19:11:15 I ylearn.e.double_ml.py 691 - _fit_1st_stage: fitting y_model RandomForestRegressor\n",
      "06-28 19:11:16 I ylearn.e.effect_score.py 373 - Calculating the score: PermutedTLearner(model=None, args=None, kwargs=None) finished estimating.\n",
      "06-28 19:11:16 I ylearn.e.effect_score.py 377 - using combined treat technique for discrete treatment.\n"
     ]
    },
    {
     "data": {
      "text/plain": [
       "13487885.155435078"
      ]
     },
     "execution_count": 14,
     "metadata": {},
     "output_type": "execute_result"
    }
   ],
   "source": [
    "why.score(test_data)"
   ]
  },
  {
   "cell_type": "code",
   "execution_count": null,
   "id": "8b18d5f7-32aa-4373-aeb3-c371ae349018",
   "metadata": {},
   "outputs": [],
   "source": []
  },
  {
   "cell_type": "markdown",
   "id": "92f89ff8-95db-4879-966d-3c187b8af65e",
   "metadata": {},
   "source": [
    "# Learn Why with causal discovery"
   ]
  },
  {
   "cell_type": "markdown",
   "id": "2bd7317d-015f-4841-bf1f-e07e9fd3eb9b",
   "metadata": {},
   "source": [
    "## Fit Why"
   ]
  },
  {
   "cell_type": "code",
   "execution_count": 15,
   "id": "4b1b2fae-be47-42cc-9c0a-dfdd4532874d",
   "metadata": {},
   "outputs": [
    {
     "name": "stdout",
     "output_type": "stream",
     "text": [
      "06-28 19:11:16 I ylearn._why.py 451 - infer outcome as regression\n",
      "06-28 19:11:16 I ylearn._why.py 461 - identify treatment, adjustment, covariate and instrument\n",
      "06-28 19:11:16 I ylearn._why.py 242 - discovery causation\n",
      "06-28 19:11:28 I ylearn._why.py 575 - identified treatment[classification]: ['Dependent_count', 'Gender']\n",
      "06-28 19:11:28 I ylearn._why.py 587 - infer discrete_treatment=True\n",
      "06-28 19:11:28 I ylearn._why.py 310 - Not found covariate by discovery, so setup it by default\n",
      "06-28 19:11:28 I ylearn._why.py 602 - identified adjustment: None\n",
      "06-28 19:11:28 I ylearn._why.py 603 - identified covariate: ['Education_Level', 'Card_Category']\n",
      "06-28 19:11:28 I ylearn._why.py 604 - identified instrument: ['Months_on_book', 'Marital_Status', 'Customer_Age', 'Credit_Limit', 'Income_Category']\n",
      "06-28 19:11:28 I ylearn._why.py 470 - encode treatment ...\n",
      "06-28 19:11:28 I ylearn._why.py 480 - preprocess data ...\n",
      "06-28 19:11:28 I ylearn._why.py 498 - fit estimator for Dependent_count with NP2SLS(x_model=RandomForestClassifier(min_impurity_decrease=0.01, min_samples_leaf=20,\n",
      "                       random_state=123), y_model=LinearRegression(), random_state=123, is_discrete_treatment=True)\n",
      "06-28 19:11:29 I ylearn._why.py 498 - fit estimator for Gender with NP2SLS(x_model=RandomForestClassifier(min_impurity_decrease=0.01, min_samples_leaf=20,\n",
      "                       random_state=123), y_model=LinearRegression(), random_state=123, is_discrete_treatment=True)\n",
      "06-28 19:11:31 I ylearn._why.py 498 - fit estimator for ('Dependent_count', 'Gender') with NP2SLS(x_model=RandomForestClassifier(min_impurity_decrease=0.01, min_samples_leaf=20,\n",
      "                       random_state=123), y_model=LinearRegression(), random_state=123, is_discrete_treatment=True)\n",
      "06-28 19:11:33 I ylearn._why.py 498 - fit estimator for ('Gender', 'Dependent_count') with NP2SLS(x_model=RandomForestClassifier(min_impurity_decrease=0.01, min_samples_leaf=20,\n",
      "                       random_state=123), y_model=LinearRegression(), random_state=123, is_discrete_treatment=True)\n"
     ]
    },
    {
     "data": {
      "text/plain": [
       "Why(discrete_outcome=False, discrete_treatment=True, identifier='discovery', random_state=123)"
      ]
     },
     "execution_count": 15,
     "metadata": {},
     "output_type": "execute_result"
    }
   ],
   "source": [
    "why=Why(identifier='discovery',random_state=123)\n",
    "why.fit(train_data,outcome )"
   ]
  },
  {
   "cell_type": "markdown",
   "id": "0dc36ac6-5495-4553-bca5-0b067a2ffa32",
   "metadata": {},
   "source": [
    "# Inspect causal effect"
   ]
  },
  {
   "cell_type": "code",
   "execution_count": 17,
   "id": "c07b21d2-2b53-46e2-ba01-f18e5d07de66",
   "metadata": {},
   "outputs": [],
   "source": [
    "# why.causal_effect()"
   ]
  },
  {
   "cell_type": "code",
   "execution_count": null,
   "id": "a00ce311-b01d-4ca2-9e2c-a16f4f35a166",
   "metadata": {},
   "outputs": [],
   "source": []
  },
  {
   "cell_type": "markdown",
   "id": "5164a734-6cf0-4797-b416-e701008e33a5",
   "metadata": {
    "tags": []
   },
   "source": [
    "# Learn Why with cusomized treatments"
   ]
  },
  {
   "cell_type": "markdown",
   "id": "4d74f787-1bbc-4f74-902f-a4dbb7afc96c",
   "metadata": {},
   "source": [
    "## Fit Why"
   ]
  },
  {
   "cell_type": "code",
   "execution_count": 18,
   "id": "f60e8150-b544-4c2c-b645-cba077f24461",
   "metadata": {},
   "outputs": [
    {
     "name": "stdout",
     "output_type": "stream",
     "text": [
      "06-28 19:15:56 I ylearn._why.py 451 - infer outcome as regression\n",
      "06-28 19:15:56 I ylearn._why.py 461 - identify treatment, adjustment, covariate and instrument\n",
      "06-28 19:15:56 I ylearn._why.py 587 - infer discrete_treatment=True\n",
      "06-28 19:15:56 I ylearn._why.py 602 - identified adjustment: None\n",
      "06-28 19:15:56 I ylearn._why.py 603 - identified covariate: ['Customer_Age', 'Dependent_count', 'Education_Level', 'Marital_Status', 'Income_Category', 'Months_on_book', 'Credit_Limit']\n",
      "06-28 19:15:56 I ylearn._why.py 604 - identified instrument: None\n",
      "06-28 19:15:56 I ylearn._why.py 470 - encode treatment ...\n",
      "06-28 19:15:56 I ylearn._why.py 480 - preprocess data ...\n",
      "06-28 19:15:56 I ylearn._why.py 498 - fit estimator for Card_Category with PermutedTLearner(model=None, args=None, kwargs=None)\n",
      "06-28 19:16:09 I ylearn._why.py 498 - fit estimator for Gender with PermutedTLearner(model=None, args=None, kwargs=None)\n",
      "06-28 19:16:11 I ylearn._why.py 498 - fit estimator for ('Card_Category', 'Gender') with PermutedTLearner(model=None, args=None, kwargs=None)\n",
      "06-28 19:16:35 I ylearn._why.py 498 - fit estimator for ('Gender', 'Card_Category') with PermutedTLearner(model=None, args=None, kwargs=None)\n"
     ]
    },
    {
     "data": {
      "text/plain": [
       "Why(discrete_outcome=False, discrete_treatment=True, random_state=123)"
      ]
     },
     "execution_count": 18,
     "metadata": {},
     "output_type": "execute_result"
    }
   ],
   "source": [
    "why=Why(random_state=123)\n",
    "# why.fit(train_data,outcome,treatment=['Card_Category' ,'Credit_Limit', ] )\n",
    "why.fit(train_data,outcome,treatment=['Card_Category' ,'Gender', ] )"
   ]
  },
  {
   "cell_type": "markdown",
   "id": "f600318b-275e-4954-9eb9-63710a8171f1",
   "metadata": {},
   "source": [
    "# Inspect causal effect"
   ]
  },
  {
   "cell_type": "code",
   "execution_count": 19,
   "id": "42715b17-7f7f-4ea9-9fd4-0ef1b9a3d782",
   "metadata": {},
   "outputs": [
    {
     "data": {
      "text/html": [
       "<div>\n",
       "<style scoped>\n",
       "    .dataframe tbody tr th:only-of-type {\n",
       "        vertical-align: middle;\n",
       "    }\n",
       "\n",
       "    .dataframe tbody tr th {\n",
       "        vertical-align: top;\n",
       "    }\n",
       "\n",
       "    .dataframe thead th {\n",
       "        text-align: right;\n",
       "    }\n",
       "</style>\n",
       "<table border=\"1\" class=\"dataframe\">\n",
       "  <thead>\n",
       "    <tr style=\"text-align: right;\">\n",
       "      <th></th>\n",
       "      <th></th>\n",
       "      <th>mean</th>\n",
       "      <th>min</th>\n",
       "      <th>max</th>\n",
       "      <th>std</th>\n",
       "    </tr>\n",
       "  </thead>\n",
       "  <tbody>\n",
       "    <tr>\n",
       "      <th rowspan=\"3\" valign=\"top\">Card_Category</th>\n",
       "      <th>Gold vs Blue</th>\n",
       "      <td>3127.277074</td>\n",
       "      <td>-15708.828174</td>\n",
       "      <td>15245.511548</td>\n",
       "      <td>5564.262420</td>\n",
       "    </tr>\n",
       "    <tr>\n",
       "      <th>Platinum vs Blue</th>\n",
       "      <td>4100.328360</td>\n",
       "      <td>-14921.423415</td>\n",
       "      <td>14786.536698</td>\n",
       "      <td>5403.765198</td>\n",
       "    </tr>\n",
       "    <tr>\n",
       "      <th>Silver vs Blue</th>\n",
       "      <td>5725.189927</td>\n",
       "      <td>-15948.329411</td>\n",
       "      <td>15657.646184</td>\n",
       "      <td>5875.117198</td>\n",
       "    </tr>\n",
       "    <tr>\n",
       "      <th>Gender</th>\n",
       "      <th>M vs F</th>\n",
       "      <td>-209.205664</td>\n",
       "      <td>-15938.573255</td>\n",
       "      <td>15657.587484</td>\n",
       "      <td>4953.646553</td>\n",
       "    </tr>\n",
       "  </tbody>\n",
       "</table>\n",
       "</div>"
      ],
      "text/plain": [
       "                                       mean           min           max  \\\n",
       "Card_Category Gold vs Blue      3127.277074 -15708.828174  15245.511548   \n",
       "              Platinum vs Blue  4100.328360 -14921.423415  14786.536698   \n",
       "              Silver vs Blue    5725.189927 -15948.329411  15657.646184   \n",
       "Gender        M vs F            -209.205664 -15938.573255  15657.587484   \n",
       "\n",
       "                                        std  \n",
       "Card_Category Gold vs Blue      5564.262420  \n",
       "              Platinum vs Blue  5403.765198  \n",
       "              Silver vs Blue    5875.117198  \n",
       "Gender        M vs F            4953.646553  "
      ]
     },
     "execution_count": 19,
     "metadata": {},
     "output_type": "execute_result"
    }
   ],
   "source": [
    "why.causal_effect()"
   ]
  },
  {
   "cell_type": "code",
   "execution_count": 20,
   "id": "9a4be269-9b1f-4849-9fa0-edbe64eb0b1f",
   "metadata": {},
   "outputs": [
    {
     "data": {
      "text/html": [
       "<div>\n",
       "<style scoped>\n",
       "    .dataframe tbody tr th:only-of-type {\n",
       "        vertical-align: middle;\n",
       "    }\n",
       "\n",
       "    .dataframe tbody tr th {\n",
       "        vertical-align: top;\n",
       "    }\n",
       "\n",
       "    .dataframe thead th {\n",
       "        text-align: right;\n",
       "    }\n",
       "</style>\n",
       "<table border=\"1\" class=\"dataframe\">\n",
       "  <thead>\n",
       "    <tr style=\"text-align: right;\">\n",
       "      <th></th>\n",
       "      <th></th>\n",
       "      <th>mean</th>\n",
       "      <th>min</th>\n",
       "      <th>max</th>\n",
       "      <th>std</th>\n",
       "    </tr>\n",
       "  </thead>\n",
       "  <tbody>\n",
       "    <tr>\n",
       "      <th rowspan=\"3\" valign=\"top\">Card_Category</th>\n",
       "      <th>Gold vs Blue</th>\n",
       "      <td>2830.118618</td>\n",
       "      <td>-13894.040599</td>\n",
       "      <td>14912.369736</td>\n",
       "      <td>5690.019665</td>\n",
       "    </tr>\n",
       "    <tr>\n",
       "      <th>Platinum vs Blue</th>\n",
       "      <td>3557.861537</td>\n",
       "      <td>-14844.105664</td>\n",
       "      <td>15535.335545</td>\n",
       "      <td>5507.693497</td>\n",
       "    </tr>\n",
       "    <tr>\n",
       "      <th>Silver vs Blue</th>\n",
       "      <td>5537.755364</td>\n",
       "      <td>-15167.314943</td>\n",
       "      <td>15163.554131</td>\n",
       "      <td>5890.855574</td>\n",
       "    </tr>\n",
       "    <tr>\n",
       "      <th>Gender</th>\n",
       "      <th>M vs F</th>\n",
       "      <td>-149.661409</td>\n",
       "      <td>-15549.583588</td>\n",
       "      <td>15189.053656</td>\n",
       "      <td>5029.221097</td>\n",
       "    </tr>\n",
       "  </tbody>\n",
       "</table>\n",
       "</div>"
      ],
      "text/plain": [
       "                                       mean           min           max  \\\n",
       "Card_Category Gold vs Blue      2830.118618 -13894.040599  14912.369736   \n",
       "              Platinum vs Blue  3557.861537 -14844.105664  15535.335545   \n",
       "              Silver vs Blue    5537.755364 -15167.314943  15163.554131   \n",
       "Gender        M vs F            -149.661409 -15549.583588  15189.053656   \n",
       "\n",
       "                                        std  \n",
       "Card_Category Gold vs Blue      5690.019665  \n",
       "              Platinum vs Blue  5507.693497  \n",
       "              Silver vs Blue    5890.855574  \n",
       "Gender        M vs F            5029.221097  "
      ]
     },
     "execution_count": 20,
     "metadata": {},
     "output_type": "execute_result"
    }
   ],
   "source": [
    "why.causal_effect(test_data)"
   ]
  },
  {
   "cell_type": "code",
   "execution_count": 21,
   "id": "db7654cf-7859-4653-b6ae-718892f612a9",
   "metadata": {},
   "outputs": [
    {
     "data": {
      "text/html": [
       "<div>\n",
       "<style scoped>\n",
       "    .dataframe tbody tr th:only-of-type {\n",
       "        vertical-align: middle;\n",
       "    }\n",
       "\n",
       "    .dataframe tbody tr th {\n",
       "        vertical-align: top;\n",
       "    }\n",
       "\n",
       "    .dataframe thead th {\n",
       "        text-align: right;\n",
       "    }\n",
       "</style>\n",
       "<table border=\"1\" class=\"dataframe\">\n",
       "  <thead>\n",
       "    <tr style=\"text-align: right;\">\n",
       "      <th></th>\n",
       "      <th></th>\n",
       "      <th></th>\n",
       "      <th>effect</th>\n",
       "    </tr>\n",
       "  </thead>\n",
       "  <tbody>\n",
       "    <tr>\n",
       "      <th rowspan=\"2\" valign=\"top\">4697</th>\n",
       "      <th>Card_Category</th>\n",
       "      <th>Blue vs Blue</th>\n",
       "      <td>0.000000</td>\n",
       "    </tr>\n",
       "    <tr>\n",
       "      <th>Gender</th>\n",
       "      <th>F vs F</th>\n",
       "      <td>0.000000</td>\n",
       "    </tr>\n",
       "    <tr>\n",
       "      <th rowspan=\"2\" valign=\"top\">1377</th>\n",
       "      <th>Card_Category</th>\n",
       "      <th>Blue vs Blue</th>\n",
       "      <td>0.000000</td>\n",
       "    </tr>\n",
       "    <tr>\n",
       "      <th>Gender</th>\n",
       "      <th>M vs F</th>\n",
       "      <td>-1903.634546</td>\n",
       "    </tr>\n",
       "    <tr>\n",
       "      <th rowspan=\"2\" valign=\"top\">3679</th>\n",
       "      <th>Card_Category</th>\n",
       "      <th>Blue vs Blue</th>\n",
       "      <td>0.000000</td>\n",
       "    </tr>\n",
       "    <tr>\n",
       "      <th>Gender</th>\n",
       "      <th>M vs F</th>\n",
       "      <td>-12518.349874</td>\n",
       "    </tr>\n",
       "    <tr>\n",
       "      <th rowspan=\"2\" valign=\"top\">5462</th>\n",
       "      <th>Card_Category</th>\n",
       "      <th>Blue vs Blue</th>\n",
       "      <td>0.000000</td>\n",
       "    </tr>\n",
       "    <tr>\n",
       "      <th>Gender</th>\n",
       "      <th>F vs F</th>\n",
       "      <td>0.000000</td>\n",
       "    </tr>\n",
       "    <tr>\n",
       "      <th rowspan=\"2\" valign=\"top\">884</th>\n",
       "      <th>Card_Category</th>\n",
       "      <th>Blue vs Blue</th>\n",
       "      <td>0.000000</td>\n",
       "    </tr>\n",
       "    <tr>\n",
       "      <th>Gender</th>\n",
       "      <th>M vs F</th>\n",
       "      <td>2078.378941</td>\n",
       "    </tr>\n",
       "  </tbody>\n",
       "</table>\n",
       "</div>"
      ],
      "text/plain": [
       "                                       effect\n",
       "4697 Card_Category Blue vs Blue      0.000000\n",
       "     Gender        F vs F            0.000000\n",
       "1377 Card_Category Blue vs Blue      0.000000\n",
       "     Gender        M vs F        -1903.634546\n",
       "3679 Card_Category Blue vs Blue      0.000000\n",
       "     Gender        M vs F       -12518.349874\n",
       "5462 Card_Category Blue vs Blue      0.000000\n",
       "     Gender        F vs F            0.000000\n",
       "884  Card_Category Blue vs Blue      0.000000\n",
       "     Gender        M vs F         2078.378941"
      ]
     },
     "execution_count": 21,
     "metadata": {},
     "output_type": "execute_result"
    }
   ],
   "source": [
    "why.individual_causal_effect(test_data.head(5))"
   ]
  },
  {
   "cell_type": "markdown",
   "id": "b20c9d9b-1661-47df-b4c7-84c4664629dd",
   "metadata": {
    "tags": []
   },
   "source": [
    "# WhatIf"
   ]
  },
  {
   "cell_type": "markdown",
   "id": "3e3a6175-2923-4e6c-a4ea-7da0451d988f",
   "metadata": {},
   "source": [
    "## Prepare data\n",
    "\n",
    "Select customers with Blue card and credit limit over 3000 as test data."
   ]
  },
  {
   "cell_type": "code",
   "execution_count": 22,
   "id": "684a994d-3e37-44d8-b69e-ff87ec575ba3",
   "metadata": {},
   "outputs": [
    {
     "data": {
      "text/html": [
       "<div>\n",
       "<style scoped>\n",
       "    .dataframe tbody tr th:only-of-type {\n",
       "        vertical-align: middle;\n",
       "    }\n",
       "\n",
       "    .dataframe tbody tr th {\n",
       "        vertical-align: top;\n",
       "    }\n",
       "\n",
       "    .dataframe thead th {\n",
       "        text-align: right;\n",
       "    }\n",
       "</style>\n",
       "<table border=\"1\" class=\"dataframe\">\n",
       "  <thead>\n",
       "    <tr style=\"text-align: right;\">\n",
       "      <th></th>\n",
       "      <th>Customer_Age</th>\n",
       "      <th>Gender</th>\n",
       "      <th>Dependent_count</th>\n",
       "      <th>Education_Level</th>\n",
       "      <th>Marital_Status</th>\n",
       "      <th>Income_Category</th>\n",
       "      <th>Card_Category</th>\n",
       "      <th>Months_on_book</th>\n",
       "      <th>Credit_Limit</th>\n",
       "      <th>Total_Trans_Amt</th>\n",
       "    </tr>\n",
       "  </thead>\n",
       "  <tbody>\n",
       "    <tr>\n",
       "      <th>4697</th>\n",
       "      <td>38</td>\n",
       "      <td>F</td>\n",
       "      <td>2</td>\n",
       "      <td>Uneducated</td>\n",
       "      <td>Single</td>\n",
       "      <td>$40K - $60K</td>\n",
       "      <td>Blue</td>\n",
       "      <td>31</td>\n",
       "      <td>12000</td>\n",
       "      <td>3831</td>\n",
       "    </tr>\n",
       "    <tr>\n",
       "      <th>1377</th>\n",
       "      <td>38</td>\n",
       "      <td>M</td>\n",
       "      <td>2</td>\n",
       "      <td>Graduate</td>\n",
       "      <td>Single</td>\n",
       "      <td>$40K - $60K</td>\n",
       "      <td>Blue</td>\n",
       "      <td>24</td>\n",
       "      <td>14000</td>\n",
       "      <td>1399</td>\n",
       "    </tr>\n",
       "    <tr>\n",
       "      <th>3679</th>\n",
       "      <td>47</td>\n",
       "      <td>M</td>\n",
       "      <td>3</td>\n",
       "      <td>Uneducated</td>\n",
       "      <td>Single</td>\n",
       "      <td>$80K - $120K</td>\n",
       "      <td>Blue</td>\n",
       "      <td>36</td>\n",
       "      <td>26000</td>\n",
       "      <td>3489</td>\n",
       "    </tr>\n",
       "    <tr>\n",
       "      <th>5502</th>\n",
       "      <td>43</td>\n",
       "      <td>M</td>\n",
       "      <td>3</td>\n",
       "      <td>Unknown</td>\n",
       "      <td>Divorced</td>\n",
       "      <td>$80K - $120K</td>\n",
       "      <td>Blue</td>\n",
       "      <td>36</td>\n",
       "      <td>12000</td>\n",
       "      <td>3902</td>\n",
       "    </tr>\n",
       "    <tr>\n",
       "      <th>3232</th>\n",
       "      <td>38</td>\n",
       "      <td>M</td>\n",
       "      <td>2</td>\n",
       "      <td>College</td>\n",
       "      <td>Single</td>\n",
       "      <td>$40K - $60K</td>\n",
       "      <td>Blue</td>\n",
       "      <td>20</td>\n",
       "      <td>10000</td>\n",
       "      <td>3812</td>\n",
       "    </tr>\n",
       "    <tr>\n",
       "      <th>...</th>\n",
       "      <td>...</td>\n",
       "      <td>...</td>\n",
       "      <td>...</td>\n",
       "      <td>...</td>\n",
       "      <td>...</td>\n",
       "      <td>...</td>\n",
       "      <td>...</td>\n",
       "      <td>...</td>\n",
       "      <td>...</td>\n",
       "      <td>...</td>\n",
       "    </tr>\n",
       "    <tr>\n",
       "      <th>4453</th>\n",
       "      <td>52</td>\n",
       "      <td>F</td>\n",
       "      <td>3</td>\n",
       "      <td>Graduate</td>\n",
       "      <td>Unknown</td>\n",
       "      <td>$40K - $60K</td>\n",
       "      <td>Blue</td>\n",
       "      <td>45</td>\n",
       "      <td>10000</td>\n",
       "      <td>3987</td>\n",
       "    </tr>\n",
       "    <tr>\n",
       "      <th>34</th>\n",
       "      <td>58</td>\n",
       "      <td>M</td>\n",
       "      <td>0</td>\n",
       "      <td>Graduate</td>\n",
       "      <td>Married</td>\n",
       "      <td>$80K - $120K</td>\n",
       "      <td>Blue</td>\n",
       "      <td>49</td>\n",
       "      <td>12000</td>\n",
       "      <td>1291</td>\n",
       "    </tr>\n",
       "    <tr>\n",
       "      <th>2952</th>\n",
       "      <td>26</td>\n",
       "      <td>M</td>\n",
       "      <td>0</td>\n",
       "      <td>Graduate</td>\n",
       "      <td>Divorced</td>\n",
       "      <td>Unknown</td>\n",
       "      <td>Blue</td>\n",
       "      <td>36</td>\n",
       "      <td>20000</td>\n",
       "      <td>2309</td>\n",
       "    </tr>\n",
       "    <tr>\n",
       "      <th>2906</th>\n",
       "      <td>54</td>\n",
       "      <td>M</td>\n",
       "      <td>2</td>\n",
       "      <td>Post-Graduate</td>\n",
       "      <td>Single</td>\n",
       "      <td>$60K - $80K</td>\n",
       "      <td>Blue</td>\n",
       "      <td>38</td>\n",
       "      <td>14000</td>\n",
       "      <td>3982</td>\n",
       "    </tr>\n",
       "    <tr>\n",
       "      <th>4504</th>\n",
       "      <td>44</td>\n",
       "      <td>M</td>\n",
       "      <td>4</td>\n",
       "      <td>Unknown</td>\n",
       "      <td>Single</td>\n",
       "      <td>$60K - $80K</td>\n",
       "      <td>Blue</td>\n",
       "      <td>36</td>\n",
       "      <td>18000</td>\n",
       "      <td>4537</td>\n",
       "    </tr>\n",
       "  </tbody>\n",
       "</table>\n",
       "<p>420 rows × 10 columns</p>\n",
       "</div>"
      ],
      "text/plain": [
       "      Customer_Age Gender  Dependent_count Education_Level Marital_Status  \\\n",
       "4697            38      F                2      Uneducated         Single   \n",
       "1377            38      M                2        Graduate         Single   \n",
       "3679            47      M                3      Uneducated         Single   \n",
       "5502            43      M                3         Unknown       Divorced   \n",
       "3232            38      M                2         College         Single   \n",
       "...            ...    ...              ...             ...            ...   \n",
       "4453            52      F                3        Graduate        Unknown   \n",
       "34              58      M                0        Graduate        Married   \n",
       "2952            26      M                0        Graduate       Divorced   \n",
       "2906            54      M                2   Post-Graduate         Single   \n",
       "4504            44      M                4         Unknown         Single   \n",
       "\n",
       "     Income_Category Card_Category  Months_on_book  Credit_Limit  \\\n",
       "4697     $40K - $60K          Blue              31         12000   \n",
       "1377     $40K - $60K          Blue              24         14000   \n",
       "3679    $80K - $120K          Blue              36         26000   \n",
       "5502    $80K - $120K          Blue              36         12000   \n",
       "3232     $40K - $60K          Blue              20         10000   \n",
       "...              ...           ...             ...           ...   \n",
       "4453     $40K - $60K          Blue              45         10000   \n",
       "34      $80K - $120K          Blue              49         12000   \n",
       "2952         Unknown          Blue              36         20000   \n",
       "2906     $60K - $80K          Blue              38         14000   \n",
       "4504     $60K - $80K          Blue              36         18000   \n",
       "\n",
       "      Total_Trans_Amt  \n",
       "4697             3831  \n",
       "1377             1399  \n",
       "3679             3489  \n",
       "5502             3902  \n",
       "3232             3812  \n",
       "...               ...  \n",
       "4453             3987  \n",
       "34               1291  \n",
       "2952             2309  \n",
       "2906             3982  \n",
       "4504             4537  \n",
       "\n",
       "[420 rows x 10 columns]"
      ]
     },
     "execution_count": 22,
     "metadata": {},
     "output_type": "execute_result"
    }
   ],
   "source": [
    "whatif_data= test_data[lambda df: df['Card_Category']=='Blue' ][lambda df: df['Credit_Limit']>=10000]\n",
    "whatif_data"
   ]
  },
  {
   "cell_type": "markdown",
   "id": "81cd32e2-aeaa-44ae-8aaf-c67ade558643",
   "metadata": {},
   "source": [
    "What happens if we change customer's blue card to sliver card? "
   ]
  },
  {
   "cell_type": "code",
   "execution_count": 23,
   "id": "9df185f9-d160-43cc-a85a-f1705dc9a72a",
   "metadata": {},
   "outputs": [
    {
     "name": "stdout",
     "output_type": "stream",
     "text": [
      "Selected customers: 420\n",
      "Mean \"Total_Trans_Amt\" with Blue card:\t4535.088\n",
      "Mean \"Total_Trans_Amt\" if Silver card:\t6147.899\n"
     ]
    },
    {
     "data": {
      "text/plain": [
       "<matplotlib.legend.Legend at 0x7fcbdfc93c10>"
      ]
     },
     "execution_count": 23,
     "metadata": {},
     "output_type": "execute_result"
    },
    {
     "data": {
      "image/png": "[encoded data removed]",
      "text/plain": [
       "<Figure size 576x360 with 1 Axes>"
      ]
     },
     "metadata": {
      "needs_background": "light"
     },
     "output_type": "display_data"
    }
   ],
   "source": [
    "new_value=whatif_data['Card_Category'].map(lambda _:'Silver')\n",
    "orig_out=whatif_data[outcome]\n",
    "new_out=why.whatif(whatif_data,new_value,treatment='Card_Category')\n",
    "\n",
    "\n",
    "\n",
    "print('Selected customers:', len(whatif_data))\n",
    "print(f'Mean \"{outcome}\" with Blue card:\\t{orig_out.mean():.3f}' )\n",
    "print(f'Mean \"{outcome}\" if Silver card:\\t{new_out.mean():.3f}' )\n",
    "\n",
    "plt.figure(figsize=(8, 5), )\n",
    "orig_out.hist(label='Blue card',bins=30,alpha=0.7)\n",
    "new_out.hist(label='Silver card',bins=30,alpha=0.7)\n",
    "plt.legend()"
   ]
  },
  {
   "cell_type": "code",
   "execution_count": null,
   "id": "780f800a-70f4-4a38-b0b5-40edfe6430c7",
   "metadata": {},
   "outputs": [],
   "source": []
  },
  {
   "cell_type": "code",
   "execution_count": 26,
   "id": "e607bbbb-adbc-4be2-8025-107405d9ffe7",
   "metadata": {},
   "outputs": [],
   "source": [
    "# t= test_data[lambda df: df['Card_Category']=='Silver' ] #[lambda df: df['Credit_Limit']>3000][lambda df: df['Credit_Limit']<5000]"
   ]
  },
  {
   "cell_type": "code",
   "execution_count": 27,
   "id": "2eae3b9d-5dd3-4f0e-8304-269a16ee6d72",
   "metadata": {},
   "outputs": [],
   "source": [
    "# test_data[lambda df: df['Card_Category']=='Blue' ]['Credit_Limit'].hist()"
   ]
  },
  {
   "cell_type": "code",
   "execution_count": null,
   "id": "f132f57f-ba29-4674-b529-b23c39624c98",
   "metadata": {},
   "outputs": [],
   "source": []
  }
 ],
 "metadata": {
  "kernelspec": {
   "display_name": "Python 3 (ipykernel)",
   "language": "python",
   "name": "python3"
  },
  "language_info": {
   "codemirror_mode": {
    "name": "ipython",
    "version": 3
   },
   "file_extension": ".py",
   "mimetype": "text/x-python",
   "name": "python",
   "nbconvert_exporter": "python",
   "pygments_lexer": "ipython3",
   "version": "3.8.13"
  }
 },
 "nbformat": 4,
 "nbformat_minor": 5
}
