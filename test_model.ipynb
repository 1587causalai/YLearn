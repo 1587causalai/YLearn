{
 "cells": [
  {
   "cell_type": "code",
   "execution_count": 1,
   "metadata": {},
   "outputs": [],
   "source": [
    "import networkx as nx\n",
    "from causal_model import model, graph"
   ]
  },
  {
   "cell_type": "markdown",
   "metadata": {},
   "source": [
    "## The first test example of the id method. \n",
    "\n",
    "### Initialization."
   ]
  },
  {
   "cell_type": "code",
   "execution_count": 2,
   "metadata": {},
   "outputs": [],
   "source": [
    "# Construct the causal graph for the causal model\n",
    "causation = {\n",
    "    'X': ['W'],\n",
    "    'Z': ['X', 'W'],\n",
    "    'W': [],\n",
    "    'Y': ['Z'],\n",
    "}\n",
    "arc = [('X', 'Y')]\n",
    "cg = graph.CausalGraph(causation, latent_confounding_arcs=arc)"
   ]
  },
  {
   "cell_type": "code",
   "execution_count": 3,
   "metadata": {},
   "outputs": [],
   "source": [
    "cm = model.CausalModel(causal_graph=cg)"
   ]
  },
  {
   "cell_type": "markdown",
   "metadata": {},
   "source": [
    "### id method."
   ]
  },
  {
   "cell_type": "code",
   "execution_count": 4,
   "metadata": {},
   "outputs": [
    {
     "name": "stdout",
     "output_type": "stream",
     "text": [
      "line 4\n",
      "line 2, var {'W'}\n",
      "line 1, var {'W'}\n",
      "line 2, var {'X', 'W', 'Z'}\n",
      "line 6\n",
      "line 7\n",
      "line 2, var set()\n",
      "line 1, var set()\n"
     ]
    }
   ],
   "source": [
    "# Test the identification method\n",
    "p = cm.id({'Y'}, {'X'})"
   ]
  },
  {
   "cell_type": "code",
   "execution_count": 5,
   "metadata": {},
   "outputs": [
    {
     "data": {
      "text/plain": [
       "set()"
      ]
     },
     "execution_count": 5,
     "metadata": {},
     "output_type": "execute_result"
    }
   ],
   "source": [
    "p.variables\n",
    "p.conditional"
   ]
  },
  {
   "cell_type": "code",
   "execution_count": 6,
   "metadata": {},
   "outputs": [
    {
     "data": {
      "text/plain": [
       "{'W', 'Z'}"
      ]
     },
     "execution_count": 6,
     "metadata": {},
     "output_type": "execute_result"
    }
   ],
   "source": [
    "p.marginal"
   ]
  },
  {
   "cell_type": "code",
   "execution_count": 7,
   "metadata": {},
   "outputs": [
    {
     "name": "stdout",
     "output_type": "stream",
     "text": [
      "var set()\n",
      "cond set()\n",
      "mar set()\n",
      "sub var {'Z'}\n",
      "sub cond {'W', 'X'}\n",
      "sub mar set()\n",
      "var set()\n",
      "cond set()\n",
      "mar {'X'}\n",
      "sub var {'X'}\n",
      "sub cond {'W'}\n",
      "sub mar set()\n",
      "sub var {'Y'}\n",
      "sub cond {'X', 'W', 'Z'}\n",
      "sub mar set()\n",
      "var {'W'}\n",
      "cond set()\n",
      "mar set()\n"
     ]
    }
   ],
   "source": [
    "for p_ in p.product:\n",
    "    print(f'var {p_.variables}')\n",
    "    print(f'cond {p_.conditional}')\n",
    "    print(f'mar {p_.marginal}')\n",
    "    for p__ in p_.product:\n",
    "        print(f'sub var {p__.variables}')\n",
    "        print(f'sub cond {p__.conditional}')\n",
    "        print(f'sub mar {p__.marginal}')\n",
    "        if p__.product:\n",
    "            for z in p__.product:\n",
    "                print(f'subsub var {z.variables}')\n",
    "                print(f'subsub maar {z.arginal}')\n",
    "                print(f'subsub prod {z.product}')"
   ]
  },
  {
   "cell_type": "markdown",
   "metadata": {},
   "source": [
    "### Final result.\n",
    "\n",
    "The above expressions are combined to give the final result:\n",
    "\n",
    "\\begin{equation}\n",
    "P(y|do(x)) = \\sum_{w, z} P(w)P(z|x, w)\\sum_{x} P(x|w)P(y|x,w,z)\n",
    "\\end{equation}\n",
    "\n",
    "Exactly the desired one."
   ]
  },
  {
   "cell_type": "markdown",
   "metadata": {},
   "source": [
    "## The second test example of the id method."
   ]
  },
  {
   "cell_type": "code",
   "execution_count": 8,
   "metadata": {},
   "outputs": [],
   "source": [
    "causation1 = {\n",
    "    'X': ['Z1'],\n",
    "    'Z1': [],\n",
    "    'Z2': ['X'],\n",
    "    'Y': ['Z2'],\n",
    "}\n",
    "arcs1 = [('X', 'Z1'), ('Z1', 'Z2'), ('Z1', 'Y'), ('X', 'Y')]\n",
    "cg1 = graph.CausalGraph(causation1, latent_confounding_arcs=arcs1)\n",
    "cm1 = model.CausalModel(cg1)"
   ]
  },
  {
   "cell_type": "code",
   "execution_count": 9,
   "metadata": {},
   "outputs": [
    {
     "name": "stdout",
     "output_type": "stream",
     "text": [
      "line3\n",
      "line 4\n",
      "line 2, var {'X', 'Z1', 'Z2'}\n",
      "line 5\n"
     ]
    },
    {
     "ename": "IdentificationError",
     "evalue": "The causal quantity is not identifiable in thecurrent graph.",
     "output_type": "error",
     "traceback": [
      "\u001b[0;31m---------------------------------------------------------------------------\u001b[0m",
      "\u001b[0;31mIdentificationError\u001b[0m                       Traceback (most recent call last)",
      "\u001b[0;32m/var/folders/sf/4v_dc8756mb7lsc2stqj1zjw0000gn/T/ipykernel_3725/4082988497.py\u001b[0m in \u001b[0;36m<module>\u001b[0;34m\u001b[0m\n\u001b[0;32m----> 1\u001b[0;31m \u001b[0mcm1\u001b[0m\u001b[0;34m.\u001b[0m\u001b[0mid\u001b[0m\u001b[0;34m(\u001b[0m\u001b[0;34m{\u001b[0m\u001b[0;34m'Y'\u001b[0m\u001b[0;34m}\u001b[0m\u001b[0;34m,\u001b[0m \u001b[0;34m{\u001b[0m\u001b[0;34m'X'\u001b[0m\u001b[0;34m}\u001b[0m\u001b[0;34m)\u001b[0m\u001b[0;34m\u001b[0m\u001b[0;34m\u001b[0m\u001b[0m\n\u001b[0m",
      "\u001b[0;32m~/Documents/DataCanvas/ylearn/causal_model/model.py\u001b[0m in \u001b[0;36mid\u001b[0;34m(self, y, x, prob, graph)\u001b[0m\n\u001b[1;32m    190\u001b[0m         \u001b[0;32mif\u001b[0m \u001b[0mw\u001b[0m\u001b[0;34m:\u001b[0m\u001b[0;34m\u001b[0m\u001b[0;34m\u001b[0m\u001b[0m\n\u001b[1;32m    191\u001b[0m             \u001b[0mprint\u001b[0m\u001b[0;34m(\u001b[0m\u001b[0;34m'line3'\u001b[0m\u001b[0;34m)\u001b[0m\u001b[0;34m\u001b[0m\u001b[0;34m\u001b[0m\u001b[0m\n\u001b[0;32m--> 192\u001b[0;31m             \u001b[0;32mreturn\u001b[0m \u001b[0mself\u001b[0m\u001b[0;34m.\u001b[0m\u001b[0mid\u001b[0m\u001b[0;34m(\u001b[0m\u001b[0my\u001b[0m\u001b[0;34m,\u001b[0m \u001b[0mx\u001b[0m\u001b[0;34m.\u001b[0m\u001b[0munion\u001b[0m\u001b[0;34m(\u001b[0m\u001b[0mw\u001b[0m\u001b[0;34m)\u001b[0m\u001b[0;34m,\u001b[0m \u001b[0mprob\u001b[0m\u001b[0;34m,\u001b[0m \u001b[0mgraph\u001b[0m\u001b[0;34m)\u001b[0m\u001b[0;34m\u001b[0m\u001b[0;34m\u001b[0m\u001b[0m\n\u001b[0m\u001b[1;32m    193\u001b[0m \u001b[0;34m\u001b[0m\u001b[0m\n\u001b[1;32m    194\u001b[0m         \u001b[0;31m# 4\u001b[0m\u001b[0;34m\u001b[0m\u001b[0;34m\u001b[0m\u001b[0;34m\u001b[0m\u001b[0m\n",
      "\u001b[0;32m~/Documents/DataCanvas/ylearn/causal_model/model.py\u001b[0m in \u001b[0;36mid\u001b[0;34m(self, y, x, prob, graph)\u001b[0m\n\u001b[1;32m    199\u001b[0m             \u001b[0;32mfor\u001b[0m \u001b[0msubset\u001b[0m \u001b[0;32min\u001b[0m \u001b[0mc\u001b[0m\u001b[0;34m:\u001b[0m\u001b[0;34m\u001b[0m\u001b[0;34m\u001b[0m\u001b[0m\n\u001b[1;32m    200\u001b[0m                 product_expressioin.add(\n\u001b[0;32m--> 201\u001b[0;31m                     \u001b[0mself\u001b[0m\u001b[0;34m.\u001b[0m\u001b[0mid\u001b[0m\u001b[0;34m(\u001b[0m\u001b[0msubset\u001b[0m\u001b[0;34m,\u001b[0m \u001b[0mv\u001b[0m\u001b[0;34m.\u001b[0m\u001b[0mdifference\u001b[0m\u001b[0;34m(\u001b[0m\u001b[0msubset\u001b[0m\u001b[0;34m)\u001b[0m\u001b[0;34m,\u001b[0m \u001b[0mprob\u001b[0m\u001b[0;34m,\u001b[0m \u001b[0mgraph\u001b[0m\u001b[0;34m)\u001b[0m\u001b[0;34m\u001b[0m\u001b[0;34m\u001b[0m\u001b[0m\n\u001b[0m\u001b[1;32m    202\u001b[0m                 )\n\u001b[1;32m    203\u001b[0m             return Prob(\n",
      "\u001b[0;32m~/Documents/DataCanvas/ylearn/causal_model/model.py\u001b[0m in \u001b[0;36mid\u001b[0;34m(self, y, x, prob, graph)\u001b[0m\n\u001b[1;32m    182\u001b[0m                 \u001b[0mprob_\u001b[0m\u001b[0;34m.\u001b[0m\u001b[0mvariables\u001b[0m \u001b[0;34m=\u001b[0m \u001b[0mancestor\u001b[0m\u001b[0;34m\u001b[0m\u001b[0;34m\u001b[0m\u001b[0m\n\u001b[1;32m    183\u001b[0m             \u001b[0mprint\u001b[0m\u001b[0;34m(\u001b[0m\u001b[0;34mf'line 2, var {prob_.variables}'\u001b[0m\u001b[0;34m)\u001b[0m\u001b[0;34m\u001b[0m\u001b[0;34m\u001b[0m\u001b[0m\n\u001b[0;32m--> 184\u001b[0;31m             \u001b[0;32mreturn\u001b[0m \u001b[0mself\u001b[0m\u001b[0;34m.\u001b[0m\u001b[0mid\u001b[0m\u001b[0;34m(\u001b[0m\u001b[0my\u001b[0m\u001b[0;34m,\u001b[0m \u001b[0mx\u001b[0m\u001b[0;34m.\u001b[0m\u001b[0mintersection\u001b[0m\u001b[0;34m(\u001b[0m\u001b[0mancestor\u001b[0m\u001b[0;34m)\u001b[0m\u001b[0;34m,\u001b[0m \u001b[0mprob_\u001b[0m\u001b[0;34m,\u001b[0m \u001b[0man_graph\u001b[0m\u001b[0;34m)\u001b[0m\u001b[0;34m\u001b[0m\u001b[0;34m\u001b[0m\u001b[0m\n\u001b[0m\u001b[1;32m    185\u001b[0m \u001b[0;34m\u001b[0m\u001b[0m\n\u001b[1;32m    186\u001b[0m         \u001b[0;31m# 3\u001b[0m\u001b[0;34m\u001b[0m\u001b[0;34m\u001b[0m\u001b[0;34m\u001b[0m\u001b[0m\n",
      "\u001b[0;32m~/Documents/DataCanvas/ylearn/causal_model/model.py\u001b[0m in \u001b[0;36mid\u001b[0;34m(self, y, x, prob, graph)\u001b[0m\n\u001b[1;32m    210\u001b[0m             \u001b[0;32mif\u001b[0m \u001b[0mcg\u001b[0m\u001b[0;34m[\u001b[0m\u001b[0;36m0\u001b[0m\u001b[0;34m]\u001b[0m \u001b[0;34m==\u001b[0m \u001b[0mset\u001b[0m\u001b[0;34m(\u001b[0m\u001b[0mgraph\u001b[0m\u001b[0;34m.\u001b[0m\u001b[0mdag\u001b[0m\u001b[0;34m.\u001b[0m\u001b[0mnodes\u001b[0m\u001b[0;34m)\u001b[0m\u001b[0;34m:\u001b[0m\u001b[0;34m\u001b[0m\u001b[0;34m\u001b[0m\u001b[0m\n\u001b[1;32m    211\u001b[0m                 \u001b[0mprint\u001b[0m\u001b[0;34m(\u001b[0m\u001b[0;34m'line 5'\u001b[0m\u001b[0;34m)\u001b[0m\u001b[0;34m\u001b[0m\u001b[0;34m\u001b[0m\u001b[0m\n\u001b[0;32m--> 212\u001b[0;31m                 raise IdentificationError(\n\u001b[0m\u001b[1;32m    213\u001b[0m                     \u001b[0;34m'The causal quantity is not identifiable in the'\u001b[0m\u001b[0;34m\u001b[0m\u001b[0;34m\u001b[0m\u001b[0m\n\u001b[1;32m    214\u001b[0m                     \u001b[0;34m'current graph.'\u001b[0m\u001b[0;34m\u001b[0m\u001b[0;34m\u001b[0m\u001b[0m\n",
      "\u001b[0;31mIdentificationError\u001b[0m: The causal quantity is not identifiable in thecurrent graph."
     ]
    }
   ],
   "source": [
    "cm1.id({'Y'}, {'X'})"
   ]
  },
  {
   "cell_type": "markdown",
   "metadata": {},
   "source": [
    "### The causal effect in the above example can not be identified. The id method gives us exactly what we want.\n",
    "\n",
    "## Now we run the third example."
   ]
  },
  {
   "cell_type": "code",
   "execution_count": 10,
   "metadata": {},
   "outputs": [],
   "source": [
    "causation2 = {\n",
    "    'W1': [],\n",
    "    'W2': [],\n",
    "    'X': ['W1'],\n",
    "    'Y1': ['X'],\n",
    "    'Y2': ['W2']\n",
    "}\n",
    "arcs2 = [('W1', 'Y1'), ('W1', 'W2'), ('W1', 'Y2'), ('W1', 'Y1')]\n",
    "cg2 = graph.CausalGraph(causation2, latent_confounding_arcs=arcs2)\n",
    "cm2 = model.CausalModel(cg2)"
   ]
  },
  {
   "cell_type": "code",
   "execution_count": 11,
   "metadata": {},
   "outputs": [
    {
     "name": "stdout",
     "output_type": "stream",
     "text": [
      "line3\n",
      "line 4\n",
      "line 2, var {'Y1', 'X', 'W1'}\n",
      "line 7\n",
      "line 2, var set()\n",
      "line 1, var set()\n",
      "line 2, var {'W2'}\n",
      "line 1, var {'W2'}\n",
      "line 2, var {'W2', 'Y2'}\n",
      "line 6\n"
     ]
    }
   ],
   "source": [
    "p1 = cm2.id({'Y1', 'Y2'}, {'X'})"
   ]
  },
  {
   "cell_type": "code",
   "execution_count": 12,
   "metadata": {},
   "outputs": [
    {
     "data": {
      "text/plain": [
       "{'W2'}"
      ]
     },
     "execution_count": 12,
     "metadata": {},
     "output_type": "execute_result"
    }
   ],
   "source": [
    "p1.variables\n",
    "p1.marginal"
   ]
  },
  {
   "cell_type": "code",
   "execution_count": 25,
   "metadata": {},
   "outputs": [
    {
     "data": {
      "text/plain": [
       "{'W2', 'X', 'Y1', 'Y2'}"
      ]
     },
     "execution_count": 25,
     "metadata": {},
     "output_type": "execute_result"
    }
   ],
   "source": [
    "cm2.causal_graph.remove_incoming_edges({'X'}, new=True).ancestors({'Y1', 'Y2'})"
   ]
  },
  {
   "cell_type": "code",
   "execution_count": 26,
   "metadata": {},
   "outputs": [
    {
     "data": {
      "text/plain": [
       "[{'Y1'}, {'W2'}, {'Y2'}]"
      ]
     },
     "execution_count": 26,
     "metadata": {},
     "output_type": "execute_result"
    }
   ],
   "source": [
    "list(cm2.causal_graph.remove_nodes({'X', 'W1'}, new=True).c_components)"
   ]
  },
  {
   "cell_type": "code",
   "execution_count": 17,
   "metadata": {},
   "outputs": [],
   "source": [
    "l = list(p1.product)"
   ]
  },
  {
   "cell_type": "code",
   "execution_count": 14,
   "metadata": {},
   "outputs": [
    {
     "name": "stdout",
     "output_type": "stream",
     "text": [
      "var set()\n",
      "cond set()\n",
      "mar set()\n",
      "sub var {'Y2'}\n",
      "sub cond {'W2'}\n",
      "sub mar set()\n",
      "var set()\n",
      "cond set()\n",
      "mar {'W1'}\n",
      "sub var {'W1'}\n",
      "sub cond set()\n",
      "sub mar set()\n",
      "sub var {'Y1'}\n",
      "sub cond {'W1', 'X'}\n",
      "sub mar set()\n",
      "var {'W2'}\n",
      "cond set()\n",
      "mar set()\n"
     ]
    }
   ],
   "source": [
    "for p_ in p1.product:\n",
    "    print(f'var {p_.variables}')\n",
    "    print(f'cond {p_.conditional}')\n",
    "    print(f'mar {p_.marginal}')\n",
    "    for p__ in p_.product:\n",
    "        print(f'sub var {p__.variables}')\n",
    "        print(f'sub cond {p__.conditional}')\n",
    "        print(f'sub mar {p__.marginal}')\n",
    "        if p__.product:\n",
    "            for z in p__.product:\n",
    "                print(f'subsub var {z.variables}')\n",
    "                print(f'subsub maar {z.arginal}')\n",
    "                print(f'subsub prod {z.product}')"
   ]
  },
  {
   "cell_type": "markdown",
   "metadata": {},
   "source": [
    "The above result gives us the following expression\n",
    "\n",
    "\\begin{align*}\n",
    "    P(y_1, y_2 |do(x)) &= \\sum_{w_2} P(y_2|w_2)\\sum_{w_1}P(w_1)P(y_1|w_1, x)P(w_2) \\\\\n",
    "                        & = \\sum_{w_2}P(y_2, w_2)\\sum_{w_1}P(w_1)P(y_1|w_1, x)\n",
    "\\end{align*}\n",
    "\n",
    "Also correct, except that there are some minor issues."
   ]
  },
  {
   "cell_type": "markdown",
   "metadata": {},
   "source": [
    "# We now test other methods.\n",
    "\n",
    "## Start from the backdoor."
   ]
  },
  {
   "cell_type": "code",
   "execution_count": 1,
   "metadata": {},
   "outputs": [],
   "source": [
    "import networkx as nx\n",
    "from causal_model import model, graph\n",
    "causation3 = {\n",
    "    'X1': [],\n",
    "    'X2': [],\n",
    "    'X3': ['X1'],\n",
    "    'X4': ['X1', 'X2'],\n",
    "    'X5': ['X2'],\n",
    "    'X6': ['X'],\n",
    "    'X': ['X3', 'X4'],\n",
    "    'Y': ['X6', 'X4', 'X5']\n",
    "}\n",
    "cg3 = graph.CausalGraph(causation3)\n",
    "cm3 = model.CausalModel(cg3)"
   ]
  },
  {
   "cell_type": "code",
   "execution_count": 2,
   "metadata": {},
   "outputs": [
    {
     "name": "stdout",
     "output_type": "stream",
     "text": [
      "The corresponding statistical estimand should be Not implemented yet.)\n"
     ]
    },
    {
     "data": {
      "text/plain": [
       "(['X3', 'X4'], <causal_model.prob.Prob at 0x7f9c282918e0>)"
      ]
     },
     "execution_count": 2,
     "metadata": {},
     "output_type": "execute_result"
    }
   ],
   "source": [
    "cm3.identify({'X'}, {'Y'}, identify_method=('backdoor', 'simple'))"
   ]
  },
  {
   "cell_type": "code",
   "execution_count": 3,
   "metadata": {},
   "outputs": [
    {
     "name": "stdout",
     "output_type": "stream",
     "text": [
      "The corresponding statistical estimand should be Not implemented yet.)\n"
     ]
    },
    {
     "data": {
      "text/plain": [
       "([{'X2', 'X4'},\n",
       "  {'X3', 'X4'},\n",
       "  {'X1', 'X4'},\n",
       "  {'X4', 'X5'},\n",
       "  {'X2', 'X3', 'X4'},\n",
       "  {'X1', 'X2', 'X4'},\n",
       "  {'X2', 'X4', 'X5'},\n",
       "  {'X1', 'X3', 'X4'},\n",
       "  {'X3', 'X4', 'X5'},\n",
       "  {'X1', 'X4', 'X5'},\n",
       "  {'X1', 'X2', 'X3', 'X4'},\n",
       "  {'X2', 'X3', 'X4', 'X5'},\n",
       "  {'X1', 'X2', 'X4', 'X5'},\n",
       "  {'X1', 'X3', 'X4', 'X5'},\n",
       "  {'X1', 'X2', 'X3', 'X4', 'X5'}],\n",
       " <causal_model.prob.Prob at 0x7f9c25be0af0>)"
      ]
     },
     "execution_count": 3,
     "metadata": {},
     "output_type": "execute_result"
    }
   ],
   "source": [
    "cm3.identify({'X'}, {'Y'}, identify_method=('backdoor', 'all'))"
   ]
  },
  {
   "cell_type": "code",
   "execution_count": 4,
   "metadata": {},
   "outputs": [
    {
     "name": "stdout",
     "output_type": "stream",
     "text": [
      "The corresponding statistical estimand should be Not implemented yet.)\n"
     ]
    },
    {
     "data": {
      "text/plain": [
       "({'X2', 'X4'}, <causal_model.prob.Prob at 0x7f9c28291400>)"
      ]
     },
     "execution_count": 4,
     "metadata": {},
     "output_type": "execute_result"
    }
   ],
   "source": [
    "cm3.identify({'X'}, {'Y'}, identify_method=('backdoor', 'minimal'))"
   ]
  },
  {
   "cell_type": "markdown",
   "metadata": {},
   "source": [
    "### Verified. Now test other methods related to backdoor adjustment."
   ]
  },
  {
   "cell_type": "code",
   "execution_count": 5,
   "metadata": {},
   "outputs": [
    {
     "data": {
      "text/plain": [
       "True"
      ]
     },
     "execution_count": 5,
     "metadata": {},
     "output_type": "execute_result"
    }
   ],
   "source": [
    "cm3.is_valid_backdoor_set({'X1', 'X4'}, {'X'}, {'Y'})"
   ]
  },
  {
   "cell_type": "code",
   "execution_count": 6,
   "metadata": {},
   "outputs": [
    {
     "data": {
      "text/plain": [
       "False"
      ]
     },
     "execution_count": 6,
     "metadata": {},
     "output_type": "execute_result"
    }
   ],
   "source": [
    "cm3.is_valid_backdoor_set({'X4'}, 'X', 'Y')"
   ]
  },
  {
   "cell_type": "code",
   "execution_count": 7,
   "metadata": {},
   "outputs": [
    {
     "data": {
      "text/plain": [
       "[['X', 'X3', 'X1', 'X4', 'Y'],\n",
       " ['X', 'X3', 'X1', 'X4', 'X2', 'X5', 'Y'],\n",
       " ['X', 'X4', 'Y'],\n",
       " ['X', 'X4', 'X2', 'X5', 'Y']]"
      ]
     },
     "execution_count": 7,
     "metadata": {},
     "output_type": "execute_result"
    }
   ],
   "source": [
    "cm3.get_backdoor_path('X', 'Y')"
   ]
  },
  {
   "cell_type": "code",
   "execution_count": 8,
   "metadata": {},
   "outputs": [
    {
     "data": {
      "text/plain": [
       "True"
      ]
     },
     "execution_count": 8,
     "metadata": {},
     "output_type": "execute_result"
    }
   ],
   "source": [
    "cm3.has_collider(['X', 'X3', 'X1', 'X4', 'X2', 'X5', 'Y'])"
   ]
  },
  {
   "cell_type": "code",
   "execution_count": 9,
   "metadata": {},
   "outputs": [
    {
     "data": {
      "text/plain": [
       "True"
      ]
     },
     "execution_count": 9,
     "metadata": {},
     "output_type": "execute_result"
    }
   ],
   "source": [
    "cm3.is_connected_backdoor_path(['X', 'X4', 'X2', 'X5', 'Y'])"
   ]
  },
  {
   "cell_type": "markdown",
   "metadata": {},
   "source": [
    "## Now test methods related to frontdoor adjustment."
   ]
  },
  {
   "cell_type": "code",
   "execution_count": 10,
   "metadata": {},
   "outputs": [],
   "source": [
    "causation4 = {\n",
    "    'X': [],\n",
    "    'Z': ['X'],\n",
    "    'Y': ['Z']\n",
    "}\n",
    "arcs4 = [('X', 'Y')]\n",
    "cg4 = graph.CausalGraph(causation4, latent_confounding_arcs=arcs4)\n",
    "cm4 = model.CausalModel(cg4)"
   ]
  },
  {
   "cell_type": "code",
   "execution_count": 11,
   "metadata": {},
   "outputs": [
    {
     "data": {
      "text/plain": [
       "[['X', 'U0', 'Y', 'Z']]"
      ]
     },
     "execution_count": 11,
     "metadata": {},
     "output_type": "execute_result"
    }
   ],
   "source": [
    "cm4.get_backdoor_path('X', 'Z')"
   ]
  },
  {
   "cell_type": "code",
   "execution_count": 12,
   "metadata": {},
   "outputs": [
    {
     "data": {
      "text/plain": [
       "False"
      ]
     },
     "execution_count": 12,
     "metadata": {},
     "output_type": "execute_result"
    }
   ],
   "source": [
    "cm4.has_collider(['Z', 'X', 'U0', 'Y'])"
   ]
  },
  {
   "cell_type": "code",
   "execution_count": 13,
   "metadata": {},
   "outputs": [
    {
     "data": {
      "text/plain": [
       "True"
      ]
     },
     "execution_count": 13,
     "metadata": {},
     "output_type": "execute_result"
    }
   ],
   "source": [
    "cm4.is_connected_backdoor_path(['Z', 'X', 'U0', 'Y'])"
   ]
  },
  {
   "cell_type": "code",
   "execution_count": 14,
   "metadata": {},
   "outputs": [
    {
     "data": {
      "text/plain": [
       "True"
      ]
     },
     "execution_count": 14,
     "metadata": {},
     "output_type": "execute_result"
    }
   ],
   "source": [
    "cm4.is_valid_backdoor_set({'X'}, {'Z'}, {'Y'})"
   ]
  },
  {
   "cell_type": "code",
   "execution_count": 15,
   "metadata": {},
   "outputs": [
    {
     "data": {
      "text/plain": [
       "True"
      ]
     },
     "execution_count": 15,
     "metadata": {},
     "output_type": "execute_result"
    }
   ],
   "source": [
    "cm4.is_frontdoor_set({'Z'}, 'X', 'Y')"
   ]
  },
  {
   "cell_type": "code",
   "execution_count": 16,
   "metadata": {},
   "outputs": [
    {
     "data": {
      "text/plain": [
       "({'Z'}, <causal_model.prob.Prob at 0x7f9c282be9d0>)"
      ]
     },
     "execution_count": 16,
     "metadata": {},
     "output_type": "execute_result"
    }
   ],
   "source": [
    "cm4.get_frontdoor_set('X', 'Y')"
   ]
  },
  {
   "cell_type": "code",
   "execution_count": null,
   "metadata": {},
   "outputs": [],
   "source": []
  }
 ],
 "metadata": {
  "interpreter": {
   "hash": "e0ecfad75f99b8578830c76494b15e8b8f0ed30d484e3d7b0b2aac43eb800e14"
  },
  "kernelspec": {
   "display_name": "Python 3.8.12 64-bit ('causal': conda)",
   "language": "python",
   "name": "python3"
  },
  "language_info": {
   "codemirror_mode": {
    "name": "ipython",
    "version": 3
   },
   "file_extension": ".py",
   "mimetype": "text/x-python",
   "name": "python",
   "nbconvert_exporter": "python",
   "pygments_lexer": "ipython3",
   "version": "3.8.12"
  },
  "orig_nbformat": 4
 },
 "nbformat": 4,
 "nbformat_minor": 2
}
